{
 "cells": [
  {
   "cell_type": "code",
   "execution_count": 1,
   "id": "44b42709",
   "metadata": {},
   "outputs": [],
   "source": [
    "import cobra\n",
    "from cobra.io import load_json_model, save_json_model\n",
    "from cobra import Model, Reaction, Metabolite\n",
    "import numpy as np\n",
    "import pandas as pd\n",
    "from matplotlib import pyplot as plt\n",
    "from matplotlib_venn import venn2, venn3\n",
    "from cobra.flux_analysis import gapfill"
   ]
  },
  {
   "cell_type": "code",
   "execution_count": 2,
   "id": "9782db14",
   "metadata": {},
   "outputs": [],
   "source": [
    "recon1 = load_json_model('../data/gems/RECON1.json')\n",
    "icho = load_json_model('../data/gems/iCHOv1.json')\n",
    "recon1_gene_dict = {gene.name: gene.id for gene in recon1.genes }\n",
    "icho_gene_dict = {gene.name: gene.id for gene in icho.genes}\n",
    "recon1_match = pd.read_csv('../data/blast_results/recon1_match.csv')\n",
    "icho_match = pd.read_csv('../data/blast_results/icho_match.csv')"
   ]
  },
  {
   "cell_type": "code",
   "execution_count": 5,
   "id": "d27c0b32",
   "metadata": {},
   "outputs": [
    {
     "data": {
      "text/html": [
       "\n",
       "        <table>\n",
       "            <tr>\n",
       "                <td><strong>Reaction identifier</strong></td><td>PIt</td>\n",
       "            </tr><tr>\n",
       "                <td><strong>Name</strong></td><td>Inorganic phosphate exchange, diffusion</td>\n",
       "            </tr><tr>\n",
       "                <td><strong>Memory address</strong></td>\n",
       "                <td>0x07faff187ba90</td>\n",
       "            </tr><tr>\n",
       "                <td><strong>Stoichiometry</strong></td>\n",
       "                <td>\n",
       "                    <p style='text-align:right'>pi_c --> pi_e</p>\n",
       "                    <p style='text-align:right'>Phosphate --> Phosphate</p>\n",
       "                </td>\n",
       "            </tr><tr>\n",
       "                <td><strong>GPR</strong></td><td></td>\n",
       "            </tr><tr>\n",
       "                <td><strong>Lower bound</strong></td><td>0.0</td>\n",
       "            </tr><tr>\n",
       "                <td><strong>Upper bound</strong></td><td>1000.0</td>\n",
       "            </tr>\n",
       "        </table>\n",
       "        "
      ],
      "text/plain": [
       "<Reaction PIt at 0x7faff187ba90>"
      ]
     },
     "execution_count": 5,
     "metadata": {},
     "output_type": "execute_result"
    }
   ],
   "source": [
    "icho.reactions.PIt"
   ]
  },
  {
   "cell_type": "markdown",
   "id": "839bb3cb",
   "metadata": {},
   "source": [
    "# Draft reconstruction"
   ]
  },
  {
   "cell_type": "code",
   "execution_count": 28,
   "id": "3e0b3982",
   "metadata": {},
   "outputs": [],
   "source": [
    "def get_gene_states(rxn, match_table):\n",
    "    output={}\n",
    "    for gene in list(rxn.genes):\n",
    "        if gene.name in list(match_table['query']):\n",
    "            output[gene.id]='True'\n",
    "        else:\n",
    "            output[gene.id]='False'\n",
    "    return output\n",
    "            \n",
    "def gpr_to_boolean(gpr_rule, gene_states):\n",
    "    for gene, state in gene_states.items():\n",
    "        gpr_rule = gpr_rule.replace(gene, str(state))\n",
    "    return eval(gpr_rule) "
   ]
  },
  {
   "cell_type": "code",
   "execution_count": 29,
   "id": "4b78461b",
   "metadata": {},
   "outputs": [
    {
     "name": "stdout",
     "output_type": "stream",
     "text": [
      "3124\n",
      "2264\n"
     ]
    }
   ],
   "source": [
    "genes_icho = list(np.unique(icho_match['query']))\n",
    "# print(len(genes_icho))\n",
    "genes_recon1 = list(np.unique(recon1_match['query']))\n",
    "# print(len(genes_recon1 ))\n",
    "\n",
    "rxns_icho, rxns_recon1 = [],[]\n",
    "for g in genes_icho:\n",
    "    for rxn in list( icho.genes.get_by_id( icho_gene_dict[g] ).reactions ):\n",
    "        if gpr_to_boolean(rxn.gene_reaction_rule, get_gene_states(rxn, icho_match )):\n",
    "            rxns_icho.append( rxn.id)\n",
    "for g in genes_recon1:\n",
    "    for rxn in list(recon1.genes.get_by_id( recon1_gene_dict[g] ).reactions ):\n",
    "        if rxn.id in ['PPCOAOm','ACOAD1fm','ACOAD9m']:\n",
    "            rxns_recon1.append(rxn.id) #special case\n",
    "        elif gpr_to_boolean(rxn.gene_reaction_rule, get_gene_states(rxn, recon1_match )):\n",
    "            rxns_recon1.append(rxn.id)\n",
    "rxns_icho = list(set(rxns_icho)); rxns_recon1 = list(set(rxns_recon1))\n",
    "print(len(rxns_icho))\n",
    "print(len(rxns_recon1))"
   ]
  },
  {
   "cell_type": "code",
   "execution_count": 30,
   "id": "4465e64d",
   "metadata": {},
   "outputs": [
    {
     "data": {
      "text/plain": [
       "Text(0.5, 1.0, 'Automatic curation of reactions')"
      ]
     },
     "execution_count": 30,
     "metadata": {},
     "output_type": "execute_result"
    },
    {
     "data": {
      "image/png": "[encoded data removed]",
      "text/plain": [
       "<Figure size 432x288 with 1 Axes>"
      ]
     },
     "metadata": {},
     "output_type": "display_data"
    }
   ],
   "source": [
    "fig,ax = plt.subplots(1,1)\n",
    "venn2([set(rxns_icho),set(rxns_recon1)],set_labels=['iCHO matched','RECON1 matched'], ax=ax)\n",
    "ax.set_title('Automatic curation of reactions')"
   ]
  },
  {
   "cell_type": "code",
   "execution_count": null,
   "id": "393b108e",
   "metadata": {},
   "outputs": [],
   "source": [
    "# ipsc_draft = load_json_model('../data/gems/iPSC_draft.json')"
   ]
  },
  {
   "cell_type": "code",
   "execution_count": null,
   "id": "075600f1",
   "metadata": {},
   "outputs": [],
   "source": [
    "recon1_match['template_gene'] = [ recon1_gene_dict[gname] for gname in list(recon1_match['query'])]\n",
    "icho_match['template_gene'] = [icho_gene_dict[gname] for gname in list(icho_match['query']) ]\n",
    "\n",
    "def add_metabolite(model, template, met_id):\n",
    "    all_mets = [met.id for met in model.metabolites]\n",
    "    new_id = met_id.replace('_cho','_psc').replace('_hs','_psc')\n",
    "    if new_id not in all_mets:\n",
    "        temp_met = template.metabolites.get_by_id( met_id )\n",
    "        model.add_metabolites([Metabolite(id=new_id, formula=temp_met.formula,\n",
    "                charge=float(temp_met.charge),name=temp_met.name, compartment=temp_met.compartment)])\n",
    "    return None\n",
    "\n",
    "def translate_gpr(template_rule, homology_table):\n",
    "    tokens = template_rule.split()  \n",
    "    translated_rule = []\n",
    "    for token in tokens:\n",
    "        if token not in list(homology_table['template_gene']):\n",
    "            translated_rule.append(token)\n",
    "        elif list(homology_table['template_gene']).count(token) == 1:\n",
    "            new_token = list(homology_table[homology_table['template_gene']==token]['subject'])[0]\n",
    "            translated_rule.append(new_token)\n",
    "        elif list(homology_table['template_gene']).count(token) > 1:\n",
    "            new_tokens = list(homology_table[homology_table['template_gene']==token]['subject'])\n",
    "            new_token = ' or '.join(new_tokens)\n",
    "            translated_rule.append(new_token)\n",
    "    return ' '.join(translated_rule)\n",
    "    \n",
    "\n",
    "def add_rxn(model, template, match_table, rxn_id):\n",
    "    all_rxns = [rxn.id for rxn in model.reactions]\n",
    "    new_id = rxn_id.replace('_cho','').replace('_hs','')\n",
    "    if new_id not in all_rxns:\n",
    "        temp_rxn = template.reactions.get_by_id( rxn_id )\n",
    "        model.add_reactions([Reaction(id=new_id,name=temp_rxn.name,subsystem= temp_rxn.subsystem,\n",
    "                lower_bound=temp_rxn.lower_bound,upper_bound=temp_rxn.upper_bound)])\n",
    "        for met in (temp_rxn.reactants+temp_rxn.products):\n",
    "            add_metabolite(model, template, met.id)\n",
    "        rxn_string = str(temp_rxn.reaction).replace('_cho','_psc').replace('_hs','_psc')\n",
    "        model.reactions.get_by_id(new_id).build_reaction_from_string(rxn_string)\n",
    "        model.reactions.get_by_id(new_id).gene_reaction_rule = translate_gpr(temp_rxn.gene_reaction_rule, match_table)\n",
    "    return None"
   ]
  },
  {
   "cell_type": "code",
   "execution_count": null,
   "id": "9351e408",
   "metadata": {},
   "outputs": [],
   "source": [
    "# # add reactions from recon1\n",
    "# for rxn_id in rxns_recon1:\n",
    "#     add_rxn( ipsc_draft, recon1, recon1_match, rxn_id)\n",
    "    \n",
    "# # add reactions from icho\n",
    "# for rxn_id in list( set(rxns_icho) - set(rxns_recon1) ):\n",
    "#     add_rxn( ipsc_draft, icho, icho_match, rxn_id)"
   ]
  },
  {
   "cell_type": "markdown",
   "id": "4ed57afb",
   "metadata": {},
   "source": [
    "# Add boundary reactions"
   ]
  },
  {
   "cell_type": "code",
   "execution_count": null,
   "id": "cd1ed1dc",
   "metadata": {},
   "outputs": [],
   "source": [
    "# ipsc_draft = load_json_model('../data/gems/iPSC_draft.json')"
   ]
  },
  {
   "cell_type": "code",
   "execution_count": null,
   "id": "3e23c71e",
   "metadata": {},
   "outputs": [],
   "source": [
    "# for met in ipsc_draft.metabolites.query('_e'):\n",
    "#     if met.compartment == 'e':\n",
    "#         rxn = Reaction(id='EX_'+met.id,name=met.name+' exchange',subsystem= 'Extracellular exchange',\n",
    "#                 lower_bound=-1000.0,upper_bound=1000.0)\n",
    "#         ipsc_draft.add_reactions([rxn])\n",
    "#         ipsc_draft.reactions.get_by_id( 'EX_'+met.id ).build_reaction_from_string(met.id + ' <=> ')"
   ]
  },
  {
   "cell_type": "code",
   "execution_count": null,
   "id": "a04ac282",
   "metadata": {},
   "outputs": [],
   "source": [
    "# save_json_model(ipsc_draft,'../data/gems/iPSC_draft.json')"
   ]
  },
  {
   "cell_type": "code",
   "execution_count": null,
   "id": "70e3ae0e",
   "metadata": {},
   "outputs": [],
   "source": [
    "# subsys_sum = {}\n",
    "# for rxn in set(ibt_draft.reactions) - set(ibt_draft.boundary):\n",
    "#     subsystem = rxn.subsystem\n",
    "#     if ('Transport' in subsystem) or ('TRANSPORT' in subsystem):\n",
    "#         continue\n",
    "#     if subsystem == '':\n",
    "#         subsystem = 'NaN'\n",
    "#     if subsystem not in subsys_sum.keys():\n",
    "#         subsys_sum[subsystem] = 1\n",
    "#     else:\n",
    "#         subsys_sum[subsystem] += 1   "
   ]
  },
  {
   "cell_type": "code",
   "execution_count": null,
   "id": "6ba8a42b",
   "metadata": {},
   "outputs": [],
   "source": [
    "# sum_pd = pd.DataFrame( zip(subsys_sum.keys(), subsys_sum.values()) )\n",
    "# sum_pd  = sum_pd.sort_values(by=1,ascending=False).reset_index().drop(['index'],axis=1)\n",
    "# sum_top20 = sum_pd.iloc[:20]"
   ]
  },
  {
   "cell_type": "code",
   "execution_count": null,
   "id": "fc43b52d",
   "metadata": {},
   "outputs": [],
   "source": [
    "# fig, ax = plt.subplots(1,1,figsize=(10,8))\n",
    "# ax.barh(sum_top20[0],sum_top20[1])\n",
    "# ax.set_xlabel('# Reactions')\n",
    "# ax.set_title('Top 20 subsystems')"
   ]
  },
  {
   "cell_type": "markdown",
   "id": "94382d5e",
   "metadata": {},
   "source": [
    "# Gap fill with iCHO model"
   ]
  },
  {
   "cell_type": "code",
   "execution_count": 3,
   "id": "7af8a230",
   "metadata": {},
   "outputs": [],
   "source": [
    "def add_metabolite(model, template, met_id):\n",
    "    all_mets = [met.id for met in model.metabolites]\n",
    "    new_id = met_id.replace('_cho','_psc').replace('_hs','_psc')\n",
    "    if new_id not in all_mets:\n",
    "        temp_met = template.metabolites.get_by_id( met_id )\n",
    "        model.add_metabolites([Metabolite(id=new_id, formula=temp_met.formula,\n",
    "                charge=float(temp_met.charge),name=temp_met.name, compartment=temp_met.compartment)])\n",
    "    return None\n",
    "    \n",
    "\n",
    "def add_reaction(model, template, rxn_id):\n",
    "    all_rxns = [rxn.id for rxn in model.reactions]\n",
    "    if rxn_id not in all_rxns:\n",
    "        temp_rxn = template.reactions.get_by_id( rxn_id )\n",
    "        new_id = rxn_id.replace('_cho','_psc').replace('_hs','_psc')\n",
    "        model.add_reactions([Reaction(id=new_id,name=temp_rxn.name,\n",
    "            subsystem= temp_rxn.subsystem, lower_bound=temp_rxn.lower_bound,upper_bound=temp_rxn.upper_bound)])\n",
    "        for met in (temp_rxn.reactants+temp_rxn.products):\n",
    "            add_metabolite(model, template, met.id)\n",
    "        rxn_string = str(temp_rxn.reaction).replace('_cho','_psc').replace('_hs','_psc')\n",
    "        model.reactions.get_by_id(new_id).build_reaction_from_string(rxn_string)\n",
    "    return None"
   ]
  },
  {
   "cell_type": "code",
   "execution_count": 11,
   "id": "1b4ff3f4",
   "metadata": {},
   "outputs": [],
   "source": [
    "ipsc_draft =  load_json_model('../data/gems/iPSC_draft.json')\n",
    "all_rxns = [rxn.id for rxn in ipsc_draft.reactions]"
   ]
  },
  {
   "cell_type": "code",
   "execution_count": 12,
   "id": "b64de0ba",
   "metadata": {},
   "outputs": [],
   "source": [
    "ex_comp = []\n",
    "for rxn in (icho.reactions.query('tl')+icho.reactions.query('tm')+icho.reactions.query('tx')+\\\n",
    "           icho.reactions.query('tr')+icho.reactions.query('tn') + icho.reactions.query('tg') +\\\n",
    "           icho.reactions.query('tim')):\n",
    "    if ('TRANSPORT' in rxn.subsystem) and (rxn.id not in all_rxns):\n",
    "        ex_comp.append(rxn.id)\n",
    "        add_reaction(ipsc_draft, icho, rxn.id)"
   ]
  },
  {
   "cell_type": "code",
   "execution_count": 13,
   "id": "31433c39",
   "metadata": {},
   "outputs": [],
   "source": [
    "GLDBRAN = Reaction(id='GLDBRAN',name='Glycogen debranching enzyme',subsystem= 'STARCH AND SUCROSE METABOLISM',\n",
    "                lower_bound=0.0,upper_bound=1000.0)\n",
    "SK_Tyr_ggn_c = Reaction(id='SK_Tyr_ggn_c',name='Sink for Tyr-194 Of Apo-Glycogenin Protein (Primer For Glycogen Synthesis)',\n",
    "                subsystem= 'Intracellular source/sink', lower_bound=-0.1,upper_bound=1000.0)\n",
    "r0954 = Reaction(id='r0954',name='MCT 1 Transport reaction',\n",
    "                subsystem= 'TRANSPORT, PEROXISOMAL', lower_bound=-1000.0,upper_bound=1000.0)\n",
    "CO2tx = Reaction(id='CO2tx',name='CO2 transporter, peroxisome',\n",
    "                subsystem='TRANSPORT, PEROXISOMAL', lower_bound=-1000.0,upper_bound=1000.0)\n",
    "O2tr = Reaction(id='O2tr',name='O2 transport endoplasmic reticulum',\n",
    "                subsystem='TRANSPORT, ENDOPLASMIC RETICULAR', lower_bound=-1000.0,upper_bound=1000.0)\n",
    "CO2tr = Reaction(id='CO2tr',name='CO2 endoplasmic reticular transport via diffusion',\n",
    "                subsystem='TRANSPORT, ENDOPLASMIC RETICULAR', lower_bound=-1000.0,upper_bound=1000.0)\n",
    "PGPP_psc = Reaction(id='PGPP_psc',name='Phosphatidylglycerol phosphate phosphatase (psc)',\n",
    "                subsystem='GLYCEROPHOSPHOLIPID METABOLISM', lower_bound=0.0,upper_bound=1000.0)\n",
    "MI3PS = Reaction(id='MI3PS',name='1D-myo-inositol-3-phosphate lyase (isomerizing)',\n",
    "                subsystem='INOSITOL PHOSPHATE METABOLISM', lower_bound=-1000.0,upper_bound=1000.0)\n",
    "ADSS = Reaction(id='ADSS',name='Adenylosuccinate synthase',\n",
    "                subsystem='NUCLEOTIDE INTERCONVERSION', lower_bound=0.0,upper_bound=1000.0)\n",
    "ipsc_draft.add_reactions([GLDBRAN, SK_Tyr_ggn_c, r0954, CO2tx, O2tr, CO2tr, PGPP_psc, MI3PS, ADSS])\n",
    "ipsc_draft.reactions.GLDBRAN.build_reaction_from_string('dxtrn_c + h2o_c --> glc__D_c + glygn3_c')\n",
    "ipsc_draft.reactions.SK_Tyr_ggn_c.build_reaction_from_string('Tyr_ggn_c <=> ')\n",
    "ipsc_draft.reactions.r0954.build_reaction_from_string('mev__R_c <=> mev__R_x')\n",
    "ipsc_draft.reactions.CO2tx.build_reaction_from_string('co2_c <=> co2_x')\n",
    "ipsc_draft.reactions.CO2tr.build_reaction_from_string('co2_c <=> co2_r')\n",
    "ipsc_draft.reactions.O2tr.build_reaction_from_string('o2_c <=> o2_r')\n",
    "ipsc_draft.reactions.PGPP_psc.build_reaction_from_string('h2o_c + pgp_psc_c --> pglyc_psc_c + pi_c')\n",
    "ipsc_draft.reactions.MI3PS.build_reaction_from_string('g6p_c <=> mi3p__D_c')\n",
    "ipsc_draft.reactions.ADSS.build_reaction_from_string('asp__L_c + gtp_c + imp_c --> dcamp_c + gdp_c + 2.0 h_c + pi_c')\n",
    "ipsc_draft.reactions.ADSS.gene_reaction_rule='NP_001090977_1 or NP_001090978_1 or XP_020937155_1 or XP_020937156_1'"
   ]
  },
  {
   "cell_type": "code",
   "execution_count": 14,
   "id": "6e7d9622",
   "metadata": {},
   "outputs": [],
   "source": [
    "add_reaction(ipsc_draft, icho, 'ATPM'); add_reaction(ipsc_draft, icho, 'O2t'); add_reaction(ipsc_draft, icho, 'O2St');"
   ]
  },
  {
   "cell_type": "code",
   "execution_count": 15,
   "id": "5d31a5b5",
   "metadata": {},
   "outputs": [],
   "source": [
    "lipid_rxns =[]\n",
    "for rxn in ( icho.reactions.query('ARTFR') + icho.reactions.query('ARTCOAL')+icho.reactions.query('ARTPLM') ) :\n",
    "    lipid_rxns.append(rxn.id)\n",
    "    add_reaction(ipsc_draft, icho, rxn.id)"
   ]
  },
  {
   "cell_type": "code",
   "execution_count": 16,
   "id": "ecc7ed46",
   "metadata": {},
   "outputs": [],
   "source": [
    "EX_pydxn_e =  Reaction(id='EX_pydxn_e',name='Pyridoxine exchange',\n",
    "                subsystem='Extracellular exchange', lower_bound=-1000.0,upper_bound=1000.0)\n",
    "ipsc_draft.add_reactions([EX_pydxn_e])\n",
    "ipsc_draft.reactions.EX_pydxn_e.build_reaction_from_string('pydxn_e <=> ')"
   ]
  },
  {
   "cell_type": "code",
   "execution_count": 17,
   "id": "d9709893",
   "metadata": {},
   "outputs": [],
   "source": [
    "ipsc_draft.reactions.PGK.build_reaction_from_string('13dpg_c + adp_c --> 3pg_c + atp_c')\n",
    "ipsc_draft.reactions.PGM.build_reaction_from_string('3pg_c --> 2pg_c')\n",
    "ipsc_draft.reactions.LDH_D.build_reaction_from_string('h_c + nadh_c + pyr_c --> lac__D_c + nad_c')\n",
    "ipsc_draft.reactions.LDH_L.build_reaction_from_string('h_c + nadh_c + pyr_c --> lac__L_c + nad_c')\n",
    "ipsc_draft.reactions.LDH_Lm.build_reaction_from_string('h_m + nadh_m + pyr_m --> lac__L_m + nad_m')\n",
    "ipsc_draft.reactions.SUCOAS1m.build_reaction_from_string('gdp_m + pi_m + succoa_m --> coa_m + gtp_m + succ_m')"
   ]
  },
  {
   "cell_type": "markdown",
   "id": "207b7f82",
   "metadata": {},
   "source": [
    "## Remove redundant reactions"
   ]
  },
  {
   "cell_type": "code",
   "execution_count": 18,
   "id": "3f58f429",
   "metadata": {},
   "outputs": [],
   "source": [
    "ipsc_draft.remove_reactions(ipsc_draft.reactions.query('copy'), remove_orphans=True)"
   ]
  },
  {
   "cell_type": "code",
   "execution_count": 19,
   "id": "7e46255b",
   "metadata": {},
   "outputs": [],
   "source": [
    "gap_biomass = []\n",
    "for met in ipsc_draft.reactions.BIOMASS_psc.reactants:\n",
    "    with ipsc_draft:\n",
    "        ipsc_draft.medium = {k:1000.0 for k in icho.medium.keys()}\n",
    "        ipsc_draft.objective = ipsc_draft.add_boundary(met, type='demand')\n",
    "        \n",
    "        if ipsc_draft.slim_optimize() <= 0:\n",
    "            gap_biomass.append(met.id)"
   ]
  },
  {
   "cell_type": "code",
   "execution_count": 20,
   "id": "9509b3ef",
   "metadata": {},
   "outputs": [
    {
     "data": {
      "text/plain": [
       "[]"
      ]
     },
     "execution_count": 20,
     "metadata": {},
     "output_type": "execute_result"
    }
   ],
   "source": [
    "gap_biomass"
   ]
  },
  {
   "cell_type": "code",
   "execution_count": 21,
   "id": "f17c8221",
   "metadata": {},
   "outputs": [],
   "source": [
    "gpr_status={'With GPR':0,'No GPR':0,'Boundary':len(ipsc_draft.boundary)}\n",
    "for rxn in ipsc_draft.reactions-ipsc_draft.boundary:\n",
    "    if rxn.gene_reaction_rule == '':\n",
    "        gpr_status['No GPR'] +=1\n",
    "    else:\n",
    "        gpr_status['With GPR'] +=1"
   ]
  },
  {
   "cell_type": "code",
   "execution_count": 22,
   "id": "2d724b6b",
   "metadata": {},
   "outputs": [
    {
     "data": {
      "image/png": "[encoded data removed]",
      "text/plain": [
       "<Figure size 360x360 with 1 Axes>"
      ]
     },
     "metadata": {},
     "output_type": "display_data"
    }
   ],
   "source": [
    "fig, ax = plt.subplots(1,1,figsize=(5,5))\n",
    "ax.pie(gpr_status.values(), labels=gpr_status.keys(),autopct='%1.1f%%',\n",
    "           wedgeprops = {\"edgecolor\" : \"black\",'linewidth': 2,'antialiased': True},\n",
    "      colors=['tab:green','tab:Orange','tab:grey']);"
   ]
  },
  {
   "cell_type": "code",
   "execution_count": 23,
   "id": "304165bf",
   "metadata": {},
   "outputs": [],
   "source": [
    "# ipsc_draft.medium = {k:100.0 for k in icho.medium.keys()}\n",
    "# save_json_model(ipsc_draft,'../data/gems/iPSC_gf.json')"
   ]
  },
  {
   "cell_type": "code",
   "execution_count": 17,
   "id": "9993e838",
   "metadata": {},
   "outputs": [],
   "source": [
    "ipsc_gf = load_json_model('../data/gems/iPSC_gf.json')\n",
    "recon1_genes = [gene.id for gene in recon1.genes]\n",
    "icho_genes = [gene.id for gene in icho.genes]"
   ]
  },
  {
   "cell_type": "code",
   "execution_count": 56,
   "id": "12101f84",
   "metadata": {},
   "outputs": [],
   "source": [
    "# wrong_rxn=[];\n",
    "# for rxn in ipsc_gf.reactions-ipsc_gf.boundary:\n",
    "#     if len(rxn.genes)<1:\n",
    "#         continue\n",
    "#     for gene in rxn.genes:\n",
    "#         if (gene.id in recon1_genes) or (gene.id in icho_genes):\n",
    "#             wrong_rxn.append(rxn.id)\n",
    "#             continue\n",
    "# wrong_rxn = list(np.unique(wrong_rxn)); wrong_gprs=[]\n",
    "# for rxn_id in wrong_rxn:\n",
    "#     wrong_gprs.append(ipsc_gf.reactions.get_by_id(rxn_id).gene_reaction_rule)\n",
    "\n",
    "# correct_gpr_pd = pd.DataFrame(zip(wrong_rxn,wrong_gprs),columns=['rxn_id','wrong gpr'])\n",
    "# correct_gpr_pd.to_csv('../data/gems/correct_gprs.csv',index=None)"
   ]
  },
  {
   "cell_type": "code",
   "execution_count": null,
   "id": "82e041a6",
   "metadata": {},
   "outputs": [],
   "source": []
  }
 ],
 "metadata": {
  "kernelspec": {
   "display_name": "Python 3 (ipykernel)",
   "language": "python",
   "name": "python3"
  },
  "language_info": {
   "codemirror_mode": {
    "name": "ipython",
    "version": 3
   },
   "file_extension": ".py",
   "mimetype": "text/x-python",
   "name": "python",
   "nbconvert_exporter": "python",
   "pygments_lexer": "ipython3",
   "version": "3.8.10"
  }
 },
 "nbformat": 4,
 "nbformat_minor": 5
}
