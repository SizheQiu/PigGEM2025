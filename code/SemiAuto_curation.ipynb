{
 "cells": [
  {
   "cell_type": "code",
   "execution_count": 1,
   "id": "44b42709",
   "metadata": {},
   "outputs": [],
   "source": [
    "import cobra\n",
    "from cobra.io import load_json_model, save_json_model\n",
    "from cobra import Model, Reaction, Metabolite\n",
    "import numpy as np\n",
    "import pandas as pd\n",
    "from matplotlib import pyplot as plt\n",
    "from matplotlib_venn import venn2, venn3"
   ]
  },
  {
   "cell_type": "code",
   "execution_count": 2,
   "id": "9782db14",
   "metadata": {},
   "outputs": [],
   "source": [
    "recon1 = load_json_model('../data/gems/RECON1.json')\n",
    "icho = load_json_model('../data/gems/iCHOv1.json')\n",
    "recon1_gene_dict = {gene.name: gene.id for gene in recon1.genes }\n",
    "icho_gene_dict = {gene.name: gene.id for gene in icho.genes}\n",
    "recon1_match = pd.read_csv('../data/blast_results/recon1_match.csv')\n",
    "icho_match = pd.read_csv('../data/blast_results/icho_match.csv')"
   ]
  },
  {
   "cell_type": "markdown",
   "id": "839bb3cb",
   "metadata": {},
   "source": [
    "# Draft reconstruction"
   ]
  },
  {
   "cell_type": "code",
   "execution_count": 3,
   "id": "3e0b3982",
   "metadata": {},
   "outputs": [],
   "source": [
    "def get_gene_states(rxn, match_table):\n",
    "    output={}\n",
    "    for gene in list(rxn.genes):\n",
    "        if gene.name in list(match_table['query']):\n",
    "            output[gene.id]='True'\n",
    "        else:\n",
    "            output[gene.id]='False'\n",
    "    return output\n",
    "            \n",
    "def gpr_to_boolean(gpr_rule, gene_states):\n",
    "    for gene, state in gene_states.items():\n",
    "        gpr_rule = gpr_rule.replace(gene, str(state))\n",
    "    return eval(gpr_rule) "
   ]
  },
  {
   "cell_type": "code",
   "execution_count": 4,
   "id": "4b78461b",
   "metadata": {},
   "outputs": [
    {
     "name": "stdout",
     "output_type": "stream",
     "text": [
      "3131\n",
      "2277\n"
     ]
    }
   ],
   "source": [
    "genes_icho = list(np.unique(icho_match['query']))\n",
    "# print(len(genes_icho))\n",
    "genes_recon1 = list(np.unique(recon1_match['query']))\n",
    "# print(len(genes_recon1 ))\n",
    "\n",
    "rxns_icho, rxns_recon1 = [],[]\n",
    "for g in genes_icho:\n",
    "    for rxn in list( icho.genes.get_by_id( icho_gene_dict[g] ).reactions ):\n",
    "        if gpr_to_boolean(rxn.gene_reaction_rule, get_gene_states(rxn, icho_match )):\n",
    "            rxns_icho.append( rxn.id)\n",
    "for g in genes_recon1:\n",
    "    for rxn in list(recon1.genes.get_by_id( recon1_gene_dict[g] ).reactions ):\n",
    "        if rxn.id in ['PPCOAOm','ACOAD1fm','ACOAD9m']:\n",
    "            rxns_recon1.append(rxn.id) #special case\n",
    "        elif gpr_to_boolean(rxn.gene_reaction_rule, get_gene_states(rxn, recon1_match )):\n",
    "            rxns_recon1.append(rxn.id)\n",
    "rxns_icho = list(set(rxns_icho)); rxns_recon1 = list(set(rxns_recon1))\n",
    "print(len(rxns_icho))\n",
    "print(len(rxns_recon1))"
   ]
  },
  {
   "cell_type": "code",
   "execution_count": 5,
   "id": "4465e64d",
   "metadata": {},
   "outputs": [
    {
     "data": {
      "text/plain": [
       "Text(0.5, 1.0, 'Automatic curation of reactions')"
      ]
     },
     "execution_count": 5,
     "metadata": {},
     "output_type": "execute_result"
    },
    {
     "data": {
      "image/png": "[encoded data removed]",
      "text/plain": [
       "<Figure size 432x288 with 1 Axes>"
      ]
     },
     "metadata": {},
     "output_type": "display_data"
    }
   ],
   "source": [
    "fig,ax = plt.subplots(1,1)\n",
    "venn2([set(rxns_icho),set(rxns_recon1)],set_labels=['iCHO matched','RECON1 matched'], ax=ax)\n",
    "ax.set_title('Automatic curation of reactions')"
   ]
  },
  {
   "cell_type": "code",
   "execution_count": 7,
   "id": "075600f1",
   "metadata": {},
   "outputs": [],
   "source": [
    "# ibt_draft = load_json_model('../data/gems/iBT_draft.json')\n",
    "recon1_match['template_gene'] = [ recon1_gene_dict[gname] for gname in list(recon1_match['query'])]\n",
    "icho_match['template_gene'] = [icho_gene_dict[gname] for gname in list(icho_match['query']) ]\n",
    "\n",
    "def add_metabolite(model, template, met_id):\n",
    "    all_mets = [met.id for met in model.metabolites]\n",
    "    new_id = met_id.replace('_cho','_bt').replace('_hs','_bt')\n",
    "    if new_id not in all_mets:\n",
    "        temp_met = template.metabolites.get_by_id( met_id )\n",
    "        model.add_metabolites([Metabolite(id=new_id, formula=temp_met.formula,\n",
    "                charge=float(temp_met.charge),name=temp_met.name, compartment=temp_met.compartment)])\n",
    "    return None\n",
    "\n",
    "def translate_gpr(template_rule, homology_table):\n",
    "    tokens = template_rule.split()  \n",
    "    translated_rule = []\n",
    "    for token in tokens:\n",
    "        if token not in list(homology_table['template_gene']):\n",
    "            translated_rule.append(token)\n",
    "        elif list(homology_table['template_gene']).count(token) == 1:\n",
    "            new_token = list(homology_table[homology_table['template_gene']==token]['subject'])[0]\n",
    "            translated_rule.append(new_token)\n",
    "        elif list(homology_table['template_gene']).count(token) > 1:\n",
    "            new_tokens = list(homology_table[homology_table['template_gene']==token]['subject'])\n",
    "            new_token = ' or '.join(new_tokens)\n",
    "            translated_rule.append(new_token)\n",
    "    return ' '.join(translated_rule)\n",
    "    \n",
    "\n",
    "def add_rxn(model, template, match_table, rxn_id):\n",
    "    all_rxns = [rxn.id for rxn in model.reactions]\n",
    "    new_id = rxn_id.replace('_cho','_bt').replace('_hs','_bt')\n",
    "    if new_id not in all_rxns:\n",
    "        temp_rxn = template.reactions.get_by_id( rxn_id )\n",
    "        model.add_reactions([Reaction(id=new_id,name=temp_rxn.name,subsystem= temp_rxn.subsystem,\n",
    "                lower_bound=temp_rxn.lower_bound,upper_bound=temp_rxn.upper_bound)])\n",
    "        for met in (temp_rxn.reactants+temp_rxn.products):\n",
    "            add_metabolite(model, template, met.id)\n",
    "        rxn_string = str(temp_rxn.reaction).replace('_cho','_bt').replace('_hs','_bt')\n",
    "        model.reactions.get_by_id(new_id).build_reaction_from_string(rxn_string)\n",
    "        model.reactions.get_by_id(new_id).gene_reaction_rule = translate_gpr(temp_rxn.gene_reaction_rule, match_table)\n",
    "    return None"
   ]
  },
  {
   "cell_type": "code",
   "execution_count": 9,
   "id": "9351e408",
   "metadata": {},
   "outputs": [],
   "source": [
    "# # add reactions from recon1\n",
    "# for rxn_id in rxns_recon1:\n",
    "#     add_rxn(ibt_draft, recon1, recon1_match, rxn_id)\n",
    "    \n",
    "# # add reactions from icho\n",
    "# for rxn_id in list( set(rxns_icho) - set(rxns_recon1) ):\n",
    "#     add_rxn(ibt_draft, icho, icho_match, rxn_id)"
   ]
  },
  {
   "cell_type": "markdown",
   "id": "4ed57afb",
   "metadata": {},
   "source": [
    "# Add boundary reactions"
   ]
  },
  {
   "cell_type": "code",
   "execution_count": 39,
   "id": "cd1ed1dc",
   "metadata": {},
   "outputs": [],
   "source": [
    "# ibt_draft = load_json_model('../data/gems/iBT_draft.json')"
   ]
  },
  {
   "cell_type": "code",
   "execution_count": 40,
   "id": "3e23c71e",
   "metadata": {},
   "outputs": [],
   "source": [
    "# for met in ibt_draft.metabolites.query('_e'):\n",
    "#     if met.compartment == 'e':\n",
    "#         rxn = Reaction(id='EX_'+met.id,name=met.name+' exchange',subsystem= 'Extracellular exchange',\n",
    "#                 lower_bound=-1000.0,upper_bound=1000.0)\n",
    "#         ibt_draft.add_reactions([rxn])\n",
    "#         ibt_draft.reactions.get_by_id( 'EX_'+met.id ).build_reaction_from_string(met.id + ' <=> ')"
   ]
  },
  {
   "cell_type": "code",
   "execution_count": 48,
   "id": "a04ac282",
   "metadata": {},
   "outputs": [],
   "source": [
    "# save_json_model(ibt_draft,'../data/gems/iBT_draft.json')"
   ]
  },
  {
   "cell_type": "code",
   "execution_count": 81,
   "id": "70e3ae0e",
   "metadata": {},
   "outputs": [],
   "source": [
    "subsys_sum = {}\n",
    "for rxn in set(ibt_draft.reactions) - set(ibt_draft.boundary):\n",
    "    subsystem = rxn.subsystem\n",
    "    if ('Transport' in subsystem) or ('TRANSPORT' in subsystem):\n",
    "        continue\n",
    "    if subsystem == '':\n",
    "        subsystem = 'NaN'\n",
    "    if subsystem not in subsys_sum.keys():\n",
    "        subsys_sum[subsystem] = 1\n",
    "    else:\n",
    "        subsys_sum[subsystem] += 1   "
   ]
  },
  {
   "cell_type": "code",
   "execution_count": 86,
   "id": "6ba8a42b",
   "metadata": {},
   "outputs": [],
   "source": [
    "sum_pd = pd.DataFrame( zip(subsys_sum.keys(), subsys_sum.values()) )\n",
    "sum_pd  = sum_pd.sort_values(by=1,ascending=False).reset_index().drop(['index'],axis=1)\n",
    "sum_top20 = sum_pd.iloc[:20]"
   ]
  },
  {
   "cell_type": "code",
   "execution_count": 89,
   "id": "fc43b52d",
   "metadata": {},
   "outputs": [
    {
     "data": {
      "text/plain": [
       "Text(0.5, 1.0, 'Top 20 subsystems')"
      ]
     },
     "execution_count": 89,
     "metadata": {},
     "output_type": "execute_result"
    },
    {
     "data": {
      "image/png": "[encoded data removed]",
      "text/plain": [
       "<Figure size 720x576 with 1 Axes>"
      ]
     },
     "metadata": {
      "needs_background": "light"
     },
     "output_type": "display_data"
    }
   ],
   "source": [
    "fig, ax = plt.subplots(1,1,figsize=(10,8))\n",
    "ax.barh(sum_top20[0],sum_top20[1])\n",
    "ax.set_xlabel('# Reactions')\n",
    "ax.set_title('Top 20 subsystems')"
   ]
  },
  {
   "cell_type": "markdown",
   "id": "94382d5e",
   "metadata": {},
   "source": [
    "# Gap fill with Recon1 model"
   ]
  },
  {
   "cell_type": "code",
   "execution_count": 49,
   "id": "1b4ff3f4",
   "metadata": {},
   "outputs": [],
   "source": [
    "ibt_draft = load_json_model('../data/gems/iBT_draft.json')"
   ]
  },
  {
   "cell_type": "code",
   "execution_count": 50,
   "id": "98fe6312",
   "metadata": {},
   "outputs": [
    {
     "data": {
      "text/latex": [
       "$\\displaystyle 1.0 BIOMASS_{bt} - 1.0 BIOMASS_{bt reverse b3fbe}$"
      ],
      "text/plain": [
       "1.0*BIOMASS_bt - 1.0*BIOMASS_bt_reverse_b3fbe"
      ]
     },
     "execution_count": 50,
     "metadata": {},
     "output_type": "execute_result"
    }
   ],
   "source": [
    "ibt_draft.objective.expression"
   ]
  },
  {
   "cell_type": "code",
   "execution_count": 51,
   "id": "06ff510f",
   "metadata": {},
   "outputs": [
    {
     "data": {
      "text/plain": [
       "0.0"
      ]
     },
     "execution_count": 51,
     "metadata": {},
     "output_type": "execute_result"
    }
   ],
   "source": [
    "ibt_draft.slim_optimize()"
   ]
  },
  {
   "cell_type": "code",
   "execution_count": null,
   "id": "eec346f4",
   "metadata": {},
   "outputs": [],
   "source": []
  }
 ],
 "metadata": {
  "kernelspec": {
   "display_name": "Python 3 (ipykernel)",
   "language": "python",
   "name": "python3"
  },
  "language_info": {
   "codemirror_mode": {
    "name": "ipython",
    "version": 3
   },
   "file_extension": ".py",
   "mimetype": "text/x-python",
   "name": "python",
   "nbconvert_exporter": "python",
   "pygments_lexer": "ipython3",
   "version": "3.8.10"
  }
 },
 "nbformat": 4,
 "nbformat_minor": 5
}
