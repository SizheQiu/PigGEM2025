{
 "cells": [
  {
   "cell_type": "code",
   "execution_count": 1,
   "id": "6642fefe",
   "metadata": {},
   "outputs": [],
   "source": [
    "import cobra\n",
    "from cobra.io import load_json_model, save_json_model\n",
    "from cobra import Model, Reaction, Metabolite\n",
    "import numpy as np\n",
    "from math import exp\n",
    "import pandas as pd\n",
    "from matplotlib import pyplot as plt\n",
    "from fba_functions import *"
   ]
  },
  {
   "cell_type": "code",
   "execution_count": 2,
   "id": "d46ae636",
   "metadata": {},
   "outputs": [],
   "source": [
    "ipsc_core = load_json_model('../data/gems/iPSC_core.json')"
   ]
  },
  {
   "cell_type": "code",
   "execution_count": 3,
   "id": "18905a96",
   "metadata": {},
   "outputs": [],
   "source": [
    "Adata = pd.read_csv('../data/gems/EnzymeActivity.csv')\n",
    "A_dict = {Adata['Rxn'][i]:Adata['Activity(mmol/hr/g)'][i] for i in range(len(Adata.index))}"
   ]
  },
  {
   "cell_type": "code",
   "execution_count": 4,
   "id": "98b1ec1a",
   "metadata": {},
   "outputs": [
    {
     "name": "stdout",
     "output_type": "stream",
     "text": [
      "dict_keys(['EX_glc__D_e', 'EX_h_e', 'EX_pi_e', 'EX_o2_e', 'EX_h2o_e', 'EX_chol_e', 'EX_hco3_e', 'EX_na1_e', 'EX_hxan_e', 'EX_so4_e', 'EX_asn__L_e', 'EX_cys__L_e', 'EX_gln__L_e', 'EX_lys__L_e', 'EX_pro__L_e', 'EX_tyr__L_e', 'EX_met__L_e', 'EX_leu__L_e', 'EX_ser__L_e', 'EX_his__L_e', 'EX_thr__L_e', 'EX_phe__L_e', 'EX_arg__L_e', 'EX_ile__L_e', 'EX_val__L_e', 'EX_trp__L_e', 'EX_asp__L_e', 'EX_k_e', 'EX_ala__L_e', 'EX_glu__L_e', 'EX_gly_e'])\n"
     ]
    }
   ],
   "source": [
    "print(ipsc_core.medium.keys())"
   ]
  },
  {
   "cell_type": "code",
   "execution_count": 5,
   "id": "87cc3357",
   "metadata": {},
   "outputs": [],
   "source": [
    "ex_aa_list = ['EX_asn__L_e', 'EX_cys__L_e', 'EX_gln__L_e', 'EX_lys__L_e', 'EX_pro__L_e', \n",
    "              'EX_tyr__L_e', 'EX_met__L_e', 'EX_leu__L_e', 'EX_ser__L_e', 'EX_his__L_e', \n",
    "              'EX_thr__L_e', 'EX_phe__L_e', 'EX_arg__L_e', 'EX_ile__L_e', 'EX_val__L_e', \n",
    "              'EX_trp__L_e', 'EX_asp__L_e', 'EX_ala__L_e', 'EX_glu__L_e', 'EX_gly_e']\n",
    "def set_PA(model, ptot, A_dict):\n",
    "    sigma=0.5\n",
    "    t_sector = model.reactions.EX_lac__L_e.flux_expression/(sigma*A_dict['EX_lac__L_e']) +\\\n",
    "           (-1)*model.reactions.EX_glc__D_e.flux_expression/A_dict['EX_glc__D_e'] +\\\n",
    "             model.reactions.EX_ac_e.flux_expression/(sigma*A_dict['EX_ac_e'])\n",
    "    for ex_aa in ex_aa_list:\n",
    "        if ex_aa != 'EX_ala__L_e':\n",
    "            t_sector = t_sector + (-1)*model.reactions.get_by_id(ex_aa).flux_expression/A_dict['EX_aa_e']\n",
    "    a_sector = model.reactions.BIOMASS.flux_expression/A_dict['BIOMASS']\n",
    "    ngam_sector = model.reactions.ATPM.flux_expression/A_dict['ATPM']\n",
    "    c_sector = model.reactions.ENO.flux_expression/(sigma*A_dict['ENO'])\n",
    "    for k in A_dict.keys():\n",
    "        if k not in ['ENO','EX_lac__L_e', 'EX_ac_e','EX_glc__D_e','EX_aa_e','ATPM','BIOMASS']:\n",
    "            c_sector  = c_sector  + model.reactions.get_by_id(k).flux_expression/(sigma*A_dict[k])\n",
    "    PA = model.problem.Constraint( expression = a_sector + c_sector + ngam_sector,\n",
    "                        name = 'PA', lb= 0, ub = ptot)\n",
    "    model.add_cons_vars([ PA ])\n",
    "    return None"
   ]
  },
  {
   "cell_type": "code",
   "execution_count": 6,
   "id": "a2e3b1c2",
   "metadata": {},
   "outputs": [],
   "source": [
    "v_aa = inhibit_gln(7.57,4.98,0.01)\n",
    "v_glc = nh4_inhibit_glc(7.57,4.98,0.01)\n",
    "v_our = inhibit_our(7.57,4.98,0.01)"
   ]
  },
  {
   "cell_type": "code",
   "execution_count": 7,
   "id": "18e367ed",
   "metadata": {},
   "outputs": [
    {
     "name": "stdout",
     "output_type": "stream",
     "text": [
      "Objective\n",
      "=========\n",
      "1.0 BIOMASS = 0.0562764694489893\n",
      "\n",
      "Uptake\n",
      "------\n",
      "Metabolite    Reaction     Flux  C-Number C-Flux\n",
      "  arg__L_e EX_arg__L_e  0.01571         6  1.75%\n",
      "  asn__L_e EX_asn__L_e  0.01104         4  0.82%\n",
      "    chol_e   EX_chol_e 0.008529         5  0.79%\n",
      "  cys__L_e EX_cys__L_e 0.004382         3  0.24%\n",
      "  glc__D_e EX_glc__D_e   0.5442         6 60.71%\n",
      "  gln__L_e EX_gln__L_e  0.01597         5  1.48%\n",
      "     gly_e    EX_gly_e  0.02138         2  0.79%\n",
      "    hco3_e   EX_hco3_e 0.003127         1  0.06%\n",
      "  his__L_e EX_his__L_e 0.007557         6  0.84%\n",
      "    hxan_e   EX_hxan_e 0.003202         5  0.30%\n",
      "  ile__L_e EX_ile__L_e  0.01465         6  1.63%\n",
      "  leu__L_e EX_leu__L_e  0.02538         6  2.83%\n",
      "  lys__L_e EX_lys__L_e  0.02305         6  2.57%\n",
      "  met__L_e EX_met__L_e 0.007644         5  0.71%\n",
      "      o2_e     EX_o2_e    1.387         0  0.00%\n",
      "  phe__L_e EX_phe__L_e  0.01115         9  1.87%\n",
      "      pi_e     EX_pi_e   0.3937         0  0.00%\n",
      "  pro__L_e EX_pro__L_e   0.1748         5 16.25%\n",
      "  ser__L_e EX_ser__L_e  0.02394         3  1.34%\n",
      "  thr__L_e EX_thr__L_e    0.015         4  1.12%\n",
      "  trp__L_e EX_trp__L_e  0.00294        11  0.60%\n",
      "  tyr__L_e EX_tyr__L_e 0.008647         9  1.45%\n",
      "  val__L_e EX_val__L_e  0.01984         5  1.84%\n",
      "\n",
      "Secretion\n",
      "---------\n",
      "Metabolite    Reaction    Flux  C-Number C-Flux\n",
      "     co2_e    EX_co2_e   -1.51         1 45.90%\n",
      "     h2o_e    EX_h2o_e   -1.77         0  0.00%\n",
      "       h_e      EX_h_e  -0.589         0  0.00%\n",
      "  lac__L_e EX_lac__L_e -0.5934         3 54.10%\n",
      "     nh4_e    EX_nh4_e -0.1024         0  0.00%\n",
      "\n"
     ]
    }
   ],
   "source": [
    "ptot = 0.67366; NGAM_0 = 2.2771;\n",
    "with ipsc_core:\n",
    "    for ex_aa in ex_aa_list:\n",
    "        ipsc_core.reactions.get_by_id(ex_aa).lower_bound=-v_aa\n",
    "    ipsc_core.reactions.EX_glc__D_e.lower_bound=-v_glc\n",
    "    ipsc_core.reactions.ATPM.lower_bound = NGAM_0\n",
    "    ipsc_core.reactions.EX_o2_e.lower_bound = -v_our\n",
    "    # Proteome constraints\n",
    "    set_PA(ipsc_core, ptot, A_dict)\n",
    "    fluxes = cobra.flux_analysis.pfba(ipsc_core).fluxes\n",
    "    uptake_flux = ipsc_core.summary().uptake_flux\n",
    "    secretion_flux = ipsc_core.summary().secretion_flux\n",
    "    print(ipsc_core.summary())"
   ]
  },
  {
   "cell_type": "code",
   "execution_count": 8,
   "id": "56c2a535",
   "metadata": {},
   "outputs": [],
   "source": [
    "# fluxes.to_frame().to_csv('../data/simulation_results/fluxes_lac7d57nh4d98.csv')"
   ]
  },
  {
   "cell_type": "code",
   "execution_count": 9,
   "id": "18b08c05",
   "metadata": {},
   "outputs": [
    {
     "data": {
      "image/png": "[encoded data removed]",
      "text/plain": [
       "<Figure size 864x360 with 2 Axes>"
      ]
     },
     "metadata": {
      "needs_background": "light"
     },
     "output_type": "display_data"
    }
   ],
   "source": [
    "fig, axs = plt.subplots(1,2,figsize=(12,5))\n",
    "secretion_flux = secretion_flux[(secretion_flux.flux!=0) & ~(secretion_flux.reaction.isin(['EX_h2o_e','EX_h_e']) )]\n",
    "uptake_flux = uptake_flux[uptake_flux.flux!=0]\n",
    "axs[0].barh(uptake_flux.metabolite,uptake_flux.flux)\n",
    "axs[1].barh(secretion_flux.metabolite,-1*secretion_flux.flux, height=0.2)\n",
    "axs[0].set_title('Uptake flux')\n",
    "axs[1].set_title('Secretion flux')\n",
    "for ax in axs:\n",
    "    ax.set_xlabel('Flux (mmol/gDW*hr)')"
   ]
  },
  {
   "cell_type": "code",
   "execution_count": 10,
   "id": "9a5c4f3c",
   "metadata": {},
   "outputs": [],
   "source": [
    "A_ATPMs = np.linspace(5.65,5.69,num=30); grs=[]\n",
    "ptot = 0.67366; NGAM = 2.2771; \n",
    "for A_value in A_ATPMs:\n",
    "    temp_A_dict = A_dict.copy()\n",
    "    temp_A_dict['ATPM']=A_value\n",
    "    fluxes = pcfba(ipsc_core, ptot, NGAM, 0.28, 1.07,2.6,temp_A_dict)\n",
    "    grs.append(fluxes['BIOMASS'])"
   ]
  },
  {
   "cell_type": "code",
   "execution_count": 11,
   "id": "4dc725f3",
   "metadata": {},
   "outputs": [
    {
     "data": {
      "text/plain": [
       "5.676206896551725"
      ]
     },
     "execution_count": 11,
     "metadata": {},
     "output_type": "execute_result"
    }
   ],
   "source": [
    "grs.index(0.06635456904096668)\n",
    "A_ATPMs[19]"
   ]
  },
  {
   "cell_type": "code",
   "execution_count": 12,
   "id": "5c1fa577",
   "metadata": {},
   "outputs": [
    {
     "data": {
      "text/plain": [
       "Text(5.655, 0.06645, 'Activity of NGAM=5.6762')"
      ]
     },
     "execution_count": 12,
     "metadata": {},
     "output_type": "execute_result"
    },
    {
     "data": {
      "image/png": "[encoded data removed]",
      "text/plain": [
       "<Figure size 432x360 with 1 Axes>"
      ]
     },
     "metadata": {
      "needs_background": "light"
     },
     "output_type": "display_data"
    }
   ],
   "source": [
    "fig, ax = plt.subplots(1,1,figsize=(6,5))\n",
    "ax.scatter(A_ATPMs,grs)\n",
    "ax.axvline(x=5.6762,color='r',ls='--')\n",
    "ax.axhline(y=0.06635,color='r',ls='--')\n",
    "ax.set_xlabel('Activity of NGAM (mmol/hr*g)')\n",
    "ax.set_ylabel('Growth rate (1/hr)')\n",
    "ax.text(5.655,0.06645,s='Activity of NGAM=5.6762',fontsize=12)"
   ]
  },
  {
   "cell_type": "code",
   "execution_count": null,
   "id": "790077ba",
   "metadata": {},
   "outputs": [],
   "source": []
  }
 ],
 "metadata": {
  "kernelspec": {
   "display_name": "Python 3 (ipykernel)",
   "language": "python",
   "name": "python3"
  },
  "language_info": {
   "codemirror_mode": {
    "name": "ipython",
    "version": 3
   },
   "file_extension": ".py",
   "mimetype": "text/x-python",
   "name": "python",
   "nbconvert_exporter": "python",
   "pygments_lexer": "ipython3",
   "version": "3.8.10"
  }
 },
 "nbformat": 4,
 "nbformat_minor": 5
}
