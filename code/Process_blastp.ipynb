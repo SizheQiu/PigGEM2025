{
 "cells": [
  {
   "cell_type": "code",
   "execution_count": 1,
   "id": "c3f8d208",
   "metadata": {},
   "outputs": [],
   "source": [
    "import cobra\n",
    "from cobra.io import load_json_model, save_json_model\n",
    "from Bio import SeqIO\n",
    "from Bio.Seq import Seq\n",
    "from Bio.SeqRecord import SeqRecord\n",
    "import numpy as np\n",
    "import pandas as pd\n",
    "from cobra import Model, Reaction, Metabolite"
   ]
  },
  {
   "cell_type": "code",
   "execution_count": 2,
   "id": "46d7e1a0",
   "metadata": {},
   "outputs": [],
   "source": [
    "recon1 = load_json_model('../data/gems/RECON1.json')\n",
    "icho = load_json_model('../data/gems/iCHOv1.json')"
   ]
  },
  {
   "cell_type": "code",
   "execution_count": 3,
   "id": "3abc4374",
   "metadata": {},
   "outputs": [],
   "source": [
    "recon1_genes = [ gene.name for gene in recon1.genes ]\n",
    "icho_genes = [ gene.name for gene in icho.genes ]\n",
    "\n",
    "recon1_gene_dict = {gene.name: gene.id for gene in recon1.genes }\n",
    "icho_gene_dict = {gene.name: gene.id for gene in icho.genes}"
   ]
  },
  {
   "cell_type": "code",
   "execution_count": null,
   "id": "9856029d",
   "metadata": {},
   "outputs": [],
   "source": [
    "# recon1_records = []; uniq_genes = [];\n",
    "# for seq_record in SeqIO.parse( '../../Proteomes/GRCh38_cds.fna' , \"fasta\"):\n",
    "#     if 'gene=' not in str(seq_record.description):\n",
    "#     ID = str(seq_record.description).split('gene=')[1].split(']')[0].strip()\n",
    "#     if ID in recon1_genes:\n",
    "#         uniq_genes.append(ID)\n",
    "#         seq = str(seq_record.seq)\n",
    "#         recon1_records.append( SeqRecord(Seq(seq), id = ID, name=\"\",description=\"\") )\n",
    "# SeqIO.write(recon1_records, '../../Proteomes/recon1_cds.fasta' ,\"fasta\")\n",
    "# uniq_genes = np.unique(uniq_genes)\n",
    "# print(len(uniq_genes))\n",
    "# print(len(recon1_genes))"
   ]
  },
  {
   "cell_type": "code",
   "execution_count": null,
   "id": "d7284a2a",
   "metadata": {},
   "outputs": [],
   "source": [
    "# icho_records = []; uniq_genes = [];\n",
    "# for seq_record in SeqIO.parse( '../../Proteomes/CriGri_cds.fna' , \"fasta\"):\n",
    "#     if 'gene=' not in str(seq_record.description):\n",
    "#         continue\n",
    "#     ID = str(seq_record.description).split('gene=')[1].split(']')[0].strip()\n",
    "#     if ID in icho_genes:\n",
    "#         uniq_genes.append(ID)\n",
    "#         seq = str(seq_record.seq)\n",
    "#         icho_records.append( SeqRecord(Seq(seq), id = ID, name=\"\",description=\"\") )\n",
    "# SeqIO.write( icho_records, '../../Proteomes/icho_cds.fasta' ,\"fasta\")\n",
    "# uniq_genes = np.unique(uniq_genes)\n",
    "# print(len(uniq_genes))\n",
    "# print(len(icho_genes))      "
   ]
  },
  {
   "cell_type": "code",
   "execution_count": null,
   "id": "5a4b4329",
   "metadata": {},
   "outputs": [],
   "source": [
    "# def save_clean_fasta( in_path, out_path):\n",
    "#     temp_records = SeqIO.parse( in_path , \"fasta\")\n",
    "#     new_records = []\n",
    "#     for seq_record in temp_records:\n",
    "#         ID = str(seq_record.description).split('gene=')[1].split(']')[0].strip()\n",
    "#         seq = str(seq_record.seq)\n",
    "#         new_records.append( SeqRecord(Seq(seq), id = ID, name=\"\",description=\"\") )\n",
    "#     SeqIO.write(new_records, out_path ,\"fasta\")\n",
    "#     print( len(new_records) )\n",
    "# save_clean_fasta( '../../Proteomes/BT_cds.fna','../../Proteomes/BT_CDS.fasta')"
   ]
  },
  {
   "cell_type": "code",
   "execution_count": 7,
   "id": "fef32112",
   "metadata": {},
   "outputs": [
    {
     "data": {
      "text/plain": [
       "63575"
      ]
     },
     "execution_count": 7,
     "metadata": {},
     "output_type": "execute_result"
    }
   ],
   "source": [
    "# old_records = SeqIO.parse( '../../Proteomes/ss_protein_raw.faa' , \"fasta\"); new_records = [];\n",
    "# for seq_record in old_records:\n",
    "#     ID = str(seq_record.description).split(' ')[0].replace('>','').strip()\n",
    "#     seq = str(seq_record.seq)\n",
    "#     new_records.append( SeqRecord(Seq(seq), id = ID, name=\"\",description=\"\") )\n",
    "# SeqIO.write(new_records, '../../Proteomes/ss_protein.faa' ,\"fasta\")"
   ]
  },
  {
   "cell_type": "code",
   "execution_count": 4,
   "id": "a44f6084",
   "metadata": {},
   "outputs": [],
   "source": [
    "# human_blast = pd.read_csv('../data/blast_results/human_blast_ss.txt', comment='#', sep='\\t', header=None)\n",
    "# human_blast.columns = ['query_id', 'subject_id', 'percent_identity', 'alignment_length',\n",
    "#               'mismatches', 'gap_opens', 'query_start', 'query_end',\n",
    "#               'subject_start', 'subject_end', 'e_value', 'bit_score']\n",
    "# human_blast = human_blast[human_blast.percent_identity>50].reset_index().drop(['index'],axis=1)\n",
    "# human_blast['query'] = [x.split('_')[0].strip() for x in list(human_blast['query_id']) ]\n",
    "# human_blast['subject'] = [x.replace('.','_').strip() for x in list(human_blast['subject_id']) ]\n",
    "# human_blast = (human_blast[['query', 'subject', 'percent_identity']]).drop_duplicates().reset_index().drop(['index'],axis=1)\n",
    "\n",
    "# cho_blast = pd.read_csv('../data/blast_results/cho_blast_ss.txt', comment='#', sep='\\t', header=None)\n",
    "# cho_blast.columns = ['query_id', 'subject_id', 'percent_identity', 'alignment_length',\n",
    "#               'mismatches', 'gap_opens', 'query_start', 'query_end',\n",
    "#               'subject_start', 'subject_end', 'e_value', 'bit_score']\n",
    "# cho_blast = cho_blast[cho_blast.percent_identity>50].reset_index().drop(['index'],axis=1)\n",
    "# cho_blast['query'] = [x.split('_')[0].strip() for x in list(cho_blast['query_id']) ]\n",
    "# cho_blast['subject'] = [x.replace('.','_').strip() for x in list(cho_blast['subject_id']) ]\n",
    "# cho_blast = (cho_blast[['query', 'subject', 'percent_identity']]).drop_duplicates().reset_index().drop(['index'],axis=1)"
   ]
  },
  {
   "cell_type": "code",
   "execution_count": 5,
   "id": "bbcba2c9",
   "metadata": {},
   "outputs": [],
   "source": [
    "def keep_unique_entry(df):\n",
    "    keep_idxs = []\n",
    "    for i in range(len(df.index)):\n",
    "        q,s,_ = df.iloc[i]\n",
    "        temp_df = df[(df['query']==q)&(df['subject']==s)]\n",
    "        temp_df = temp_df.sort_values(by='percent_identity',ascending=False)\n",
    "        keep_idxs.append( temp_df.index[0] )\n",
    "    return list( set(keep_idxs) )"
   ]
  },
  {
   "cell_type": "code",
   "execution_count": 6,
   "id": "ff7a165a",
   "metadata": {},
   "outputs": [],
   "source": [
    "# keep_cho = keep_unique_entry(cho_blast)\n",
    "# cho_blast = (cho_blast.iloc[keep_cho] ).reset_index().drop(['index'],axis=1)\n",
    "# keep_human = keep_unique_entry(human_blast)\n",
    "# human_blast = (human_blast.iloc[keep_human]).reset_index().drop(['index'],axis=1)\n",
    "# human_blast.to_csv('../data/blast_results/recon1_match.csv',index=None)\n",
    "# cho_blast.to_csv('../data/blast_results/icho_match.csv',index=None)"
   ]
  },
  {
   "cell_type": "markdown",
   "id": "513c680e",
   "metadata": {},
   "source": [
    "# Initialize iBT"
   ]
  },
  {
   "cell_type": "code",
   "execution_count": 7,
   "id": "b54a5d46",
   "metadata": {},
   "outputs": [],
   "source": [
    "# model = Model('iPSC') #porcine stem cell\n",
    "# for met in (icho.reactions.BIOMASS_cho.reactants + icho.reactions.BIOMASS_cho.products):\n",
    "#     if 'cho' not in met.id:\n",
    "#         temp_met = Metabolite(id=met.id,formula=met.formula,charge=float( met.charge),\n",
    "#                               name=met.name, compartment=met.compartment)\n",
    "#     else:\n",
    "#         temp_met = Metabolite(id=met.id.replace('_cho','_psc'),formula=met.formula,charge=float( met.charge),\n",
    "#                               name=met.name, compartment=met.compartment)\n",
    "#     model.add_metabolites([temp_met])\n",
    "    \n",
    "    \n",
    "# rxn = Reaction(id='BIOMASS_psc',name='BIOMASS_psc',subsystem='Biomass and maintenance functions',\n",
    "#                lower_bound=0.0,upper_bound=1000.0)\n",
    "# rxn_string = str(icho.reactions.BIOMASS_cho.reaction).replace('_cho','_psc')\n",
    "# model.add_reactions([rxn])\n",
    "# model.reactions.get_by_id(rxn.id).build_reaction_from_string(rxn_string)\n",
    "# model.objective = {model.reactions.BIOMASS_psc: 1}\n",
    "\n",
    "# save_json_model(model,'../data/gems/iPSC_draft.json')"
   ]
  },
  {
   "cell_type": "code",
   "execution_count": null,
   "id": "7a780acf",
   "metadata": {},
   "outputs": [],
   "source": []
  }
 ],
 "metadata": {
  "kernelspec": {
   "display_name": "Python 3 (ipykernel)",
   "language": "python",
   "name": "python3"
  },
  "language_info": {
   "codemirror_mode": {
    "name": "ipython",
    "version": 3
   },
   "file_extension": ".py",
   "mimetype": "text/x-python",
   "name": "python",
   "nbconvert_exporter": "python",
   "pygments_lexer": "ipython3",
   "version": "3.8.10"
  }
 },
 "nbformat": 4,
 "nbformat_minor": 5
}
