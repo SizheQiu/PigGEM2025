{
 "cells": [
  {
   "cell_type": "code",
   "execution_count": 1,
   "id": "168cdf5c",
   "metadata": {},
   "outputs": [],
   "source": [
    "import cobra\n",
    "from cobra.io import load_json_model, save_json_model\n",
    "from cobra import Model, Reaction, Metabolite\n",
    "import numpy as np\n",
    "import pandas as pd\n",
    "from matplotlib import pyplot as plt\n",
    "from matplotlib_venn import venn2, venn3"
   ]
  },
  {
   "cell_type": "code",
   "execution_count": 2,
   "id": "76be160d",
   "metadata": {},
   "outputs": [],
   "source": [
    "ipsc = load_json_model('../data/gems/iPSC_gf.json')"
   ]
  },
  {
   "cell_type": "code",
   "execution_count": 3,
   "id": "a7ab271b",
   "metadata": {},
   "outputs": [],
   "source": [
    "def add_metabolite(model, template, met_id):\n",
    "    all_mets = [met.id for met in model.metabolites]\n",
    "    if met_id not in all_mets:\n",
    "        temp_met = template.metabolites.get_by_id( met_id )\n",
    "        model.add_metabolites([Metabolite(id=met_id, formula=temp_met.formula,\n",
    "                charge=float(temp_met.charge),name=temp_met.name, compartment=temp_met.compartment)])\n",
    "    return None\n",
    "\n",
    "def add_rxn(model, template, rxn_id):\n",
    "    all_rxns = [rxn.id for rxn in model.reactions]\n",
    "    if  rxn_id not in all_rxns:\n",
    "        temp_rxn = template.reactions.get_by_id( rxn_id )\n",
    "        model.add_reactions([Reaction(id=rxn_id,name=temp_rxn.name,subsystem= temp_rxn.subsystem,\n",
    "                lower_bound=temp_rxn.lower_bound,upper_bound=temp_rxn.upper_bound)])\n",
    "        for met in (temp_rxn.reactants+temp_rxn.products):\n",
    "            add_metabolite(model, template, met.id)\n",
    "        rxn_string = str(temp_rxn.reaction)\n",
    "        model.reactions.get_by_id(rxn_id).build_reaction_from_string(rxn_string)\n",
    "        model.reactions.get_by_id(rxn_id).gene_reaction_rule = temp_rxn.gene_reaction_rule\n",
    "    return None"
   ]
  },
  {
   "cell_type": "code",
   "execution_count": null,
   "id": "8b885e5f",
   "metadata": {},
   "outputs": [],
   "source": [
    "# temp = []\n",
    "# for rxn in ipsc.metabolites.nadh_m.reactions:\n",
    "#     temp.append(rxn.subsystem)\n",
    "# np.unique(temp)"
   ]
  },
  {
   "cell_type": "code",
   "execution_count": 4,
   "id": "b9387299",
   "metadata": {},
   "outputs": [],
   "source": [
    "TCA_rxns =[]; Gly_rxns=[]; PPP_rxns=[]; OXP_rxns=[]; AA_rxns=[];\n",
    "for rxn in ipsc.reactions:\n",
    "    if rxn.subsystem == 'Glycolysis/Gluconeogenesis':\n",
    "        Gly_rxns.append(rxn.id)\n",
    "    elif rxn.subsystem == 'Citric Acid Cycle':\n",
    "        TCA_rxns.append(rxn.id)\n",
    "    elif rxn.subsystem == 'Pentose Phosphate Pathway':\n",
    "        PPP_rxns.append(rxn.id)\n",
    "    elif rxn.subsystem == 'Oxidative Phosphorylation':\n",
    "        OXP_rxns.append(rxn.id)\n",
    "    elif rxn.subsystem in ['Alanine and Aspartate Metabolism','Glycine, Serine, and Threonine Metabolism',\n",
    "                        'Methionine Metabolism','METHIONINE METABOLISM','Cysteine Metabolism','Glutamate metabolism',\n",
    "                    'Valine, Leucine, and Isoleucine Metabolism', 'VALINE, LEUCINE, AND ISOLEUCINE METABOLISM',\n",
    "                'LYSINE METABOLISM', 'Lysine Metabolism',\n",
    "                    'Tryptophan metabolism','TRYPTOPHAN METABOLISM','Arginine and Proline Metabolism','Histidine Metabolism',\n",
    "                    'Urea cycle/amino group metabolism','UREA CYCLE']:\n",
    "        AA_rxns.append(rxn.id)"
   ]
  },
  {
   "cell_type": "code",
   "execution_count": 5,
   "id": "e6e656d0",
   "metadata": {},
   "outputs": [],
   "source": [
    "ipsc_core = Model('iPSC_core')\n",
    "for rxn_id in (TCA_rxns+Gly_rxns+PPP_rxns):\n",
    "    add_rxn(ipsc_core, ipsc, rxn_id)\n",
    "add_rxn(ipsc_core, ipsc, 'O2tm'); add_rxn(ipsc_core, ipsc, 'PIt2m'); add_rxn(ipsc_core, ipsc, 'Htm'); \n",
    "add_rxn(ipsc_core, ipsc, 'ATPtm'); add_rxn(ipsc_core, ipsc, 'PYRt2m'); "
   ]
  },
  {
   "cell_type": "code",
   "execution_count": 6,
   "id": "ea6b077e",
   "metadata": {},
   "outputs": [],
   "source": [
    "OXP_nadh= Reaction(id='OXP_nadh',name='Oxidative Phosphorylation (NADH)',subsystem= 'Oxidative Phosphorylation',\n",
    "                lower_bound=0.0,upper_bound=1000.0)\n",
    "OXP_fadh2= Reaction(id='OXP_fadh2',name='Oxidative Phosphorylation (FADH2)',subsystem= 'Oxidative Phosphorylation',\n",
    "                lower_bound=0.0,upper_bound=1000.0)\n",
    "ipsc_core.add_reactions([OXP_nadh,OXP_fadh2])\n",
    "ipsc_core.reactions.OXP_nadh.build_reaction_from_string('nadh_m + 2.5 adp_m + 2.5 pi_m + 3.5 h_m + 0.5 o2_m \\\n",
    "                    --> nad_m + 2.5 atp_m + 3.5 h2o_m')\n",
    "ipsc_core.reactions.OXP_fadh2.build_reaction_from_string('fadh2_m + 1.5 adp_m + 1.5 pi_m + 1.5 h_m + 0.5 o2_m \\\n",
    "                --> fad_m + 1.5 atp_m + 2.5 h2o_m')"
   ]
  },
  {
   "cell_type": "code",
   "execution_count": 9,
   "id": "2c4871b2",
   "metadata": {},
   "outputs": [],
   "source": [
    "# save_json_model(ipsc_core,'../data/gems/iPSC_core.json')"
   ]
  },
  {
   "cell_type": "code",
   "execution_count": null,
   "id": "3bd33be0",
   "metadata": {},
   "outputs": [],
   "source": []
  }
 ],
 "metadata": {
  "kernelspec": {
   "display_name": "Python 3 (ipykernel)",
   "language": "python",
   "name": "python3"
  },
  "language_info": {
   "codemirror_mode": {
    "name": "ipython",
    "version": 3
   },
   "file_extension": ".py",
   "mimetype": "text/x-python",
   "name": "python",
   "nbconvert_exporter": "python",
   "pygments_lexer": "ipython3",
   "version": "3.8.10"
  }
 },
 "nbformat": 4,
 "nbformat_minor": 5
}
