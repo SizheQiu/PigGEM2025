{
 "cells": [
  {
   "cell_type": "code",
   "execution_count": null,
   "id": "6f724891",
   "metadata": {},
   "outputs": [],
   "source": [
    "import cobra\n",
    "from cobra.io import load_json_model, save_json_model\n",
    "from cobra import Model, Reaction, Metabolite\n",
    "import numpy as np\n",
    "from math import exp\n",
    "import pandas as pd\n",
    "from matplotlib import pyplot as plt\n",
    "from fba_functions import *\n",
    "import seaborn as sns\n",
    "from scipy import stats"
   ]
  },
  {
   "cell_type": "code",
   "execution_count": null,
   "id": "8d04d248",
   "metadata": {},
   "outputs": [],
   "source": [
    "ipsc_core = load_json_model('../data/gems/iPSC_core.json')\n",
    "Adata = pd.read_csv('../data/gems/EnzymeActivity.csv')\n",
    "A_dict = {Adata['Rxn'][i]:Adata['Activity(mmol/hr/g)'][i] for i in range(len(Adata.index))}\n",
    "def get_grs(biomass, time_pts):\n",
    "    output = []\n",
    "    for i in range(len(biomass)-1):\n",
    "        output.append( np.log(biomass[i+1]/biomass[i]) /(time_pts[i+1]-time_pts[i]) )\n",
    "    return output  \n",
    "def avg_cons(cons):\n",
    "    output = []\n",
    "    for i in range(len(cons)-1):\n",
    "        output.append( (cons[i+1]+cons[i])/2 )\n",
    "    return output\n",
    "def norm_rates(biomass, cons, time_pts):\n",
    "    output = []\n",
    "    for i in range(len(biomass)-1):\n",
    "        output.append( ((cons[i+1]-cons[i])/(biomass[i]/2+biomass[i+1]/2) )/(time_pts[i+1]-time_pts[i]) )\n",
    "    return output\n",
    "def get_pcc(x,y):\n",
    "    coeff, pv = stats.pearsonr( x, y)\n",
    "    return coeff"
   ]
  },
  {
   "cell_type": "code",
   "execution_count": null,
   "id": "1b1a5a97",
   "metadata": {},
   "outputs": [],
   "source": [
    "data_low=pd.read_csv('../data/exp_data/CultureData_lowNH4.csv')\n",
    "data_low=data_low.rename(columns={'Biomass_avg(g/L)':'Biomass_avg','Biomass_std(g/L)':'Biomass_std'})\n",
    "data_high=pd.read_csv('../data/exp_data/CultureData_highNH4.csv')\n",
    "data_high=data_high.rename(columns={'Biomass_avg(g/L)':'Biomass_avg','Biomass_std(g/L)':'Biomass_std'})\n",
    "mets=['Glucose','Gln','Lac','NH4']\n",
    "Ts= [data_low.Time[i]/2+data_low.Time[i+1]/2 for i in range(len(data_low.Time)-1)]\n",
    "grs=get_grs(data_low.Biomass_avg, data_low.Time)\n",
    "approx_low = pd.DataFrame(zip(Ts,grs),columns=['Time','gr'])\n",
    "for met in mets:\n",
    "    approx_low[met+'_rate']=norm_rates( data_low.Biomass_avg, data_low[met+'_avg'], data_low.Time)\n",
    "    approx_low[met+'_conc']=avg_cons( data_low[met+'_avg'] )\n",
    "Ts=[data_high.Time[i]/2+data_high.Time[i+1]/2 for i in range(len(data_high.Time)-1)]\n",
    "grs=get_grs(data_high.Biomass_avg, data_high.Time)\n",
    "approx_high = pd.DataFrame(zip(Ts,grs),columns=['Time','gr'])\n",
    "for met in mets:\n",
    "    approx_high[met+'_rate']=norm_rates( data_high.Biomass_avg, data_high[met+'_avg'], data_high.Time)\n",
    "    approx_high[met+'_conc']=avg_cons( data_high[met+'_avg'] )"
   ]
  },
  {
   "cell_type": "markdown",
   "id": "e1dd296f",
   "metadata": {},
   "source": [
    "# 1. Low initial NH4+"
   ]
  },
  {
   "cell_type": "markdown",
   "id": "b42e54cf",
   "metadata": {},
   "source": [
    "# 2. High initial NH4+"
   ]
  },
  {
   "cell_type": "code",
   "execution_count": null,
   "id": "775e7e71",
   "metadata": {},
   "outputs": [],
   "source": []
  },
  {
   "cell_type": "code",
   "execution_count": null,
   "id": "1bd53042",
   "metadata": {},
   "outputs": [],
   "source": []
  }
 ],
 "metadata": {
  "kernelspec": {
   "display_name": "Python 3 (ipykernel)",
   "language": "python",
   "name": "python3"
  },
  "language_info": {
   "codemirror_mode": {
    "name": "ipython",
    "version": 3
   },
   "file_extension": ".py",
   "mimetype": "text/x-python",
   "name": "python",
   "nbconvert_exporter": "python",
   "pygments_lexer": "ipython3",
   "version": "3.8.10"
  }
 },
 "nbformat": 4,
 "nbformat_minor": 5
}
