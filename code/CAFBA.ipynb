{
 "cells": [
  {
   "cell_type": "code",
   "execution_count": 1,
   "id": "6642fefe",
   "metadata": {},
   "outputs": [],
   "source": [
    "import cobra\n",
    "from cobra.io import load_json_model, save_json_model\n",
    "from cobra import Model, Reaction, Metabolite\n",
    "import numpy as np\n",
    "import pandas as pd\n",
    "from matplotlib import pyplot as plt"
   ]
  },
  {
   "cell_type": "code",
   "execution_count": 2,
   "id": "d46ae636",
   "metadata": {},
   "outputs": [],
   "source": [
    "ipsc = load_json_model('../data/gems/iPSC_gf.json')"
   ]
  },
  {
   "cell_type": "markdown",
   "id": "4eb7ae34",
   "metadata": {},
   "source": [
    "# fix reaction directions"
   ]
  },
  {
   "cell_type": "code",
   "execution_count": null,
   "id": "6138831c",
   "metadata": {},
   "outputs": [],
   "source": [
    "for rxn_id in ['G6PDH2r','PGI','FBA','GAPD','PGK','PGM','ENO','LDH_D','LDH_L','LDH_Lm','ACONTm','SUCOAS1m',\n",
    "              'SUCD1m','FUMm','MDHm','ASPTAm']:\n",
    "    ipsc.reactions.get_by_id(rxn_id).lower_bound=0.0"
   ]
  },
  {
   "cell_type": "code",
   "execution_count": null,
   "id": "f38a2b49",
   "metadata": {},
   "outputs": [],
   "source": [
    "##########"
   ]
  },
  {
   "cell_type": "code",
   "execution_count": null,
   "id": "87cc3357",
   "metadata": {},
   "outputs": [],
   "source": [
    "def set_PA(model, ptot, params):\n",
    "    A_dict = params['A']\n",
    "    t_sector = model.reactions.EX_lac_L_e.flux_expression/A_dict['EX_lac_L_e'] +\\\n",
    "           model.reactions.EX_lac_D_e.flux_expression/A_dict['EX_lac_D_e'] + \\\n",
    "           model.reactions.\n",
    "    \n",
    "    a_sector = model.reactions.BIOMASS.flux_expression/A_dict['BIOMASS_psc']\n",
    "    c_sector = model.reactions.ENO.flux_expression/A_dict['ENO']\n",
    "    for k in A_dict.keys():\n",
    "        if k not in ['EX_lac_L_e', 'EX_lac_D_e']:\n",
    "            c_sector  = c_sector  + model.reactions.get_by_id(k).flux_expression/A_dict[k]\n",
    "    PA = model.problem.Constraint( expression = a_sector + t_sector + c_sector,\n",
    "                        name = 'PA', lb= 0, ub = 0.5*ptot)\n",
    "    model.add_cons_vars([ PA ])\n",
    "    return None"
   ]
  },
  {
   "cell_type": "code",
   "execution_count": null,
   "id": "18e367ed",
   "metadata": {},
   "outputs": [],
   "source": []
  }
 ],
 "metadata": {
  "kernelspec": {
   "display_name": "Python 3 (ipykernel)",
   "language": "python",
   "name": "python3"
  },
  "language_info": {
   "codemirror_mode": {
    "name": "ipython",
    "version": 3
   },
   "file_extension": ".py",
   "mimetype": "text/x-python",
   "name": "python",
   "nbconvert_exporter": "python",
   "pygments_lexer": "ipython3",
   "version": "3.8.10"
  }
 },
 "nbformat": 4,
 "nbformat_minor": 5
}
