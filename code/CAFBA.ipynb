{
 "cells": [
  {
   "cell_type": "code",
   "execution_count": 1,
   "id": "6642fefe",
   "metadata": {},
   "outputs": [],
   "source": [
    "import cobra\n",
    "from cobra.io import load_json_model, save_json_model\n",
    "from cobra import Model, Reaction, Metabolite\n",
    "import numpy as np\n",
    "from math import exp\n",
    "import pandas as pd\n",
    "from matplotlib import pyplot as plt"
   ]
  },
  {
   "cell_type": "code",
   "execution_count": 2,
   "id": "d46ae636",
   "metadata": {},
   "outputs": [],
   "source": [
    "ipsc_core = load_json_model('../data/gems/iPSC_core.json')"
   ]
  },
  {
   "cell_type": "markdown",
   "id": "4eb7ae34",
   "metadata": {},
   "source": [
    "# fix reaction directions"
   ]
  },
  {
   "cell_type": "code",
   "execution_count": 3,
   "id": "6138831c",
   "metadata": {},
   "outputs": [],
   "source": [
    "for rxn_id in ['G6PDH2r','PGI','FBA','GAPD','PGK','PGM','ENO','LDH_L','ACONT','ACONTm','SUCOAS1m',\n",
    "              'SUCD1m','FUMm','MDHm','ASPTAm','GLUDym','GDHm','ACOAH','ORNTArm','ICDHym']:\n",
    "    ipsc_core.reactions.get_by_id(rxn_id).lower_bound=0.0"
   ]
  },
  {
   "cell_type": "code",
   "execution_count": 4,
   "id": "18905a96",
   "metadata": {},
   "outputs": [],
   "source": [
    "Adata = pd.read_csv('../data/gems/EnzymeActivity.csv')\n",
    "A_dict = {Adata['Rxn'][i]:Adata['Activity(mmol/hr/g)'][i] for i in range(len(Adata.index))}"
   ]
  },
  {
   "cell_type": "code",
   "execution_count": 5,
   "id": "98b1ec1a",
   "metadata": {},
   "outputs": [
    {
     "name": "stdout",
     "output_type": "stream",
     "text": [
      "dict_keys(['EX_glc__D_e', 'EX_h_e', 'EX_pi_e', 'EX_o2_e', 'EX_h2o_e', 'EX_chol_e', 'EX_hco3_e', 'EX_na1_e', 'EX_hxan_e', 'EX_so4_e', 'EX_asn__L_e', 'EX_cys__L_e', 'EX_gln__L_e', 'EX_lys__L_e', 'EX_pro__L_e', 'EX_tyr__L_e', 'EX_met__L_e', 'EX_leu__L_e', 'EX_ser__L_e', 'EX_his__L_e', 'EX_thr__L_e', 'EX_phe__L_e', 'EX_arg__L_e', 'EX_ile__L_e', 'EX_val__L_e', 'EX_trp__L_e', 'EX_asp__L_e', 'EX_k_e', 'EX_ala__L_e', 'EX_glu__L_e', 'EX_gly_e'])\n"
     ]
    }
   ],
   "source": [
    "print(ipsc_core.medium.keys())"
   ]
  },
  {
   "cell_type": "code",
   "execution_count": 6,
   "id": "8e239bde",
   "metadata": {},
   "outputs": [],
   "source": [
    "# for rxn_id in ex_aa_list:\n",
    "#     ipsc_core.reactions.get_by_id(rxn_id).upper_bound=0.0"
   ]
  },
  {
   "cell_type": "code",
   "execution_count": 9,
   "id": "87cc3357",
   "metadata": {},
   "outputs": [],
   "source": [
    "ex_aa_list = ['EX_asn__L_e', 'EX_cys__L_e', 'EX_gln__L_e', 'EX_lys__L_e', 'EX_pro__L_e', \n",
    "              'EX_tyr__L_e', 'EX_met__L_e', 'EX_leu__L_e', 'EX_ser__L_e', 'EX_his__L_e', \n",
    "              'EX_thr__L_e', 'EX_phe__L_e', 'EX_arg__L_e', 'EX_ile__L_e', 'EX_val__L_e', \n",
    "              'EX_trp__L_e', 'EX_asp__L_e', 'EX_ala__L_e', 'EX_glu__L_e', 'EX_gly_e']\n",
    "def set_PA(model, ptot, A_dict):\n",
    "    sigma=0.5\n",
    "    t_sector = model.reactions.EX_lac__L_e.flux_expression/(sigma*A_dict['EX_lac__L_e']) +\\\n",
    "           (-1)*model.reactions.EX_glc__D_e.flux_expression/A_dict['EX_glc__D_e'] +\\\n",
    "             model.reactions.EX_ac_e.flux_expression/(sigma*A_dict['EX_ac_e'])\n",
    "    for ex_aa in ex_aa_list:\n",
    "        t_sector = t_sector + (-1)*model.reactions.get_by_id(ex_aa).flux_expression/A_dict['EX_aa_e']\n",
    "    a_sector = model.reactions.BIOMASS.flux_expression/A_dict['BIOMASS']\n",
    "    ngam_sector = model.reactions.ATPM.flux_expression/A_dict['ATPM']\n",
    "    c_sector = model.reactions.ENO.flux_expression/(sigma*A_dict['ENO'])\n",
    "    for k in A_dict.keys():\n",
    "        if k not in ['ENO','EX_lac__L_e', 'EX_ac_e','EX_glc__D_e','EX_aa_e','ATPM','BIOMASS']:\n",
    "            c_sector  = c_sector  + model.reactions.get_by_id(k).flux_expression/(sigma*A_dict[k])\n",
    "    PA = model.problem.Constraint( expression = a_sector + c_sector + ngam_sector,\n",
    "                        name = 'PA', lb= 0, ub = ptot)\n",
    "    model.add_cons_vars([ PA ])\n",
    "    return None\n",
    "\n",
    "def get_NGAM( NGAM_0, r_max, nh4_con, lac_con, k1, k2, z1, z2):\n",
    "    r = 1+(r_max-1)*(1+exp(-k1*(nh4_con-z1) ))**-1*(1+exp(-k2*(lac_con-z2) ))**-1\n",
    "    return r* NGAM_0"
   ]
  },
  {
   "cell_type": "code",
   "execution_count": 11,
   "id": "18e367ed",
   "metadata": {},
   "outputs": [
    {
     "name": "stdout",
     "output_type": "stream",
     "text": [
      "Objective\n",
      "=========\n",
      "1.0 BIOMASS = 0.07704320649365777\n",
      "\n",
      "Uptake\n",
      "------\n",
      "Metabolite    Reaction     Flux  C-Number C-Flux\n",
      "  ala__L_e EX_ala__L_e   0.0346         3  0.57%\n",
      "  arg__L_e EX_arg__L_e  0.01902         6  0.63%\n",
      "  asn__L_e EX_asn__L_e  0.06552         4  1.45%\n",
      "    chol_e   EX_chol_e  0.01168         5  0.32%\n",
      "  cys__L_e EX_cys__L_e 0.006401         3  0.11%\n",
      "  glc__D_e EX_glc__D_e     1.82         6 60.49%\n",
      "  gln__L_e EX_gln__L_e  0.03977         5  1.10%\n",
      "     gly_e    EX_gly_e 0.006922         2  0.08%\n",
      "    hco3_e   EX_hco3_e  0.01877         1  0.10%\n",
      "  his__L_e EX_his__L_e 0.007413         6  0.25%\n",
      "    hxan_e   EX_hxan_e  0.02068         5  0.57%\n",
      "  ile__L_e EX_ile__L_e  0.01696         6  0.56%\n",
      "  leu__L_e EX_leu__L_e  0.03292         6  1.09%\n",
      "  lys__L_e EX_lys__L_e  0.02987         6  0.99%\n",
      "  met__L_e EX_met__L_e 0.008134         5  0.23%\n",
      "      o2_e     EX_o2_e    1.121         0  0.00%\n",
      "  phe__L_e EX_phe__L_e  0.01439         9  0.72%\n",
      "      pi_e     EX_pi_e   0.6879         0  0.00%\n",
      "  pro__L_e EX_pro__L_e  0.01711         5  0.47%\n",
      "  ser__L_e EX_ser__L_e     1.68         3 27.91%\n",
      "  thr__L_e EX_thr__L_e  0.04672         4  1.04%\n",
      "  trp__L_e EX_trp__L_e 0.001939        11  0.12%\n",
      "  tyr__L_e EX_tyr__L_e  0.01011         9  0.50%\n",
      "  val__L_e EX_val__L_e  0.02486         5  0.69%\n",
      "\n",
      "Secretion\n",
      "---------\n",
      "Metabolite    Reaction   Flux  C-Number C-Flux\n",
      "      ac_e     EX_ac_e   -1.8         2 24.27%\n",
      "     co2_e    EX_co2_e -2.367         1 15.96%\n",
      "     h2o_e    EX_h2o_e -1.576         0  0.00%\n",
      "       h_e      EX_h_e -3.135         0  0.00%\n",
      "  lac__L_e EX_lac__L_e -2.956         3 59.77%\n",
      "     nh4_e    EX_nh4_e -1.658         0  0.00%\n",
      "\n"
     ]
    }
   ],
   "source": [
    "ptot = 0.56; NGAM_0 = 5.9; #https://doi.org/10.1371/journal.pcbi.1009022\n",
    "with ipsc_core:\n",
    "#     rxn_string ='0.449091248 ala__L_c + 0.24692711 arg__L_c + 0.208891647 asn__L_c + 0.257573151 asp__L_c + 87.9 atp_c \\\n",
    "#             + 0.086970857 chsterol_c + 0.097355132 ctp_c + 0.083083581 cys__L_c + 0.035778189 datp_c + 0.025172729 dctp_c \\\n",
    "#             + 0.025172729 dgtp_c + 0.035778189 dttp_c + 0.353206758 gln__L_c + 0.303246063 glu__L_c + 0.476689682 gly_c + \\\n",
    "#             0.102935005 gtp_c + 24.74849172 h2o_c + 0.096216462 his__L_c + 0.220171565 ile__L_c + 0.427292446 leu__L_c \\\n",
    "#             + 0.387642487 lys__L_c + 0.105583014 met__L_c + 0.018176901 pail_psc_c + 0.130185913 pchol_psc_c +\\\n",
    "#             0.049863661 pe_psc_c + 0.001473803 pglyc_psc_c + 0.186720668 phe__L_c + 0.222059892 pro__L_c + 0.016457464 ps_psc_c \\\n",
    "#             + 0.32299952 ser__L_c + 0.02137014 sphmyln_psc_c + 0.255370881 thr__L_c + 0.025172972 trp__L_c \\\n",
    "#             + 0.131253338 tyr__L_c + 0.085375963 utp_c + 0.32262571 val__L_c \\\n",
    "#             --> 87.8 adp_c + 87.8 h_c + 87.8 pi_c + 0.512102766 ppi_c'\n",
    "#     ipsc_core.reactions.BIOMASS.build_reaction_from_string(rxn_string)\n",
    "    ex_aa_list = ['EX_asn__L_e', 'EX_cys__L_e', 'EX_gln__L_e', 'EX_lys__L_e', 'EX_pro__L_e', \n",
    "              'EX_tyr__L_e', 'EX_met__L_e', 'EX_leu__L_e', 'EX_ser__L_e', 'EX_his__L_e', \n",
    "              'EX_thr__L_e', 'EX_phe__L_e', 'EX_arg__L_e', 'EX_ile__L_e', 'EX_val__L_e', \n",
    "              'EX_trp__L_e', 'EX_asp__L_e', 'EX_ala__L_e', 'EX_glu__L_e', 'EX_gly_e']\n",
    "    ipsc_core.reactions.EX_glc__D_e.lower_bound=-1.82\n",
    "#     for rxn_id in ex_aa_list:\n",
    "#         ipsc_core.reactions.get_by_id(rxn_id).lower_bound=-0.66\n",
    "    ipsc_core.reactions.ATPM.lower_bound = NGAM_0\n",
    "    # Proteome constraints\n",
    "    set_PA(ipsc_core, ptot, A_dict)\n",
    "    fluxes = cobra.flux_analysis.pfba(ipsc_core).fluxes\n",
    "    uptake_flux = ipsc_core.summary().uptake_flux\n",
    "    secretion_flux = ipsc_core.summary().secretion_flux\n",
    "    print(ipsc_core.summary())"
   ]
  },
  {
   "cell_type": "code",
   "execution_count": 12,
   "id": "fc665e9e",
   "metadata": {},
   "outputs": [],
   "source": [
    "# fluxes.to_csv('../data/gems/fluxes_ipsc.csv')"
   ]
  },
  {
   "cell_type": "code",
   "execution_count": 18,
   "id": "18b08c05",
   "metadata": {},
   "outputs": [
    {
     "data": {
      "image/png": "[encoded data removed]",
      "text/plain": [
       "<Figure size 864x360 with 2 Axes>"
      ]
     },
     "metadata": {
      "needs_background": "light"
     },
     "output_type": "display_data"
    }
   ],
   "source": [
    "fig, axs = plt.subplots(1,2,figsize=(12,5))\n",
    "secretion_flux = secretion_flux[secretion_flux.flux!=0]\n",
    "uptake_flux = uptake_flux[uptake_flux.flux!=0]\n",
    "axs[0].barh(uptake_flux.metabolite,uptake_flux.flux)\n",
    "axs[1].barh(secretion_flux.metabolite,-1*secretion_flux.flux)\n",
    "axs[0].set_title('Uptake flux')\n",
    "axs[1].set_title('Secretion flux')\n",
    "for ax in axs:\n",
    "    ax.set_xlabel('Flux (mmol/gDW*hr)')"
   ]
  },
  {
   "cell_type": "code",
   "execution_count": 18,
   "id": "b1642a33",
   "metadata": {},
   "outputs": [
    {
     "data": {
      "text/html": [
       "<div>\n",
       "<style scoped>\n",
       "    .dataframe tbody tr th:only-of-type {\n",
       "        vertical-align: middle;\n",
       "    }\n",
       "\n",
       "    .dataframe tbody tr th {\n",
       "        vertical-align: top;\n",
       "    }\n",
       "\n",
       "    .dataframe thead th {\n",
       "        text-align: right;\n",
       "    }\n",
       "</style>\n",
       "<table border=\"1\" class=\"dataframe\">\n",
       "  <thead>\n",
       "    <tr style=\"text-align: right;\">\n",
       "      <th></th>\n",
       "      <th>flux</th>\n",
       "      <th>reaction</th>\n",
       "      <th>metabolite</th>\n",
       "    </tr>\n",
       "  </thead>\n",
       "  <tbody>\n",
       "    <tr>\n",
       "      <th>EX_ac_e</th>\n",
       "      <td>-1.330848</td>\n",
       "      <td>EX_ac_e</td>\n",
       "      <td>ac_e</td>\n",
       "    </tr>\n",
       "    <tr>\n",
       "      <th>EX_asp__L_e</th>\n",
       "      <td>0.000000</td>\n",
       "      <td>EX_asp__L_e</td>\n",
       "      <td>asp__L_e</td>\n",
       "    </tr>\n",
       "    <tr>\n",
       "      <th>EX_co2_e</th>\n",
       "      <td>-2.219291</td>\n",
       "      <td>EX_co2_e</td>\n",
       "      <td>co2_e</td>\n",
       "    </tr>\n",
       "    <tr>\n",
       "      <th>EX_glu__L_e</th>\n",
       "      <td>0.000000</td>\n",
       "      <td>EX_glu__L_e</td>\n",
       "      <td>glu__L_e</td>\n",
       "    </tr>\n",
       "    <tr>\n",
       "      <th>EX_h2o_e</th>\n",
       "      <td>-1.786766</td>\n",
       "      <td>EX_h2o_e</td>\n",
       "      <td>h2o_e</td>\n",
       "    </tr>\n",
       "    <tr>\n",
       "      <th>EX_h_e</th>\n",
       "      <td>-2.812856</td>\n",
       "      <td>EX_h_e</td>\n",
       "      <td>h_e</td>\n",
       "    </tr>\n",
       "    <tr>\n",
       "      <th>EX_k_e</th>\n",
       "      <td>0.000000</td>\n",
       "      <td>EX_k_e</td>\n",
       "      <td>k_e</td>\n",
       "    </tr>\n",
       "    <tr>\n",
       "      <th>EX_lac__L_e</th>\n",
       "      <td>-2.737421</td>\n",
       "      <td>EX_lac__L_e</td>\n",
       "      <td>lac__L_e</td>\n",
       "    </tr>\n",
       "    <tr>\n",
       "      <th>EX_na1_e</th>\n",
       "      <td>0.000000</td>\n",
       "      <td>EX_na1_e</td>\n",
       "      <td>na1_e</td>\n",
       "    </tr>\n",
       "    <tr>\n",
       "      <th>EX_nh4_e</th>\n",
       "      <td>-1.292021</td>\n",
       "      <td>EX_nh4_e</td>\n",
       "      <td>nh4_e</td>\n",
       "    </tr>\n",
       "    <tr>\n",
       "      <th>EX_pyr_e</th>\n",
       "      <td>0.000000</td>\n",
       "      <td>EX_pyr_e</td>\n",
       "      <td>pyr_e</td>\n",
       "    </tr>\n",
       "    <tr>\n",
       "      <th>EX_so4_e</th>\n",
       "      <td>0.000000</td>\n",
       "      <td>EX_so4_e</td>\n",
       "      <td>so4_e</td>\n",
       "    </tr>\n",
       "    <tr>\n",
       "      <th>EX_urea_e</th>\n",
       "      <td>0.000000</td>\n",
       "      <td>EX_urea_e</td>\n",
       "      <td>urea_e</td>\n",
       "    </tr>\n",
       "  </tbody>\n",
       "</table>\n",
       "</div>"
      ],
      "text/plain": [
       "                 flux     reaction metabolite\n",
       "EX_ac_e     -1.330848      EX_ac_e       ac_e\n",
       "EX_asp__L_e  0.000000  EX_asp__L_e   asp__L_e\n",
       "EX_co2_e    -2.219291     EX_co2_e      co2_e\n",
       "EX_glu__L_e  0.000000  EX_glu__L_e   glu__L_e\n",
       "EX_h2o_e    -1.786766     EX_h2o_e      h2o_e\n",
       "EX_h_e      -2.812856       EX_h_e        h_e\n",
       "EX_k_e       0.000000       EX_k_e        k_e\n",
       "EX_lac__L_e -2.737421  EX_lac__L_e   lac__L_e\n",
       "EX_na1_e     0.000000     EX_na1_e      na1_e\n",
       "EX_nh4_e    -1.292021     EX_nh4_e      nh4_e\n",
       "EX_pyr_e     0.000000     EX_pyr_e      pyr_e\n",
       "EX_so4_e     0.000000     EX_so4_e      so4_e\n",
       "EX_urea_e    0.000000    EX_urea_e     urea_e"
      ]
     },
     "execution_count": 18,
     "metadata": {},
     "output_type": "execute_result"
    }
   ],
   "source": [
    "secretion_flux"
   ]
  },
  {
   "cell_type": "code",
   "execution_count": 10,
   "id": "c1e252d8",
   "metadata": {},
   "outputs": [],
   "source": [
    "def get_fluxes_NGAM(model,  ptot, A_dict, NGAM):\n",
    "    with model:\n",
    "        model.reactions.ATPM.lower_bound = NGAM\n",
    "        # extra constraints\n",
    "        model.reactions.EX_ac_e.upper_bound=0\n",
    "        model.reactions.EX_succ_e.upper_bound=0\n",
    "        model.reactions.EX_pyr_e.upper_bound=0\n",
    "        # Proteome constraints\n",
    "        set_PA(model, ptot, A_dict)\n",
    "        fluxes = cobra.flux_analysis.pfba(model).fluxes\n",
    "    return fluxes"
   ]
  },
  {
   "cell_type": "code",
   "execution_count": 11,
   "id": "c322ee7c",
   "metadata": {},
   "outputs": [],
   "source": [
    "NGAMs = np.linspace(4,10); ptot=0.5;\n",
    "grs=[]; lac_fluxes=[]; nh4_fluxes=[];\n",
    "for ngam in NGAMs:\n",
    "    fluxes = get_fluxes_NGAM( ipsc_core,  ptot, A_dict, ngam)\n",
    "    grs.append(fluxes['BIOMASS'])\n",
    "    lac_fluxes.append(fluxes['EX_lac__L_e'])\n",
    "    nh4_fluxes.append(fluxes['EX_nh4_e'])"
   ]
  },
  {
   "cell_type": "code",
   "execution_count": 12,
   "id": "d9053994",
   "metadata": {},
   "outputs": [
    {
     "data": {
      "text/plain": [
       "Text(0, 0.5, 'NH4 secretion(mmol/gDW*hr)')"
      ]
     },
     "execution_count": 12,
     "metadata": {},
     "output_type": "execute_result"
    },
    {
     "data": {
      "image/png": "[encoded data removed]",
      "text/plain": [
       "<Figure size 1080x288 with 3 Axes>"
      ]
     },
     "metadata": {
      "needs_background": "light"
     },
     "output_type": "display_data"
    }
   ],
   "source": [
    "fig,axs=plt.subplots(1,3,figsize=(15,4))\n",
    "axs[0].plot(NGAMs,grs,'o',ls='--')\n",
    "axs[1].plot(NGAMs,lac_fluxes,'o',ls='--')\n",
    "axs[2].plot(NGAMs,nh4_fluxes,'o',ls='--')\n",
    "for ax in axs:\n",
    "    ax.set_xlabel('NGAM(mmol/gDW*hr)')\n",
    "axs[0].set_ylabel('Growth rate(1/hr)')\n",
    "axs[1].set_ylabel('Lactate secretion(mmol/gDW*hr)')\n",
    "axs[2].set_ylabel('NH4 secretion(mmol/gDW*hr)')"
   ]
  },
  {
   "cell_type": "code",
   "execution_count": null,
   "id": "cd90d260",
   "metadata": {},
   "outputs": [],
   "source": []
  }
 ],
 "metadata": {
  "kernelspec": {
   "display_name": "Python 3 (ipykernel)",
   "language": "python",
   "name": "python3"
  },
  "language_info": {
   "codemirror_mode": {
    "name": "ipython",
    "version": 3
   },
   "file_extension": ".py",
   "mimetype": "text/x-python",
   "name": "python",
   "nbconvert_exporter": "python",
   "pygments_lexer": "ipython3",
   "version": "3.8.10"
  }
 },
 "nbformat": 4,
 "nbformat_minor": 5
}
