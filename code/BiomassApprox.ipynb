{
 "cells": [
  {
   "cell_type": "code",
   "execution_count": 53,
   "id": "e3e01ace",
   "metadata": {},
   "outputs": [],
   "source": [
    "from Bio import SeqIO\n",
    "from Bio.Seq import Seq\n",
    "from Bio.SeqRecord import SeqRecord\n",
    "import numpy as np\n",
    "import pandas as pd\n",
    "import requests\n",
    "from matplotlib import pyplot as plt"
   ]
  },
  {
   "cell_type": "markdown",
   "id": "2fa65464",
   "metadata": {},
   "source": [
    "# Amino acids"
   ]
  },
  {
   "cell_type": "code",
   "execution_count": 31,
   "id": "440cb854",
   "metadata": {},
   "outputs": [],
   "source": [
    "pep_ids=[]; pep_seq=[];\n",
    "for seq_record in SeqIO.parse( '../data/blast_results/Sus_scrofa.Sscrofa10.2.pep.all.fa' , \"fasta\"):\n",
    "    ID = str(seq_record.description).split('.')[0].strip()\n",
    "    pep_ids.append(ID); pep_seq.append( str(seq_record.seq).strip() )\n",
    "pep_pd = pd.DataFrame(zip(pep_ids,pep_seq),columns=['id','seq'])"
   ]
  },
  {
   "cell_type": "code",
   "execution_count": 32,
   "id": "63349aa5",
   "metadata": {},
   "outputs": [],
   "source": [
    "proteome = pd.read_csv('../data/blast_results/9823-PXD145877_Mueller_Nature_2020_Sus_scrofa_LLC-PK1_kidney.txt',\\\n",
    "                       sep='\\t',comment='#',header=None, names=['id','abundance'])\n",
    "id_list = [x.split('.')[1].strip() for x in proteome.id]\n",
    "proteome = pd.DataFrame(zip(id_list, list(proteome.abundance)), columns=['id','abundance'])\n",
    "pep_pd = pep_pd[pep_pd.id.isin(proteome.id)]\n",
    "proteome = pd.merge(proteome, pep_pd, on='id')\n",
    "proteome = proteome[proteome.abundance>1.0].reset_index().drop(['index'],axis=1)"
   ]
  },
  {
   "cell_type": "code",
   "execution_count": 33,
   "id": "dc89cc34",
   "metadata": {},
   "outputs": [],
   "source": [
    "AAs=list('ACDEFGHIKLMNPQRSTVWY');AA_count={k:0 for k in AAs};\n",
    "for i in range(len(proteome.index)):\n",
    "    for aa in AAs:\n",
    "        AA_count[aa] += (list(proteome.seq)[i].count(aa)*list(proteome.abundance)[i])/len(list(proteome.seq)[i])"
   ]
  },
  {
   "cell_type": "code",
   "execution_count": 48,
   "id": "6996aba4",
   "metadata": {},
   "outputs": [],
   "source": [
    "# AA_ratio = {k: AA_count[k]/sum(list(AA_count.values())) for k in AAs}\n",
    "# AA_ratio = pd.DataFrame(zip(AA_ratio.keys(), AA_ratio.values()), columns=['AA','Ratio'])\n",
    "# AA_ratio.to_csv('../data/blast_results/pig_AA_molratio.csv',index=None)"
   ]
  },
  {
   "cell_type": "code",
   "execution_count": 51,
   "id": "bd401e83",
   "metadata": {},
   "outputs": [],
   "source": [
    "AA_ratio = pd.read_csv('../data/blast_results/pig_AA_molratio.csv')"
   ]
  },
  {
   "cell_type": "code",
   "execution_count": 52,
   "id": "fc4d0e40",
   "metadata": {},
   "outputs": [
    {
     "data": {
      "text/html": [
       "<div>\n",
       "<style scoped>\n",
       "    .dataframe tbody tr th:only-of-type {\n",
       "        vertical-align: middle;\n",
       "    }\n",
       "\n",
       "    .dataframe tbody tr th {\n",
       "        vertical-align: top;\n",
       "    }\n",
       "\n",
       "    .dataframe thead th {\n",
       "        text-align: right;\n",
       "    }\n",
       "</style>\n",
       "<table border=\"1\" class=\"dataframe\">\n",
       "  <thead>\n",
       "    <tr style=\"text-align: right;\">\n",
       "      <th></th>\n",
       "      <th>AA</th>\n",
       "      <th>Ratio</th>\n",
       "    </tr>\n",
       "  </thead>\n",
       "  <tbody>\n",
       "    <tr>\n",
       "      <th>0</th>\n",
       "      <td>A</td>\n",
       "      <td>0.076299</td>\n",
       "    </tr>\n",
       "    <tr>\n",
       "      <th>1</th>\n",
       "      <td>C</td>\n",
       "      <td>0.014976</td>\n",
       "    </tr>\n",
       "    <tr>\n",
       "      <th>2</th>\n",
       "      <td>D</td>\n",
       "      <td>0.058724</td>\n",
       "    </tr>\n",
       "    <tr>\n",
       "      <th>3</th>\n",
       "      <td>E</td>\n",
       "      <td>0.075965</td>\n",
       "    </tr>\n",
       "    <tr>\n",
       "      <th>4</th>\n",
       "      <td>F</td>\n",
       "      <td>0.038120</td>\n",
       "    </tr>\n",
       "    <tr>\n",
       "      <th>5</th>\n",
       "      <td>G</td>\n",
       "      <td>0.074253</td>\n",
       "    </tr>\n",
       "    <tr>\n",
       "      <th>6</th>\n",
       "      <td>H</td>\n",
       "      <td>0.020345</td>\n",
       "    </tr>\n",
       "    <tr>\n",
       "      <th>7</th>\n",
       "      <td>I</td>\n",
       "      <td>0.050068</td>\n",
       "    </tr>\n",
       "    <tr>\n",
       "      <th>8</th>\n",
       "      <td>K</td>\n",
       "      <td>0.078755</td>\n",
       "    </tr>\n",
       "    <tr>\n",
       "      <th>9</th>\n",
       "      <td>L</td>\n",
       "      <td>0.086722</td>\n",
       "    </tr>\n",
       "    <tr>\n",
       "      <th>10</th>\n",
       "      <td>M</td>\n",
       "      <td>0.026121</td>\n",
       "    </tr>\n",
       "    <tr>\n",
       "      <th>11</th>\n",
       "      <td>N</td>\n",
       "      <td>0.037731</td>\n",
       "    </tr>\n",
       "    <tr>\n",
       "      <th>12</th>\n",
       "      <td>P</td>\n",
       "      <td>0.047186</td>\n",
       "    </tr>\n",
       "    <tr>\n",
       "      <th>13</th>\n",
       "      <td>Q</td>\n",
       "      <td>0.038666</td>\n",
       "    </tr>\n",
       "    <tr>\n",
       "      <th>14</th>\n",
       "      <td>R</td>\n",
       "      <td>0.053679</td>\n",
       "    </tr>\n",
       "    <tr>\n",
       "      <th>15</th>\n",
       "      <td>S</td>\n",
       "      <td>0.063751</td>\n",
       "    </tr>\n",
       "    <tr>\n",
       "      <th>16</th>\n",
       "      <td>T</td>\n",
       "      <td>0.051253</td>\n",
       "    </tr>\n",
       "    <tr>\n",
       "      <th>17</th>\n",
       "      <td>V</td>\n",
       "      <td>0.067792</td>\n",
       "    </tr>\n",
       "    <tr>\n",
       "      <th>18</th>\n",
       "      <td>W</td>\n",
       "      <td>0.010046</td>\n",
       "    </tr>\n",
       "    <tr>\n",
       "      <th>19</th>\n",
       "      <td>Y</td>\n",
       "      <td>0.029549</td>\n",
       "    </tr>\n",
       "  </tbody>\n",
       "</table>\n",
       "</div>"
      ],
      "text/plain": [
       "   AA     Ratio\n",
       "0   A  0.076299\n",
       "1   C  0.014976\n",
       "2   D  0.058724\n",
       "3   E  0.075965\n",
       "4   F  0.038120\n",
       "5   G  0.074253\n",
       "6   H  0.020345\n",
       "7   I  0.050068\n",
       "8   K  0.078755\n",
       "9   L  0.086722\n",
       "10  M  0.026121\n",
       "11  N  0.037731\n",
       "12  P  0.047186\n",
       "13  Q  0.038666\n",
       "14  R  0.053679\n",
       "15  S  0.063751\n",
       "16  T  0.051253\n",
       "17  V  0.067792\n",
       "18  W  0.010046\n",
       "19  Y  0.029549"
      ]
     },
     "execution_count": 52,
     "metadata": {},
     "output_type": "execute_result"
    }
   ],
   "source": [
    "AA_ratio"
   ]
  },
  {
   "cell_type": "code",
   "execution_count": 56,
   "id": "f0538f99",
   "metadata": {},
   "outputs": [
    {
     "data": {
      "text/plain": [
       "Text(0.5, 1.0, 'S.scrofa proteome amino acid molar ratio')"
      ]
     },
     "execution_count": 56,
     "metadata": {},
     "output_type": "execute_result"
    },
    {
     "data": {
      "image/png": "[encoded data removed]",
      "text/plain": [
       "<Figure size 576x432 with 1 Axes>"
      ]
     },
     "metadata": {
      "needs_background": "light"
     },
     "output_type": "display_data"
    }
   ],
   "source": [
    "fig, ax = plt.subplots(1,1,figsize=(8,6))\n",
    "ax.bar(AA_ratio.AA,AA_ratio.Ratio)\n",
    "ax.set_ylabel('Molar ratio')\n",
    "ax.set_title('S.scrofa proteome amino acid molar ratio')"
   ]
  },
  {
   "cell_type": "code",
   "execution_count": null,
   "id": "5fc9793c",
   "metadata": {},
   "outputs": [],
   "source": []
  }
 ],
 "metadata": {
  "kernelspec": {
   "display_name": "Python 3 (ipykernel)",
   "language": "python",
   "name": "python3"
  },
  "language_info": {
   "codemirror_mode": {
    "name": "ipython",
    "version": 3
   },
   "file_extension": ".py",
   "mimetype": "text/x-python",
   "name": "python",
   "nbconvert_exporter": "python",
   "pygments_lexer": "ipython3",
   "version": "3.8.10"
  }
 },
 "nbformat": 4,
 "nbformat_minor": 5
}
