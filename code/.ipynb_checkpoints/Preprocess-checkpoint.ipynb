{
 "cells": [
  {
   "cell_type": "code",
   "execution_count": 2,
   "id": "c3f8d208",
   "metadata": {},
   "outputs": [],
   "source": [
    "import cobra\n",
    "from cobra.io import load_json_model\n",
    "from Bio import SeqIO\n",
    "from Bio.Seq import Seq\n",
    "from Bio.SeqRecord import SeqRecord\n",
    "import numpy as np"
   ]
  },
  {
   "cell_type": "code",
   "execution_count": 3,
   "id": "46d7e1a0",
   "metadata": {},
   "outputs": [],
   "source": [
    "recon1 = load_json_model('../data/gems/RECON1.json')\n",
    "icho = load_json_model('../data/gems/iCHOv1.json')\n",
    "sc = load_json_model('../data/gems/iMM904.json')"
   ]
  },
  {
   "cell_type": "code",
   "execution_count": 4,
   "id": "3abc4374",
   "metadata": {},
   "outputs": [],
   "source": [
    "recon1_genes = [ gene.name for gene in recon1.genes ]\n",
    "icho_genes = [ gene.name for gene in icho.genes ]\n",
    "sc_genes = [ gene.name for gene in sc.genes ]"
   ]
  },
  {
   "cell_type": "code",
   "execution_count": 5,
   "id": "9856029d",
   "metadata": {},
   "outputs": [],
   "source": [
    "# recon1_records = []; uniq_genes = [];\n",
    "# for seq_record in SeqIO.parse( '../../Proteomes/GRCh38_cds.fna' , \"fasta\"):\n",
    "#     if 'gene=' not in str(seq_record.description):\n",
    "#     ID = str(seq_record.description).split('gene=')[1].split(']')[0].strip()\n",
    "#     if ID in recon1_genes:\n",
    "#         uniq_genes.append(ID)\n",
    "#         seq = str(seq_record.seq)\n",
    "#         recon1_records.append( SeqRecord(Seq(seq), id = ID, name=\"\",description=\"\") )\n",
    "# SeqIO.write(recon1_records, '../../Proteomes/recon1_cds.fasta' ,\"fasta\")\n",
    "# uniq_genes = np.unique(uniq_genes)\n",
    "# print(len(uniq_genes))\n",
    "# print(len(recon1_genes))"
   ]
  },
  {
   "cell_type": "code",
   "execution_count": 6,
   "id": "d7284a2a",
   "metadata": {},
   "outputs": [],
   "source": [
    "# icho_records = []; uniq_genes = [];\n",
    "# for seq_record in SeqIO.parse( '../../Proteomes/CriGri_cds.fna' , \"fasta\"):\n",
    "#     if 'gene=' not in str(seq_record.description):\n",
    "#         continue\n",
    "#     ID = str(seq_record.description).split('gene=')[1].split(']')[0].strip()\n",
    "#     if ID in icho_genes:\n",
    "#         uniq_genes.append(ID)\n",
    "#         seq = str(seq_record.seq)\n",
    "#         icho_records.append( SeqRecord(Seq(seq), id = ID, name=\"\",description=\"\") )\n",
    "# SeqIO.write( icho_records, '../../Proteomes/icho_cds.fasta' ,\"fasta\")\n",
    "# uniq_genes = np.unique(uniq_genes)\n",
    "# print(len(uniq_genes))\n",
    "# print(len(icho_genes))      "
   ]
  },
  {
   "cell_type": "code",
   "execution_count": 9,
   "id": "2d7858b9",
   "metadata": {},
   "outputs": [
    {
     "name": "stdout",
     "output_type": "stream",
     "text": [
      "882\n",
      "905\n"
     ]
    }
   ],
   "source": [
    "# sc_records = []; uniq_genes = []\n",
    "# for seq_record in SeqIO.parse( '../../Proteomes/S288C_cds.fna' , \"fasta\"):\n",
    "#     if 'gene=' not in str(seq_record.description):\n",
    "#         if 'locus_tag=' in str(seq_record.description):\n",
    "#             ID = str(seq_record.description).split('locus_tag=')[1].split(']')[0].strip()\n",
    "#         else:\n",
    "#             continue\n",
    "#     else:\n",
    "#         ID = str(seq_record.description).split('gene=')[1].split(']')[0].strip()\n",
    "#     if ID in sc_genes:\n",
    "#         uniq_genes.append(ID)\n",
    "#         seq = str(seq_record.seq)\n",
    "#         sc_records.append( SeqRecord(Seq(seq), id = ID, name=\"\",description=\"\") )\n",
    "# SeqIO.write( sc_records, '../../Proteomes/sc_cds.fasta' ,\"fasta\")\n",
    "# uniq_genes = np.unique(uniq_genes) \n",
    "# print(len(uniq_genes))\n",
    "# print(len(sc_genes))   "
   ]
  },
  {
   "cell_type": "code",
   "execution_count": 10,
   "id": "5a4b4329",
   "metadata": {},
   "outputs": [],
   "source": [
    "def save_clean_fasta( in_path, out_path):\n",
    "    temp_records = SeqIO.parse( in_path , \"fasta\")\n",
    "    new_records = []\n",
    "    for seq_record in temp_records:\n",
    "        ID = str(seq_record.description).split('gene=')[1].split(']')[0].strip()\n",
    "        seq = str(seq_record.seq)\n",
    "        new_records.append( SeqRecord(Seq(seq), id = ID, name=\"\",description=\"\") )\n",
    "    SeqIO.write(new_records, out_path ,\"fasta\")\n",
    "    print( len(new_records) )"
   ]
  },
  {
   "cell_type": "code",
   "execution_count": 11,
   "id": "e37545b5",
   "metadata": {},
   "outputs": [
    {
     "name": "stdout",
     "output_type": "stream",
     "text": [
      "65094\n"
     ]
    }
   ],
   "source": [
    "# save_clean_fasta( '../../Proteomes/BT_cds.fna','../../Proteomes/BT_CDS.fasta')"
   ]
  },
  {
   "cell_type": "code",
   "execution_count": null,
   "id": "d27dd501",
   "metadata": {},
   "outputs": [],
   "source": []
  }
 ],
 "metadata": {
  "kernelspec": {
   "display_name": "Python 3 (ipykernel)",
   "language": "python",
   "name": "python3"
  },
  "language_info": {
   "codemirror_mode": {
    "name": "ipython",
    "version": 3
   },
   "file_extension": ".py",
   "mimetype": "text/x-python",
   "name": "python",
   "nbconvert_exporter": "python",
   "pygments_lexer": "ipython3",
   "version": "3.8.10"
  }
 },
 "nbformat": 4,
 "nbformat_minor": 5
}
