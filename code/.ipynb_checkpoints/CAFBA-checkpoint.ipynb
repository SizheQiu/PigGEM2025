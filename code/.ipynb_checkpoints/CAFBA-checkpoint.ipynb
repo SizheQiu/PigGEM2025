{
 "cells": [
  {
   "cell_type": "code",
   "execution_count": 1,
   "id": "6642fefe",
   "metadata": {},
   "outputs": [],
   "source": [
    "import cobra\n",
    "from cobra.io import load_json_model, save_json_model\n",
    "from cobra import Model, Reaction, Metabolite\n",
    "import numpy as np\n",
    "from math import exp\n",
    "import pandas as pd\n",
    "from matplotlib import pyplot as plt"
   ]
  },
  {
   "cell_type": "code",
   "execution_count": 2,
   "id": "d46ae636",
   "metadata": {},
   "outputs": [],
   "source": [
    "ipsc_core = load_json_model('../data/gems/iPSC_core.json')"
   ]
  },
  {
   "cell_type": "markdown",
   "id": "4eb7ae34",
   "metadata": {},
   "source": [
    "# fix reaction directions"
   ]
  },
  {
   "cell_type": "code",
   "execution_count": 3,
   "id": "6138831c",
   "metadata": {},
   "outputs": [],
   "source": [
    "for rxn_id in ['G6PDH2r','PGI','FBA','GAPD','PGK','PGM','ENO','LDH_L','ACONT','ACONTm','SUCOAS1m',\n",
    "              'SUCD1m','FUMm','MDHm','ASPTAm','GLUDym','GDHm','ACOAH','ORNTArm','ICDHym']:\n",
    "    ipsc_core.reactions.get_by_id(rxn_id).lower_bound=0.0"
   ]
  },
  {
   "cell_type": "code",
   "execution_count": 4,
   "id": "18905a96",
   "metadata": {},
   "outputs": [],
   "source": [
    "Adata = pd.read_csv('../data/gems/EnzymeActivity.csv')\n",
    "A_dict = {Adata['Rxn'][i]:Adata['Activity(mmol/hr/g)'][i] for i in range(len(Adata.index))}"
   ]
  },
  {
   "cell_type": "code",
   "execution_count": 5,
   "id": "98b1ec1a",
   "metadata": {},
   "outputs": [
    {
     "name": "stdout",
     "output_type": "stream",
     "text": [
      "dict_keys(['EX_glc__D_e', 'EX_h_e', 'EX_pi_e', 'EX_o2_e', 'EX_h2o_e', 'EX_chol_e', 'EX_hco3_e', 'EX_na1_e', 'EX_hxan_e', 'EX_so4_e', 'EX_asn__L_e', 'EX_cys__L_e', 'EX_gln__L_e', 'EX_lys__L_e', 'EX_pro__L_e', 'EX_tyr__L_e', 'EX_met__L_e', 'EX_leu__L_e', 'EX_ser__L_e', 'EX_his__L_e', 'EX_thr__L_e', 'EX_phe__L_e', 'EX_arg__L_e', 'EX_ile__L_e', 'EX_val__L_e', 'EX_trp__L_e', 'EX_asp__L_e', 'EX_k_e', 'EX_ala__L_e', 'EX_glu__L_e', 'EX_gly_e'])\n"
     ]
    }
   ],
   "source": [
    "print(ipsc_core.medium.keys())"
   ]
  },
  {
   "cell_type": "code",
   "execution_count": 6,
   "id": "8e239bde",
   "metadata": {},
   "outputs": [],
   "source": [
    "ex_aa_list = ['EX_asn__L_e', 'EX_cys__L_e', 'EX_gln__L_e', 'EX_lys__L_e', 'EX_pro__L_e', \n",
    "              'EX_tyr__L_e', 'EX_met__L_e', 'EX_leu__L_e', 'EX_ser__L_e', 'EX_his__L_e', \n",
    "              'EX_thr__L_e', 'EX_phe__L_e', 'EX_arg__L_e', 'EX_ile__L_e', 'EX_val__L_e', \n",
    "              'EX_trp__L_e', 'EX_asp__L_e', 'EX_ala__L_e', 'EX_glu__L_e', 'EX_gly_e']\n",
    "for rxn_id in ex_aa_list:\n",
    "    ipsc_core.reactions.get_by_id(rxn_id).upper_bound=0.0"
   ]
  },
  {
   "cell_type": "code",
   "execution_count": 17,
   "id": "87cc3357",
   "metadata": {},
   "outputs": [],
   "source": [
    "def set_PA(model, ptot, A_dict):\n",
    "    sigma=0.5\n",
    "    t_sector = model.reactions.EX_lac__L_e.flux_expression/(sigma*A_dict['EX_lac__L_e']) +\\\n",
    "           (-1)*model.reactions.EX_glc__D_e.flux_expression/A_dict['EX_glc__D_e'] +\\\n",
    "             model.reactions.EX_ac_e.flux_expression/(sigma*A_dict['EX_ac_e'])+\\\n",
    "            model.reactions.EX_succ_e.flux_expression/(sigma*A_dict['EX_succ_e'])+\\\n",
    "            model.reactions.EX_pyr_e.flux_expression/(sigma*A_dict['EX_pyr_e'])\n",
    "#     for ex_aa in ex_aa_list:\n",
    "#         t_sector = t_sector + (-1)*model.reactions.get_by_id(ex_aa).flux_expression/A_dict['EX_aa_e']\n",
    "        \n",
    "    a_sector = model.reactions.BIOMASS.flux_expression/A_dict['BIOMASS']\n",
    "    ngam_sector = model.reactions.ATPM.flux_expression/A_dict['ATPM']\n",
    "    c_sector = model.reactions.ENO.flux_expression/(sigma*A_dict['ENO'])\n",
    "    for k in A_dict.keys():\n",
    "        if k not in ['ENO','EX_lac__L_e', 'EX_lac__D_e','EX_glc__D_e','EX_aa_e','ATPM','BIOMASS']:\n",
    "            c_sector  = c_sector  + model.reactions.get_by_id(k).flux_expression/A_dict[k]\n",
    "    PA = model.problem.Constraint( expression = a_sector + c_sector + t_sector+ngam_sector,\n",
    "                        name = 'PA', lb= 0, ub = ptot)\n",
    "    model.add_cons_vars([ PA ])\n",
    "    return None\n",
    "\n",
    "def get_NGAM( NGAM_0, r_max, nh4_con, lac_con, k1, k2, z1, z2):\n",
    "    r = 1+(r_max-1)*(1+exp(-k1*(nh4_con-z1) ))**-1*(1+exp(-k2*(lac_con-z2) ))**-1\n",
    "    return r* NGAM_0"
   ]
  },
  {
   "cell_type": "code",
   "execution_count": 29,
   "id": "18e367ed",
   "metadata": {},
   "outputs": [
    {
     "name": "stdout",
     "output_type": "stream",
     "text": [
      "Objective\n",
      "=========\n",
      "1.0 BIOMASS = 0.0788906879867993\n",
      "\n",
      "Uptake\n",
      "------\n",
      "Metabolite    Reaction     Flux  C-Number C-Flux\n",
      "  ala__L_e EX_ala__L_e   0.0465         3  0.81%\n",
      "  arg__L_e EX_arg__L_e  0.01948         6  0.68%\n",
      "  asn__L_e EX_asn__L_e  0.05602         4  1.30%\n",
      "    chol_e   EX_chol_e  0.01196         5  0.35%\n",
      "  cys__L_e EX_cys__L_e 0.006555         3  0.11%\n",
      "  glc__D_e EX_glc__D_e    1.139         6 39.72%\n",
      "     gly_e    EX_gly_e    4.155         2 48.29%\n",
      "       h_e      EX_h_e   0.6296         0  0.00%\n",
      "    hco3_e   EX_hco3_e  0.01922         1  0.11%\n",
      "  his__L_e EX_his__L_e 0.007591         6  0.26%\n",
      "    hxan_e   EX_hxan_e  0.02118         5  0.62%\n",
      "  ile__L_e EX_ile__L_e  0.01737         6  0.61%\n",
      "  leu__L_e EX_leu__L_e  0.03371         6  1.18%\n",
      "  lys__L_e EX_lys__L_e  0.03058         6  1.07%\n",
      "  met__L_e EX_met__L_e  0.00833         5  0.24%\n",
      "      o2_e     EX_o2_e    1.311         0  0.00%\n",
      "  phe__L_e EX_phe__L_e  0.01473         9  0.77%\n",
      "      pi_e     EX_pi_e   0.7044         0  0.00%\n",
      "  pro__L_e EX_pro__L_e  0.06931         5  2.01%\n",
      "  thr__L_e EX_thr__L_e  0.02015         4  0.47%\n",
      "  trp__L_e EX_trp__L_e 0.001986        11  0.13%\n",
      "  tyr__L_e EX_tyr__L_e  0.01035         9  0.54%\n",
      "  val__L_e EX_val__L_e  0.02545         5  0.74%\n",
      "\n",
      "Secretion\n",
      "---------\n",
      "Metabolite    Reaction   Flux  C-Number C-Flux\n",
      "     co2_e    EX_co2_e -3.743         1 26.90%\n",
      "     h2o_e    EX_h2o_e -0.574         0  0.00%\n",
      "  lac__L_e EX_lac__L_e  -3.39         3 73.10%\n",
      "     nh4_e    EX_nh4_e -4.057         0  0.00%\n",
      "\n"
     ]
    }
   ],
   "source": [
    "ptot = 0.5; NGAM_0 = 5.0;\n",
    "with ipsc_core:\n",
    "    ipsc_core.reactions.ATPM.lower_bound = NGAM_0\n",
    "    # extra constraints\n",
    "    ipsc_core.reactions.EX_ac_e.upper_bound=0\n",
    "    ipsc_core.reactions.EX_succ_e.upper_bound=0\n",
    "    ipsc_core.reactions.EX_urea_e.upper_bound=0\n",
    "    ipsc_core.reactions.EX_pyr_e.upper_bound=0\n",
    "    ipsc_core.reactions.EX_cit_e.upper_bound=0\n",
    "    # Proteome constraints\n",
    "    set_PA(ipsc_core, ptot, A_dict)\n",
    "    fluxes = cobra.flux_analysis.pfba(ipsc_core).fluxes\n",
    "    print(ipsc_core.summary())"
   ]
  },
  {
   "cell_type": "code",
   "execution_count": 25,
   "id": "fc665e9e",
   "metadata": {},
   "outputs": [],
   "source": [
    "# fluxes.to_csv('../data/gems/fluxes_ipsc.csv')"
   ]
  },
  {
   "cell_type": "code",
   "execution_count": 32,
   "id": "c1e252d8",
   "metadata": {},
   "outputs": [],
   "source": [
    "def get_fluxes_NGAM(model,  ptot, A_dict, NGAM):\n",
    "    with model:\n",
    "        model.reactions.ATPM.lower_bound = NGAM\n",
    "        # extra constraints\n",
    "        model.reactions.EX_ac_e.upper_bound=0\n",
    "        model.reactions.EX_succ_e.upper_bound=0\n",
    "        model.reactions.EX_urea_e.upper_bound=0\n",
    "        model.reactions.EX_pyr_e.upper_bound=0\n",
    "        model.reactions.EX_cit_e.upper_bound=0\n",
    "        # Proteome constraints\n",
    "        set_PA(model, ptot, A_dict)\n",
    "        fluxes = cobra.flux_analysis.pfba(model).fluxes\n",
    "    return fluxes"
   ]
  },
  {
   "cell_type": "code",
   "execution_count": 33,
   "id": "c322ee7c",
   "metadata": {},
   "outputs": [],
   "source": [
    "NGAMs = np.linspace(4,10); ptot=0.5;\n",
    "grs=[]; lac_fluxes=[]; nh4_fluxes=[];\n",
    "for ngam in NGAMs:\n",
    "    fluxes = get_fluxes_NGAM( ipsc_core,  ptot, A_dict, ngam)\n",
    "    grs.append(fluxes['BIOMASS'])\n",
    "    lac_fluxes.append(fluxes['EX_lac__L_e'])\n",
    "    nh4_fluxes.append(fluxes['EX_nh4_e'])"
   ]
  },
  {
   "cell_type": "code",
   "execution_count": 47,
   "id": "d9053994",
   "metadata": {},
   "outputs": [
    {
     "data": {
      "text/plain": [
       "Text(0, 0.5, 'NH4 secretion(mmol/gDW*hr)')"
      ]
     },
     "execution_count": 47,
     "metadata": {},
     "output_type": "execute_result"
    },
    {
     "data": {
      "image/png": "[encoded data removed]",
      "text/plain": [
       "<Figure size 1080x288 with 3 Axes>"
      ]
     },
     "metadata": {
      "needs_background": "light"
     },
     "output_type": "display_data"
    }
   ],
   "source": [
    "fig,axs=plt.subplots(1,3,figsize=(15,4))\n",
    "axs[0].plot(NGAMs,grs,'o',ls='--')\n",
    "axs[1].plot(NGAMs,lac_fluxes,'o',ls='--')\n",
    "axs[2].plot(NGAMs,nh4_fluxes,'o',ls='--')\n",
    "for ax in axs:\n",
    "    ax.set_xlabel('NGAM(mmol/gDW*hr)')\n",
    "axs[0].set_ylabel('Growth rate(1/hr)')\n",
    "axs[1].set_ylabel('Lactate secretion(mmol/gDW*hr)')\n",
    "axs[2].set_ylabel('NH4 secretion(mmol/gDW*hr)')"
   ]
  },
  {
   "cell_type": "code",
   "execution_count": null,
   "id": "cd90d260",
   "metadata": {},
   "outputs": [],
   "source": []
  }
 ],
 "metadata": {
  "kernelspec": {
   "display_name": "Python 3 (ipykernel)",
   "language": "python",
   "name": "python3"
  },
  "language_info": {
   "codemirror_mode": {
    "name": "ipython",
    "version": 3
   },
   "file_extension": ".py",
   "mimetype": "text/x-python",
   "name": "python",
   "nbconvert_exporter": "python",
   "pygments_lexer": "ipython3",
   "version": "3.8.10"
  }
 },
 "nbformat": 4,
 "nbformat_minor": 5
}
