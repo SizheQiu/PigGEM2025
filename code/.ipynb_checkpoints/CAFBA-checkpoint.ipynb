{
 "cells": [
  {
   "cell_type": "code",
   "execution_count": 1,
   "id": "6642fefe",
   "metadata": {},
   "outputs": [],
   "source": [
    "import cobra\n",
    "from cobra.io import load_json_model, save_json_model\n",
    "from cobra import Model, Reaction, Metabolite\n",
    "import numpy as np\n",
    "from math import exp\n",
    "import pandas as pd\n",
    "from matplotlib import pyplot as plt"
   ]
  },
  {
   "cell_type": "code",
   "execution_count": 2,
   "id": "d46ae636",
   "metadata": {},
   "outputs": [],
   "source": [
    "ipsc_core = load_json_model('../data/gems/iPSC_core.json')"
   ]
  },
  {
   "cell_type": "markdown",
   "id": "4eb7ae34",
   "metadata": {},
   "source": [
    "# fix reaction directions"
   ]
  },
  {
   "cell_type": "code",
   "execution_count": 9,
   "id": "6138831c",
   "metadata": {},
   "outputs": [],
   "source": [
    "for rxn_id in ['G6PDH2r','PGI','FBA','GAPD','PGK','PGM','ENO','LDH_L','ACONTm','SUCOAS1m',\n",
    "              'SUCD1m','FUMm','MDHm','ASPTAm']:\n",
    "    ipsc_core.reactions.get_by_id(rxn_id).lower_bound=0.0"
   ]
  },
  {
   "cell_type": "code",
   "execution_count": 19,
   "id": "18905a96",
   "metadata": {},
   "outputs": [],
   "source": [
    "Adata = pd.read_csv('../data/gems/EnzymeActivity.csv')\n",
    "A_dict = {Adata['Rxn'][i]:Adata['Activity(mmol/hr/g)'][i] for i in range(len(Adata.index))}"
   ]
  },
  {
   "cell_type": "code",
   "execution_count": 12,
   "id": "98b1ec1a",
   "metadata": {},
   "outputs": [
    {
     "name": "stdout",
     "output_type": "stream",
     "text": [
      "dict_keys(['EX_glc__D_e', 'EX_h_e', 'EX_pi_e', 'EX_o2_e', 'EX_h2o_e', 'EX_chol_e', 'EX_hco3_e', 'EX_hxan_e', 'EX_so4_e', 'EX_asn__L_e', 'EX_cys__L_e', 'EX_gln__L_e', 'EX_lys__L_e', 'EX_pro__L_e', 'EX_tyr__L_e', 'EX_met__L_e', 'EX_leu__L_e', 'EX_ser__L_e', 'EX_his__L_e', 'EX_thr__L_e', 'EX_phe__L_e', 'EX_arg__L_e', 'EX_ile__L_e', 'EX_val__L_e', 'EX_trp__L_e', 'EX_asp__L_e'])\n"
     ]
    }
   ],
   "source": [
    "print(ipsc_core.medium.keys())"
   ]
  },
  {
   "cell_type": "code",
   "execution_count": 35,
   "id": "8e239bde",
   "metadata": {},
   "outputs": [],
   "source": [
    "# ex_aa_list = ['EX_asn__L_e', 'EX_cys__L_e', 'EX_gln__L_e', 'EX_lys__L_e', 'EX_pro__L_e', 'EX_tyr__L_e',\n",
    "#               'EX_met__L_e', 'EX_leu__L_e', 'EX_ser__L_e', 'EX_his__L_e', 'EX_thr__L_e', \n",
    "#               'EX_phe__L_e', 'EX_arg__L_e', 'EX_ile__L_e', 'EX_val__L_e', 'EX_trp__L_e', 'EX_asp__L_e']"
   ]
  },
  {
   "cell_type": "code",
   "execution_count": 23,
   "id": "87cc3357",
   "metadata": {},
   "outputs": [],
   "source": [
    "def set_PA(model, ptot, A_dict):\n",
    "    sigma=0.5\n",
    "    t_sector = model.reactions.EX_lac__L_e.flux_expression/(sigma*A_dict['EX_lac__L_e']) +\\\n",
    "           (-1)*model.reactions.EX_glc__D_e.flux_expression/A_dict['EX_glc__D_e']\n",
    "#     for ex_aa in ex_aa_list:\n",
    "#         t_sector = t_sector + (-1)*model.reactions.get_by_id(ex_aa).flux_expression/A_dict['EX_aa_e']\n",
    "        \n",
    "    a_sector = model.reactions.BIOMASS_psc_core.flux_expression/A_dict['BIOMASS_psc']\n",
    "    ngam_sector = model.reactions.ATPM.flux_expression/A_dict['ATPM']\n",
    "    c_sector = model.reactions.ENO.flux_expression/(sigma*A_dict['ENO'])\n",
    "    for k in A_dict.keys():\n",
    "        if k not in ['ENO','EX_lac__L_e', 'EX_lac__D_e','EX_glc__D_e','EX_aa_e','ATPM','BIOMASS_psc']:\n",
    "            c_sector  = c_sector  + model.reactions.get_by_id(k).flux_expression/A_dict[k]\n",
    "    PA = model.problem.Constraint( expression = a_sector + c_sector+ngam_sector,\n",
    "                        name = 'PA', lb= 0, ub = ptot)\n",
    "    model.add_cons_vars([ PA ])\n",
    "    return None\n",
    "\n",
    "def get_NGAM( NGAM_0, r_max, nh4_con, lac_con, k1, k2, z1, z2):\n",
    "    r = 1+(r_max-1)*(1+exp(-k1*(nh4_con-z1) ))**-1*(1+exp(-k2*(lac_con-z2) ))**-1\n",
    "    return r* NGAM_0"
   ]
  },
  {
   "cell_type": "code",
   "execution_count": 26,
   "id": "18e367ed",
   "metadata": {},
   "outputs": [
    {
     "name": "stdout",
     "output_type": "stream",
     "text": [
      "28.874585529143186\n",
      "-0.0\n",
      "253.0320293288114\n"
     ]
    }
   ],
   "source": [
    "ptot = 0.56; NGAM_0 = 5.9;\n",
    "with ipsc_core:\n",
    "    ipsc_core.reactions.ATPM.lower_bound = NGAM_0\n",
    "    set_PA(ipsc_core, ptot, A_dict)\n",
    "    fluxes = cobra.flux_analysis.pfba(ipsc_core).fluxes\n",
    "    print(fluxes['BIOMASS_psc_core'])\n",
    "    print(fluxes['EX_lac__L_e'])\n",
    "    print(fluxes['EX_ac_e'])"
   ]
  },
  {
   "cell_type": "code",
   "execution_count": 27,
   "id": "fc665e9e",
   "metadata": {},
   "outputs": [],
   "source": [
    "# fluxes.to_csv('../data/gems/fluxes_ipsc.csv')"
   ]
  },
  {
   "cell_type": "code",
   "execution_count": null,
   "id": "e3bb517d",
   "metadata": {},
   "outputs": [],
   "source": []
  }
 ],
 "metadata": {
  "kernelspec": {
   "display_name": "Python 3 (ipykernel)",
   "language": "python",
   "name": "python3"
  },
  "language_info": {
   "codemirror_mode": {
    "name": "ipython",
    "version": 3
   },
   "file_extension": ".py",
   "mimetype": "text/x-python",
   "name": "python",
   "nbconvert_exporter": "python",
   "pygments_lexer": "ipython3",
   "version": "3.8.10"
  }
 },
 "nbformat": 4,
 "nbformat_minor": 5
}
