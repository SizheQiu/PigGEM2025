{
 "cells": [
  {
   "cell_type": "code",
   "execution_count": 2,
   "id": "6642fefe",
   "metadata": {},
   "outputs": [],
   "source": [
    "import cobra\n",
    "from cobra.io import load_json_model, save_json_model\n",
    "from cobra import Model, Reaction, Metabolite\n",
    "import numpy as np\n",
    "import pandas as pd\n",
    "from matplotlib import pyplot as plt"
   ]
  },
  {
   "cell_type": "code",
   "execution_count": 3,
   "id": "d46ae636",
   "metadata": {},
   "outputs": [],
   "source": [
    "ipsc = load_json_model('../data/gems/iPSC_gf.json')"
   ]
  },
  {
   "cell_type": "code",
   "execution_count": 25,
   "id": "535b3125",
   "metadata": {},
   "outputs": [
    {
     "data": {
      "text/html": [
       "\n",
       "        <table>\n",
       "            <tr>\n",
       "                <td><strong>Reaction identifier</strong></td><td>ASPTAm</td>\n",
       "            </tr><tr>\n",
       "                <td><strong>Name</strong></td><td>Aspartate transaminase</td>\n",
       "            </tr><tr>\n",
       "                <td><strong>Memory address</strong></td>\n",
       "                <td>0x07f57851f3d90</td>\n",
       "            </tr><tr>\n",
       "                <td><strong>Stoichiometry</strong></td>\n",
       "                <td>\n",
       "                    <p style='text-align:right'>akg_m + asp__L_m <=> glu__L_m + oaa_m</p>\n",
       "                    <p style='text-align:right'>2-Oxoglutarate + L-Aspartate <=> L-Glutamate + Oxaloacetate</p>\n",
       "                </td>\n",
       "            </tr><tr>\n",
       "                <td><strong>GPR</strong></td><td>NP_999093_1</td>\n",
       "            </tr><tr>\n",
       "                <td><strong>Lower bound</strong></td><td>-1000.0</td>\n",
       "            </tr><tr>\n",
       "                <td><strong>Upper bound</strong></td><td>1000.0</td>\n",
       "            </tr>\n",
       "        </table>\n",
       "        "
      ],
      "text/plain": [
       "<Reaction ASPTAm at 0x7f57851f3d90>"
      ]
     },
     "execution_count": 25,
     "metadata": {},
     "output_type": "execute_result"
    }
   ],
   "source": [
    "ipsc.reactions.ASPTAm"
   ]
  },
  {
   "cell_type": "markdown",
   "id": "4eb7ae34",
   "metadata": {},
   "source": [
    "# fix reaction directions"
   ]
  },
  {
   "cell_type": "code",
   "execution_count": null,
   "id": "6138831c",
   "metadata": {},
   "outputs": [],
   "source": [
    "ipsc.reactions.G6PDH2r.lower_bound=0.0\n",
    "ipsc.reactions.PGI.lower_bound=0.0\n",
    "ipsc.reactions.FBA.lower_bound=0.0\n",
    "ipsc.reactions.GAPD.lower_bound=0.0\n",
    "ipsc.reactions.PGK.build_reaction_string('13dpg_c + adp_c --> 3pg_c + atp_c')\n",
    "ipsc.reactions.PGK.lower_bound=0.0\n",
    "ipsc.reactions.PGM.build_reaction_string('3pg_c --> 2pg_c')\n",
    "ipsc.reactions.PGM.lower_bound=0.0\n",
    "ipsc.reactions.ENO.lower_bound=0.0\n",
    "ipsc.reactions.LDH_D.build_reaction_string('h_c + nadh_c + pyr_c --> lac__D_c + nad_c')\n",
    "ipsc.reactions.LDH_D.lower_bound=0.0\n",
    "ipsc.reactions.LDH_L.build_reaction_string('h_c + nadh_c + pyr_c --> lac__L_c + nad_c')\n",
    "ipsc.reactions.LDH_L.lower_bound=0.0\n",
    "ipsc.reactions.LDH_Lm.build_reaction_string('h_m + nadh_m + pyr_m --> lac__L_m + nad_m')\n",
    "ipsc.reactions.LDH_Lm.lower_bound=0.0\n",
    "ipsc.reactions.ACONTm.lower_bound=0.0\n",
    "ipsc.reactions.SUCOAS1m.build_reaction_string('gdp_m + pi_m + succoa_m --> coa_m + gtp_m + succ_m')\n",
    "ipsc.reactions.SUCOAS1m.lower_bound=0.0\n",
    "ipsc.reactions.SUCD1m.lower_bound=0.0\n",
    "ipsc.reactions.FUMm.lower_bound=0.0\n",
    "ipsc.reactions.MDHm.lower_bound=0.0\n",
    "ipsc.reactions.ASPTAm.lower_bound=0.0"
   ]
  },
  {
   "cell_type": "code",
   "execution_count": null,
   "id": "f38a2b49",
   "metadata": {},
   "outputs": [],
   "source": [
    "##########"
   ]
  },
  {
   "cell_type": "code",
   "execution_count": null,
   "id": "87cc3357",
   "metadata": {},
   "outputs": [],
   "source": []
  }
 ],
 "metadata": {
  "kernelspec": {
   "display_name": "Python 3 (ipykernel)",
   "language": "python",
   "name": "python3"
  },
  "language_info": {
   "codemirror_mode": {
    "name": "ipython",
    "version": 3
   },
   "file_extension": ".py",
   "mimetype": "text/x-python",
   "name": "python",
   "nbconvert_exporter": "python",
   "pygments_lexer": "ipython3",
   "version": "3.8.10"
  }
 },
 "nbformat": 4,
 "nbformat_minor": 5
}
