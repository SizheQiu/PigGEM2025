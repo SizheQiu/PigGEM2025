{
 "cells": [
  {
   "cell_type": "code",
   "execution_count": 11,
   "id": "e3e01ace",
   "metadata": {},
   "outputs": [],
   "source": [
    "from Bio import SeqIO\n",
    "from Bio.Seq import Seq\n",
    "from Bio.SeqRecord import SeqRecord\n",
    "import numpy as np\n",
    "import pandas as pd\n",
    "import requests\n",
    "from matplotlib import pyplot as plt\n",
    "import cobra\n",
    "from cobra.io import load_json_model, save_json_model\n",
    "from cobra import Model, Reaction, Metabolite"
   ]
  },
  {
   "cell_type": "code",
   "execution_count": 12,
   "id": "465f9acf",
   "metadata": {},
   "outputs": [],
   "source": [
    "Biomass = pd.read_csv('../data/exp_data/Biomass.csv')"
   ]
  },
  {
   "cell_type": "code",
   "execution_count": 13,
   "id": "de63f52b",
   "metadata": {},
   "outputs": [
    {
     "data": {
      "text/html": [
       "<div>\n",
       "<style scoped>\n",
       "    .dataframe tbody tr th:only-of-type {\n",
       "        vertical-align: middle;\n",
       "    }\n",
       "\n",
       "    .dataframe tbody tr th {\n",
       "        vertical-align: top;\n",
       "    }\n",
       "\n",
       "    .dataframe thead th {\n",
       "        text-align: right;\n",
       "    }\n",
       "</style>\n",
       "<table border=\"1\" class=\"dataframe\">\n",
       "  <thead>\n",
       "    <tr style=\"text-align: right;\">\n",
       "      <th></th>\n",
       "      <th>Component</th>\n",
       "      <th>mass_avg</th>\n",
       "      <th>mass_std</th>\n",
       "      <th>unit</th>\n",
       "    </tr>\n",
       "  </thead>\n",
       "  <tbody>\n",
       "    <tr>\n",
       "      <th>0</th>\n",
       "      <td>Protein</td>\n",
       "      <td>237.29</td>\n",
       "      <td>11.35</td>\n",
       "      <td>pg</td>\n",
       "    </tr>\n",
       "    <tr>\n",
       "      <th>1</th>\n",
       "      <td>DNA</td>\n",
       "      <td>3.78</td>\n",
       "      <td>0.03</td>\n",
       "      <td>pg</td>\n",
       "    </tr>\n",
       "    <tr>\n",
       "      <th>2</th>\n",
       "      <td>RNA</td>\n",
       "      <td>15.75</td>\n",
       "      <td>0.39</td>\n",
       "      <td>pg</td>\n",
       "    </tr>\n",
       "    <tr>\n",
       "      <th>3</th>\n",
       "      <td>Total</td>\n",
       "      <td>352.24</td>\n",
       "      <td>6.38</td>\n",
       "      <td>pg</td>\n",
       "    </tr>\n",
       "  </tbody>\n",
       "</table>\n",
       "</div>"
      ],
      "text/plain": [
       "  Component  mass_avg  mass_std unit\n",
       "0   Protein    237.29     11.35   pg\n",
       "1       DNA      3.78      0.03   pg\n",
       "2       RNA     15.75      0.39   pg\n",
       "3     Total    352.24      6.38   pg"
      ]
     },
     "execution_count": 13,
     "metadata": {},
     "output_type": "execute_result"
    }
   ],
   "source": [
    "Biomass"
   ]
  },
  {
   "cell_type": "code",
   "execution_count": 14,
   "id": "ac99e0a5",
   "metadata": {},
   "outputs": [
    {
     "data": {
      "image/png": "[encoded data removed]",
      "text/plain": [
       "<Figure size 720x432 with 2 Axes>"
      ]
     },
     "metadata": {
      "needs_background": "light"
     },
     "output_type": "display_data"
    }
   ],
   "source": [
    "fig, axs = plt.subplots(1,2,figsize=(10,6))\n",
    "bars=axs[0].bar(Biomass.Component,Biomass.mass_avg,yerr=Biomass.mass_std, color=['orange','tab:purple','tab:red','tab:grey'])\n",
    "axs[0].set_ylabel('Dry mass (pg/cell)',fontsize=14)\n",
    "mass_frac=list(np.array(Biomass.mass_avg)/max(Biomass.mass_avg))[:-1]\n",
    "mass_frac.append(1-sum(mass_frac))\n",
    "axs[1].pie(mass_frac,labels=['Protein','DNA','RNA','Others'],autopct='%1.1f%%',textprops={'fontsize': 16},\n",
    "          colors=['orange','tab:purple','tab:red','tab:grey']);\n",
    "for bar in bars:\n",
    "    axs[0].text(bar.get_x() + bar.get_width() / 2, bar.get_height()+5,\n",
    "    f'{bar.get_height():.0f}', ha='center', va='bottom', fontsize=14)\n",
    "# plt.savefig('../../Figures/biomass_frac.svg',format='svg',dpi=150)"
   ]
  },
  {
   "cell_type": "markdown",
   "id": "2fa65464",
   "metadata": {},
   "source": [
    "# Amino acids"
   ]
  },
  {
   "cell_type": "code",
   "execution_count": null,
   "id": "440cb854",
   "metadata": {},
   "outputs": [],
   "source": [
    "pep_ids=[]; pep_seq=[];\n",
    "for seq_record in SeqIO.parse( '../data/blast_results/Sus_scrofa.Sscrofa10.2.pep.all.fa' , \"fasta\"):\n",
    "    ID = str(seq_record.description).split('.')[0].strip()\n",
    "    pep_ids.append(ID); pep_seq.append( str(seq_record.seq).strip() )\n",
    "pep_pd = pd.DataFrame(zip(pep_ids,pep_seq),columns=['id','seq'])"
   ]
  },
  {
   "cell_type": "code",
   "execution_count": null,
   "id": "63349aa5",
   "metadata": {},
   "outputs": [],
   "source": [
    "proteome = pd.read_csv('../data/blast_results/9823-PXD145877_Mueller_Nature_2020_Sus_scrofa_LLC-PK1_kidney.txt',\\\n",
    "                       sep='\\t',comment='#',header=None, names=['id','abundance'])\n",
    "id_list = [x.split('.')[1].strip() for x in proteome.id]\n",
    "proteome = pd.DataFrame(zip(id_list, list(proteome.abundance)), columns=['id','abundance'])\n",
    "pep_pd = pep_pd[pep_pd.id.isin(proteome.id)]\n",
    "proteome = pd.merge(proteome, pep_pd, on='id')\n",
    "proteome = proteome[proteome.abundance>1.0].reset_index().drop(['index'],axis=1)"
   ]
  },
  {
   "cell_type": "code",
   "execution_count": null,
   "id": "dc89cc34",
   "metadata": {},
   "outputs": [],
   "source": [
    "AAs=list('ACDEFGHIKLMNPQRSTVWY');AA_count={k:0 for k in AAs};\n",
    "for i in range(len(proteome.index)):\n",
    "    for aa in AAs:\n",
    "        AA_count[aa] += (list(proteome.seq)[i].count(aa)*list(proteome.abundance)[i])/len(list(proteome.seq)[i])"
   ]
  },
  {
   "cell_type": "code",
   "execution_count": null,
   "id": "6996aba4",
   "metadata": {},
   "outputs": [],
   "source": [
    "# AA_ratio = {k: AA_count[k]/sum(list(AA_count.values())) for k in AAs}\n",
    "# AA_ratio = pd.DataFrame(zip(AA_ratio.keys(), AA_ratio.values()), columns=['AA','Ratio'])\n",
    "# AA_ratio.to_csv('../data/blast_results/pig_AA_molratio.csv',index=None)"
   ]
  },
  {
   "cell_type": "code",
   "execution_count": 15,
   "id": "bd401e83",
   "metadata": {},
   "outputs": [],
   "source": [
    "AA_ratio = pd.read_csv('../data/blast_results/pig_AA_molratio.csv')"
   ]
  },
  {
   "cell_type": "code",
   "execution_count": 20,
   "id": "f0538f99",
   "metadata": {},
   "outputs": [
    {
     "data": {
      "image/png": "[encoded data removed]",
      "text/plain": [
       "<Figure size 576x432 with 1 Axes>"
      ]
     },
     "metadata": {
      "needs_background": "light"
     },
     "output_type": "display_data"
    }
   ],
   "source": [
    "fig, ax = plt.subplots(1,1,figsize=(8,6))\n",
    "ax.bar(AA_ratio.AA,AA_ratio.Ratio, color='orange')\n",
    "ax.set_ylabel('Molar ratio',fontsize=14); ax.set_xlabel('Amino acid',fontsize=14);\n",
    "ax.set_title('Amino acid molar ratios',fontsize=14)\n",
    "# plt.savefig('../../Figures/aa_molarratio.svg',format='svg',dpi=150)"
   ]
  },
  {
   "cell_type": "code",
   "execution_count": null,
   "id": "5fc9793c",
   "metadata": {},
   "outputs": [],
   "source": [
    "# old_records=[]\n",
    "# for i in range(len(proteome.index)):\n",
    "#     old_records.append( SeqRecord(Seq( list(proteome.seq)[i] ), id = list(proteome.id)[i], name=\"\",description=\"\") )\n",
    "# SeqIO.write(old_records, '../data/blast_results/pig102_clean.pep.fa' ,\"fasta\")"
   ]
  },
  {
   "cell_type": "markdown",
   "id": "431297c4",
   "metadata": {},
   "source": [
    "# DNA RNA"
   ]
  },
  {
   "cell_type": "code",
   "execution_count": null,
   "id": "7f10f719",
   "metadata": {},
   "outputs": [],
   "source": [
    "# #DNA\n",
    "# base_count = {'A':0,'C':0,'G':0,'T':0}\n",
    "# for seq_record in SeqIO.parse( '../../CDS/GCF_000003025.6/GCF_000003025.6_Sscrofa11.1_genomic.fna' , \"fasta\"):\n",
    "#     seq = str(seq_record.seq)\n",
    "#     for k in base_count.keys():\n",
    "#         base_count[k]+=seq.count(k)\n",
    "# base_ratio = {k:base_count[k]/sum(base_count.values()) for k in base_count.keys()}\n",
    "# base_ratio = pd.DataFrame(zip(base_ratio.keys(), base_ratio.values()), columns=['Base','Ratio'])\n",
    "# base_ratio.to_csv('../data/blast_results/pig_DNA_molratio.csv',index=None)"
   ]
  },
  {
   "cell_type": "code",
   "execution_count": 3,
   "id": "b5732805",
   "metadata": {},
   "outputs": [],
   "source": [
    "# #RNA\n",
    "# rbase_count = {'A':0,'C':0,'G':0,'T':0}\n",
    "# for seq_record in SeqIO.parse( '../../CDS/GCF_000003025.6/rna.fna' , \"fasta\"):\n",
    "#     seq = str(seq_record.seq)\n",
    "#     for k in rbase_count.keys():\n",
    "#         rbase_count[k]+=seq.count(k)\n",
    "# rbase_ratio = {k:rbase_count[k]/sum(rbase_count.values()) for k in rbase_count.keys()}\n",
    "# rbase_ratio = pd.DataFrame(zip(rbase_ratio.keys(), rbase_ratio.values()), columns=['Base','Ratio'])\n",
    "# rbase_ratio.to_csv('../data/blast_results/pig_RNA_molratio.csv',index=None)"
   ]
  },
  {
   "cell_type": "code",
   "execution_count": 21,
   "id": "a9b05681",
   "metadata": {},
   "outputs": [],
   "source": [
    "DNA_ratio = pd.read_csv('../data/blast_results/pig_DNA_molratio.csv')\n",
    "RNA_ratio = pd.read_csv('../data/blast_results/pig_RNA_molratio.csv')"
   ]
  },
  {
   "cell_type": "code",
   "execution_count": 22,
   "id": "1120e92a",
   "metadata": {},
   "outputs": [
    {
     "data": {
      "image/png": "[encoded data removed]",
      "text/plain": [
       "<Figure size 720x432 with 2 Axes>"
      ]
     },
     "metadata": {},
     "output_type": "display_data"
    }
   ],
   "source": [
    "fig, axs = plt.subplots(1,2,figsize=(10,6))\n",
    "colors=['violet','skyblue','tab:blue','plum']\n",
    "axs[0].pie(DNA_ratio.Ratio,labels=DNA_ratio.Base,autopct='%1.1f%%',textprops={'fontsize': 16},colors=colors);\n",
    "axs[1].pie(RNA_ratio.Ratio,labels=['A','C','G','U'],autopct='%1.1f%%',textprops={'fontsize': 16},colors=colors);\n",
    "axs[0].set_title('dNTP molar ratios',y=0.95,fontsize=14)\n",
    "axs[1].set_title('NTP molar ratios',y=0.95,fontsize=14)\n",
    "# plt.savefig('../../Figures/nucleo_ratio.svg',format='svg',dpi=150)"
   ]
  },
  {
   "cell_type": "markdown",
   "id": "4d323b7c",
   "metadata": {},
   "source": [
    "# Formulate objective function"
   ]
  },
  {
   "cell_type": "code",
   "execution_count": 10,
   "id": "e1c9e2f6",
   "metadata": {},
   "outputs": [],
   "source": [
    "ipsc_core = load_json_model('../data/gems/iPSC_core.json')"
   ]
  },
  {
   "cell_type": "code",
   "execution_count": 11,
   "id": "bcf51380",
   "metadata": {},
   "outputs": [
    {
     "data": {
      "text/plain": [
       "'0.396736182 ala__L_c + 0.279116777 arg__L_c + 0.196191249 asn__L_c + 0.305350584 asp__L_c + 91.94574245300001 atp_c + 0.022003735 ctp_c + 0.077871574 cys__L_c + 0.006266274 datp_c + 0.00483971 dctp_c + 0.004843721 dgtp_c + 0.006274775 dttp_c + 0.0327 g1p_c + 0.20105409 gln__L_c + 0.395002393 glu__L_c + 0.386099129 gly_c + 0.02234101 gtp_c + 86.72251852753811 h2o_c + 0.105789533 his__L_c + 0.260340282 ile__L_c + 0.450934253 leu__L_c + 0.409510381 lys__L_c + 0.135823949 met__L_c + 0.018176901 pail_psc_c + 0.130185913 pchol_psc_c + 0.049863661 pe_psc_c + 0.001473803 pglyc_psc_c + 0.198216455 phe__L_c + 0.245357299 pro__L_c + 0.016457464 ps_psc_c + 0.331490572 ser__L_c + 0.02137014 sphmyln_psc_c + 0.266505554 thr__L_c + 0.052237587 trp__L_c + 0.153650209 tyr__L_c + 0.022448936 utp_c + 0.352503419 val__L_c --> 91.9223 adp_c + 91.9223 h_c + 91.9223 pi_c + 0.11246061318535946 ppi_c'"
      ]
     },
     "execution_count": 11,
     "metadata": {},
     "output_type": "execute_result"
    }
   ],
   "source": [
    "ipsc_core.reactions.BIOMASS.reaction"
   ]
  },
  {
   "cell_type": "code",
   "execution_count": 12,
   "id": "e40ae8b4",
   "metadata": {},
   "outputs": [],
   "source": [
    "aa_mws=[]\n",
    "for aa_id in list(AA_ratio.AA_id):\n",
    "    aa_mws.append( ipsc_core.metabolites.get_by_id(aa_id+'_c').formula_weight)\n",
    "AA_ratio['MW']=aa_mws\n",
    "protein_coeff = mass_frac[0]/sum(AA_ratio.Ratio*AA_ratio.MW)\n",
    "aa_coeff = {}\n",
    "for i in AA_ratio.index:\n",
    "    aa_coeff[AA_ratio.AA_id[i]]=protein_coeff*AA_ratio.Ratio[i]*1e3"
   ]
  },
  {
   "cell_type": "code",
   "execution_count": 13,
   "id": "3f99621c",
   "metadata": {},
   "outputs": [],
   "source": [
    "dna_mws=[]\n",
    "for dna_id in list(DNA_ratio.Base_id):\n",
    "    dna_mws.append(ipsc_core.metabolites.get_by_id(dna_id+'_c').formula_weight)\n",
    "DNA_ratio['MW']=dna_mws\n",
    "dna_coeff = mass_frac[1]/sum(DNA_ratio.Ratio*DNA_ratio.MW)\n",
    "dntp_coeff = {}\n",
    "for i in DNA_ratio.index:\n",
    "    dntp_coeff[DNA_ratio.Base_id[i]]=dna_coeff*DNA_ratio.Ratio[i]*1e3"
   ]
  },
  {
   "cell_type": "code",
   "execution_count": 14,
   "id": "3616d981",
   "metadata": {},
   "outputs": [],
   "source": [
    "rna_mws=[]\n",
    "for rna_id in list(RNA_ratio.Base_id):\n",
    "    rna_mws.append(ipsc_core.metabolites.get_by_id(rna_id+'_c').formula_weight)\n",
    "RNA_ratio['MW']=rna_mws\n",
    "rna_coeff = mass_frac[2]/sum(RNA_ratio.Ratio*RNA_ratio.MW)\n",
    "ntp_coeff = {}\n",
    "for i in RNA_ratio.index:\n",
    "    ntp_coeff[RNA_ratio.Base_id[i]]=rna_coeff*RNA_ratio.Ratio[i]*1e3"
   ]
  },
  {
   "cell_type": "code",
   "execution_count": 15,
   "id": "b060a813",
   "metadata": {},
   "outputs": [
    {
     "name": "stdout",
     "output_type": "stream",
     "text": [
      "0.396736182 ala__L_c + 0.077871574 cys__L_c + 0.305350584 asp__L_c + 0.395002393 glu__L_c + 0.198216455 phe__L_c + 0.386099129 gly_c + 0.105789533 his__L_c + 0.260340282 ile__L_c + 0.409510381 lys__L_c + 0.450934253 leu__L_c + 0.135823949 met__L_c + 0.196191249 asn__L_c + 0.245357299 pro__L_c + 0.20105409 gln__L_c + 0.279116777 arg__L_c + 0.331490572 ser__L_c + 0.266505554 thr__L_c + 0.352503419 val__L_c + 0.052237587 trp__L_c + 0.153650209 tyr__L_c + 0.006266274 datp_c + 0.00483971 dctp_c + 0.004843721 dgtp_c + 0.006274775 dttp_c + 93.888242453 atp_c + 0.022003735 ctp_c + 0.02234101 gtp_c + 0.022448936 utp_c + 0.018176901 pail_psc_c + 0.130185913 pchol_psc_c + 0.049863661 pe_psc_c + 0.001473803 pglyc_psc_c + 0.016457464 ps_psc_c + 0.02137014 sphmyln_psc_c + 0.0327 g1p_c + 88.66501852753811 h2o_c --> 93.8648 adp_c + 93.8648 h_c + 93.8648 pi_c + 0.11246061318535946 ppi_c\n"
     ]
    }
   ],
   "source": [
    "GAM=93.8648\n",
    "lipids='0.018176901 pail_psc_c + 0.130185913 pchol_psc_c + 0.049863661 pe_psc_c + 0.001473803 pglyc_psc_c + \\\n",
    "0.016457464 ps_psc_c + 0.02137014 sphmyln_psc_c'\n",
    "h2o_coeff = GAM - sum(aa_coeff.values())\n",
    "total_glyco = 0.0327 #mmol/g cell\n",
    "right_side = str(GAM) + ' adp_c + '+str(GAM)+' h_c + '+str(GAM)+' pi_c + '\\\n",
    "        +str(sum(ntp_coeff.values())+sum(dntp_coeff.values())) + ' ppi_c'\n",
    "left_side=''\n",
    "for aa in aa_coeff:\n",
    "    left_side+= str( round(aa_coeff[aa],9) )+' '+aa+'_c + '\n",
    "for dntp in dntp_coeff:\n",
    "    left_side+= str( round(dntp_coeff[dntp],9) )+' '+dntp+'_c + '\n",
    "for ntp in ntp_coeff:\n",
    "    if ntp == 'atp':\n",
    "        left_side+= str( round(ntp_coeff['atp'],9)+GAM ) +' atp_c + '\n",
    "    else:\n",
    "        left_side+= str( round(ntp_coeff[ntp],9) )+' '+ntp+'_c + '\n",
    "left_side += lipids\n",
    "left_side += ' + '+str(total_glyco) + ' g1p_c + '+str(h2o_coeff) + ' h2o_c'\n",
    "obj_func = left_side + ' --> '+ right_side\n",
    "print(obj_func)"
   ]
  },
  {
   "cell_type": "code",
   "execution_count": null,
   "id": "f5dada3c",
   "metadata": {},
   "outputs": [],
   "source": []
  }
 ],
 "metadata": {
  "kernelspec": {
   "display_name": "Python 3 (ipykernel)",
   "language": "python",
   "name": "python3"
  },
  "language_info": {
   "codemirror_mode": {
    "name": "ipython",
    "version": 3
   },
   "file_extension": ".py",
   "mimetype": "text/x-python",
   "name": "python",
   "nbconvert_exporter": "python",
   "pygments_lexer": "ipython3",
   "version": "3.8.10"
  }
 },
 "nbformat": 4,
 "nbformat_minor": 5
}
