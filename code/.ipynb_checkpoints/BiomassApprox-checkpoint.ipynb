{
 "cells": [
  {
   "cell_type": "code",
   "execution_count": 1,
   "id": "e3e01ace",
   "metadata": {},
   "outputs": [],
   "source": [
    "from Bio import SeqIO\n",
    "from Bio.Seq import Seq\n",
    "from Bio.SeqRecord import SeqRecord\n",
    "import numpy as np\n",
    "import pandas as pd\n",
    "import requests\n",
    "from matplotlib import pyplot as plt"
   ]
  },
  {
   "cell_type": "code",
   "execution_count": 2,
   "id": "465f9acf",
   "metadata": {},
   "outputs": [
    {
     "data": {
      "text/plain": [
       "{'Protein': 0.3212525722950287,\n",
       " 'DNA': 0.00511751326762699,\n",
       " 'RNA': 0.021322971948445794,\n",
       " 'Other': 0.6523069424888985}"
      ]
     },
     "execution_count": 2,
     "metadata": {},
     "output_type": "execute_result"
    }
   ],
   "source": [
    "biomass = {'Protein':237.29/738.64,'DNA':3.78/738.64,'RNA':15.75/738.64}\n",
    "biomass['Other'] = 1-sum(biomass.values())\n",
    "biomass"
   ]
  },
  {
   "cell_type": "markdown",
   "id": "2fa65464",
   "metadata": {},
   "source": [
    "# Amino acids"
   ]
  },
  {
   "cell_type": "code",
   "execution_count": null,
   "id": "440cb854",
   "metadata": {},
   "outputs": [],
   "source": [
    "pep_ids=[]; pep_seq=[];\n",
    "for seq_record in SeqIO.parse( '../data/blast_results/Sus_scrofa.Sscrofa10.2.pep.all.fa' , \"fasta\"):\n",
    "    ID = str(seq_record.description).split('.')[0].strip()\n",
    "    pep_ids.append(ID); pep_seq.append( str(seq_record.seq).strip() )\n",
    "pep_pd = pd.DataFrame(zip(pep_ids,pep_seq),columns=['id','seq'])"
   ]
  },
  {
   "cell_type": "code",
   "execution_count": null,
   "id": "63349aa5",
   "metadata": {},
   "outputs": [],
   "source": [
    "proteome = pd.read_csv('../data/blast_results/9823-PXD145877_Mueller_Nature_2020_Sus_scrofa_LLC-PK1_kidney.txt',\\\n",
    "                       sep='\\t',comment='#',header=None, names=['id','abundance'])\n",
    "id_list = [x.split('.')[1].strip() for x in proteome.id]\n",
    "proteome = pd.DataFrame(zip(id_list, list(proteome.abundance)), columns=['id','abundance'])\n",
    "pep_pd = pep_pd[pep_pd.id.isin(proteome.id)]\n",
    "proteome = pd.merge(proteome, pep_pd, on='id')\n",
    "proteome = proteome[proteome.abundance>1.0].reset_index().drop(['index'],axis=1)"
   ]
  },
  {
   "cell_type": "code",
   "execution_count": null,
   "id": "dc89cc34",
   "metadata": {},
   "outputs": [],
   "source": [
    "AAs=list('ACDEFGHIKLMNPQRSTVWY');AA_count={k:0 for k in AAs};\n",
    "for i in range(len(proteome.index)):\n",
    "    for aa in AAs:\n",
    "        AA_count[aa] += (list(proteome.seq)[i].count(aa)*list(proteome.abundance)[i])/len(list(proteome.seq)[i])"
   ]
  },
  {
   "cell_type": "code",
   "execution_count": null,
   "id": "6996aba4",
   "metadata": {},
   "outputs": [],
   "source": [
    "# AA_ratio = {k: AA_count[k]/sum(list(AA_count.values())) for k in AAs}\n",
    "# AA_ratio = pd.DataFrame(zip(AA_ratio.keys(), AA_ratio.values()), columns=['AA','Ratio'])\n",
    "# AA_ratio.to_csv('../data/blast_results/pig_AA_molratio.csv',index=None)"
   ]
  },
  {
   "cell_type": "code",
   "execution_count": null,
   "id": "bd401e83",
   "metadata": {},
   "outputs": [],
   "source": [
    "AA_ratio = pd.read_csv('../data/blast_results/pig_AA_molratio.csv')"
   ]
  },
  {
   "cell_type": "code",
   "execution_count": null,
   "id": "f0538f99",
   "metadata": {},
   "outputs": [],
   "source": [
    "fig, ax = plt.subplots(1,1,figsize=(8,6))\n",
    "ax.bar(AA_ratio.AA,AA_ratio.Ratio)\n",
    "ax.set_ylabel('Molar ratio')\n",
    "ax.set_title('S.scrofa proteome amino acid molar ratio')"
   ]
  },
  {
   "cell_type": "code",
   "execution_count": null,
   "id": "5fc9793c",
   "metadata": {},
   "outputs": [],
   "source": [
    "# old_records=[]\n",
    "# for i in range(len(proteome.index)):\n",
    "#     old_records.append( SeqRecord(Seq( list(proteome.seq)[i] ), id = list(proteome.id)[i], name=\"\",description=\"\") )\n",
    "# SeqIO.write(old_records, '../data/blast_results/pig102_clean.pep.fa' ,\"fasta\")"
   ]
  },
  {
   "cell_type": "markdown",
   "id": "431297c4",
   "metadata": {},
   "source": [
    "# DNA RNA"
   ]
  },
  {
   "cell_type": "code",
   "execution_count": null,
   "id": "7f10f719",
   "metadata": {},
   "outputs": [],
   "source": [
    "# #DNA\n",
    "# base_count = {'A':0,'C':0,'G':0,'T':0}\n",
    "# for seq_record in SeqIO.parse( '../../CDS/GCF_000003025.6/GCF_000003025.6_Sscrofa11.1_genomic.fna' , \"fasta\"):\n",
    "#     seq = str(seq_record.seq)\n",
    "#     for k in base_count.keys():\n",
    "#         base_count[k]+=seq.count(k)\n",
    "# base_ratio = {k:base_count[k]/sum(base_count.values()) for k in base_count.keys()}\n",
    "# base_ratio = pd.DataFrame(zip(base_ratio.keys(), base_ratio.values()), columns=['Base','Ratio'])\n",
    "# base_ratio.to_csv('../data/blast_results/pig_DNA_molratio.csv',index=None)"
   ]
  },
  {
   "cell_type": "code",
   "execution_count": 3,
   "id": "b5732805",
   "metadata": {},
   "outputs": [],
   "source": [
    "# #RNA\n",
    "# rbase_count = {'A':0,'C':0,'G':0,'T':0}\n",
    "# for seq_record in SeqIO.parse( '../../CDS/GCF_000003025.6/rna.fna' , \"fasta\"):\n",
    "#     seq = str(seq_record.seq)\n",
    "#     for k in rbase_count.keys():\n",
    "#         rbase_count[k]+=seq.count(k)\n",
    "# rbase_ratio = {k:rbase_count[k]/sum(rbase_count.values()) for k in rbase_count.keys()}\n",
    "# rbase_ratio = pd.DataFrame(zip(rbase_ratio.keys(), rbase_ratio.values()), columns=['Base','Ratio'])\n",
    "# rbase_ratio.to_csv('../data/blast_results/pig_RNA_molratio.csv',index=None)"
   ]
  },
  {
   "cell_type": "code",
   "execution_count": 7,
   "id": "a9b05681",
   "metadata": {},
   "outputs": [],
   "source": [
    "DNA_ratio = pd.read_csv('../data/blast_results/pig_DNA_molratio.csv')\n",
    "RNA_ratio = pd.read_csv('../data/blast_results/pig_RNA_molratio.csv')"
   ]
  },
  {
   "cell_type": "code",
   "execution_count": 13,
   "id": "f6f8e9ec",
   "metadata": {},
   "outputs": [
    {
     "data": {
      "image/png": "[encoded data removed]",
      "text/plain": [
       "<Figure size 720x432 with 2 Axes>"
      ]
     },
     "metadata": {
      "needs_background": "light"
     },
     "output_type": "display_data"
    }
   ],
   "source": [
    "fig, axs = plt.subplots(1,2,figsize=(10,6))\n",
    "axs[0].bar(DNA_ratio.Base, DNA_ratio.Ratio,width=0.5)\n",
    "axs[0].set_ylabel('Molar ratio')\n",
    "axs[0].set_title('S.scrofa DNA molar ratio')\n",
    "axs[1].bar(RNA_ratio.Base, RNA_ratio.Ratio,width=0.5)\n",
    "axs[1].set_ylabel('Molar ratio')\n",
    "axs[1].set_title('S.scrofa RNA molar ratio');\n",
    "axs[1].set_xticks([0,1,2,3],['A','C','G','U']);"
   ]
  },
  {
   "cell_type": "code",
   "execution_count": null,
   "id": "288d0669",
   "metadata": {},
   "outputs": [],
   "source": []
  }
 ],
 "metadata": {
  "kernelspec": {
   "display_name": "Python 3 (ipykernel)",
   "language": "python",
   "name": "python3"
  },
  "language_info": {
   "codemirror_mode": {
    "name": "ipython",
    "version": 3
   },
   "file_extension": ".py",
   "mimetype": "text/x-python",
   "name": "python",
   "nbconvert_exporter": "python",
   "pygments_lexer": "ipython3",
   "version": "3.8.10"
  }
 },
 "nbformat": 4,
 "nbformat_minor": 5
}
