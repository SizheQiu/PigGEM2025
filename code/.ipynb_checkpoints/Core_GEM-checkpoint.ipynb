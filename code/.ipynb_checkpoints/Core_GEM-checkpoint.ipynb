{
 "cells": [
  {
   "cell_type": "code",
   "execution_count": 1,
   "id": "168cdf5c",
   "metadata": {},
   "outputs": [],
   "source": [
    "import cobra\n",
    "from cobra.io import load_json_model, save_json_model\n",
    "from cobra import Model, Reaction, Metabolite\n",
    "import numpy as np\n",
    "import pandas as pd\n",
    "from matplotlib import pyplot as plt\n",
    "from matplotlib_venn import venn2, venn3\n",
    "from cobra.manipulation.delete import remove_genes"
   ]
  },
  {
   "cell_type": "code",
   "execution_count": 2,
   "id": "76be160d",
   "metadata": {},
   "outputs": [],
   "source": [
    "ipsc = load_json_model('../data/gems/iPSC_gf.json')\n",
    "icho = load_json_model('../data/gems/iCHOv1.json')\n",
    "recon1 = load_json_model('../data/gems/RECON1.json')"
   ]
  },
  {
   "cell_type": "code",
   "execution_count": 3,
   "id": "a7ab271b",
   "metadata": {},
   "outputs": [],
   "source": [
    "def add_metabolite(model, template, met_id):\n",
    "    all_mets = [met.id for met in model.metabolites]\n",
    "    if met_id not in all_mets:\n",
    "        temp_met = template.metabolites.get_by_id( met_id )\n",
    "        model.add_metabolites([Metabolite(id=met_id, formula=temp_met.formula,\n",
    "                charge=float(temp_met.charge),name=temp_met.name, compartment=temp_met.compartment)])\n",
    "    return None\n",
    "\n",
    "def add_rxn(model, template, rxn_id):\n",
    "    all_rxns = [rxn.id for rxn in model.reactions]\n",
    "    if  rxn_id not in all_rxns:\n",
    "        temp_rxn = template.reactions.get_by_id( rxn_id )\n",
    "        model.add_reactions([Reaction(id=rxn_id,name=temp_rxn.name,subsystem= temp_rxn.subsystem,\n",
    "                lower_bound=temp_rxn.lower_bound,upper_bound=temp_rxn.upper_bound)])\n",
    "        for met in (temp_rxn.reactants+temp_rxn.products):\n",
    "            add_metabolite(model, template, met.id)\n",
    "        rxn_string = str(temp_rxn.reaction)\n",
    "        model.reactions.get_by_id(rxn_id).build_reaction_from_string(rxn_string)\n",
    "        model.reactions.get_by_id(rxn_id).gene_reaction_rule = temp_rxn.gene_reaction_rule\n",
    "    return None"
   ]
  },
  {
   "cell_type": "code",
   "execution_count": 4,
   "id": "b9387299",
   "metadata": {},
   "outputs": [],
   "source": [
    "TCA_rxns =[]; Gly_rxns=[]; PPP_rxns=[]; OXP_rxns=[]; AA_rxns=[];\n",
    "for rxn in ipsc.reactions:\n",
    "    if rxn.subsystem == 'Glycolysis/Gluconeogenesis':\n",
    "        Gly_rxns.append(rxn.id)\n",
    "    elif rxn.subsystem == 'Citric Acid Cycle':\n",
    "        TCA_rxns.append(rxn.id)\n",
    "    elif rxn.subsystem == 'Pentose Phosphate Pathway':\n",
    "        PPP_rxns.append(rxn.id)\n",
    "    elif rxn.subsystem == 'Oxidative Phosphorylation':\n",
    "        OXP_rxns.append(rxn.id)\n",
    "    elif rxn.subsystem in ['Alanine and Aspartate Metabolism','ALANINE AND ASPARTATE METABOLISM',\n",
    "                           'Glycine, Serine, and Threonine Metabolism','GLYCINE, SERINE, AND THREONINE METABOLISM',\n",
    "                           'METHIONINE AND CYSTEINE METABOLISM',\n",
    "                        'Methionine Metabolism','METHIONINE METABOLISM','Cysteine Metabolism','Glutamate metabolism',\n",
    "                    'Valine, Leucine, and Isoleucine Metabolism', 'VALINE, LEUCINE, AND ISOLEUCINE METABOLISM',\n",
    "                'LYSINE METABOLISM', 'Lysine Metabolism', 'PHENYLALANINE METABOLISM','Phenylalanine metabolism',\n",
    "                'Tyr, Phe, Trp Biosynthesis','Tryptophan metabolism','TRYPTOPHAN METABOLISM','Tyrosine metabolism',\n",
    "                           'Arginine and Proline Metabolism','Histidine Metabolism']:\n",
    "        AA_rxns.append(rxn.id)"
   ]
  },
  {
   "cell_type": "code",
   "execution_count": 5,
   "id": "e6e656d0",
   "metadata": {},
   "outputs": [],
   "source": [
    "ipsc_core = Model('iPSC_core')\n",
    "for rxn_id in (TCA_rxns+Gly_rxns+PPP_rxns):\n",
    "    add_rxn(ipsc_core, ipsc, rxn_id)\n",
    "add_rxn(ipsc_core, ipsc, 'ATPM');\n",
    "# shuttle\n",
    "add_rxn(ipsc_core, ipsc, 'ASPGLUm'); add_rxn(ipsc_core, ipsc, 'AKGMALtm');add_rxn(ipsc_core, ipsc, 'ASPTAm');\n",
    "add_rxn(ipsc_core, ipsc, 'GLUDym'); add_rxn(ipsc_core, ipsc, 'MDH');\n",
    "add_rxn(ipsc_core, ipsc, 'ALATA_L');\n",
    "# glycogen\n",
    "add_rxn(ipsc_core, ipsc, 'GALUi'); add_rxn(ipsc_core, ipsc, 'UGLT'); add_rxn(ipsc_core, ipsc, 'UDPG4E');\n",
    "# Transportation\n",
    "add_rxn(ipsc_core, ipsc, 'O2tm'); add_rxn(ipsc_core, ipsc, 'PIt2m'); add_rxn(ipsc_core, ipsc, 'Htm'); \n",
    "add_rxn(ipsc_core, ipsc, 'ATPtm'); add_rxn(ipsc_core, ipsc, 'PYRt2m'); add_rxn(ipsc_core, ipsc, 'GLCt2'); \n",
    "add_rxn(ipsc_core, ipsc, 'GLCt1'); add_rxn(ipsc_core, ipsc, 'L_LACt2r'); add_rxn(ipsc_core, icho, 'PIt'); \n",
    "add_rxn(ipsc_core, ipsc, 'O2t'); add_rxn(ipsc_core, ipsc, 'NH4t3r'); add_rxn(ipsc_core, ipsc, 'NH4tm');\n",
    "add_rxn(ipsc_core, icho, '2AOBUTtm'); add_rxn(ipsc_core, ipsc, 'H2Ot'); add_rxn(ipsc_core, ipsc, 'PYRt2');"
   ]
  },
  {
   "cell_type": "code",
   "execution_count": 6,
   "id": "ea6b077e",
   "metadata": {},
   "outputs": [],
   "source": [
    "# oxidative phosphorylation\n",
    "OXP_nadh= Reaction(id='OXP_nadh',name='Oxidative Phosphorylation (NADH)',subsystem= 'Oxidative Phosphorylation',\n",
    "                lower_bound=0.0,upper_bound=1000.0)\n",
    "OXP_fadh2= Reaction(id='OXP_fadh2',name='Oxidative Phosphorylation (FADH2)',subsystem= 'Oxidative Phosphorylation',\n",
    "                lower_bound=0.0,upper_bound=1000.0)\n",
    "ipsc_core.add_reactions([OXP_nadh,OXP_fadh2])\n",
    "ipsc_core.reactions.OXP_nadh.build_reaction_from_string('nadh_m + 2.5 adp_m + 2.5 pi_m + 3.5 h_m + 0.5 o2_m \\\n",
    "                    --> nad_m + 2.5 atp_m + 3.5 h2o_m')\n",
    "ipsc_core.reactions.OXP_fadh2.build_reaction_from_string('fadh2_m + 1.5 adp_m + 1.5 pi_m + 1.5 h_m + 0.5 o2_m \\\n",
    "                --> fad_m + 1.5 atp_m + 2.5 h2o_m')"
   ]
  },
  {
   "cell_type": "code",
   "execution_count": 7,
   "id": "403db48c",
   "metadata": {},
   "outputs": [],
   "source": [
    "# urea cycle\n",
    "add_rxn(ipsc_core, ipsc, 'ARGNm'); add_rxn(ipsc_core, ipsc, 'UREAtm'); add_rxn(ipsc_core, ipsc, 'OCBTm');\n",
    "add_rxn(ipsc_core, ipsc, 'CBPSam'); add_rxn(ipsc_core, ipsc, 'CITRtm');add_rxn(ipsc_core, ipsc, 'ORNt4m');\n",
    "add_rxn(ipsc_core, ipsc, 'ARGSS'); add_rxn(ipsc_core, ipsc, 'ARGSL'); add_rxn(ipsc_core, ipsc, 'ORNTArm');\n",
    "add_rxn(ipsc_core, ipsc, 'GLU5SAtmc'); add_rxn(ipsc_core, icho, 'G5SADs'); add_rxn(ipsc_core, ipsc, 'P5CRx');\n",
    "add_rxn(ipsc_core, ipsc, 'P5CR');"
   ]
  },
  {
   "cell_type": "code",
   "execution_count": 8,
   "id": "2e12e640",
   "metadata": {},
   "outputs": [],
   "source": [
    "# Nucleotide, NAD+ & NADPH synthesis\n",
    "NU_rxns = ['GHMT2r','GLUPRT','PRAGSr','GARFT','PRFGS','PRAIS','AIRCr','PRASCSi','ADSL2r','AICART','IMPC',\n",
    "          'ADSS','ADSL1r','ADK1','IMPD','GMPS2','GK1','CBPS','ASPCT','DHORTS','ORPT','OMPDC','UMPK','UMPK2',\n",
    "           'NDPK2','NDPK1','NDPK3','NDPK4','NDPK5','NDPK6','NDPK7','NDPK8','TRDR',\n",
    "           'CTPS1','CTPS2','RNDR1','RNDR2','RNDR3','RNDR4','DCMPDA','TMDS','DHFR','DTMPK','NADK',\n",
    "          'NNDPR','DNADDP','NADS2','HXPRT','PPA','CYTK2','NDPK1m']\n",
    "for rxn_id in NU_rxns:\n",
    "    add_rxn(ipsc_core, ipsc, rxn_id);\n",
    "ipsc_core.reactions.DNADDP.lower_bound=-1000.0\n",
    "DHORD_NAD = Reaction(id='DHORD_NAD',name='Dihydoorotic acid dehydrogenase',subsystem='Pyrimidine Biosynthesis',\n",
    "                lower_bound=0.0,upper_bound=1000.0)\n",
    "ipsc_core.add_reactions([DHORD_NAD])\n",
    "ipsc_core.reactions.DHORD_NAD.build_reaction_from_string('dhor__S_c + nad_c --> nadh_c + orot_c')"
   ]
  },
  {
   "cell_type": "code",
   "execution_count": 9,
   "id": "e40c361b",
   "metadata": {},
   "outputs": [],
   "source": [
    "# Amino acid metabolism\n",
    "AA_rxns = AA_rxns + ['GLUt2m','FTHFDH','FTHFLi','2AMACHYD','HMGLm','DHPR','IZPN','FTCD','MTHFC']\n",
    "add_rxn(ipsc_core, icho, 'THRD'); add_rxn(ipsc_core, icho, 'OBDHm'); add_rxn(ipsc_core, icho, 'MMMm');\n",
    "add_rxn(ipsc_core, icho, 'AM6SAD'); add_rxn(ipsc_core, icho, 'AMCOXO');\n",
    "\n",
    "for rxn_id in AA_rxns:\n",
    "    add_rxn(ipsc_core, ipsc, rxn_id);"
   ]
  },
  {
   "cell_type": "code",
   "execution_count": 10,
   "id": "17ec917a",
   "metadata": {},
   "outputs": [],
   "source": [
    "# Lipid synthesis\n",
    "lipid_rxns = ['CHOLK','PSSA1','PSFLIPm','PSDm','PE_CHOtm','GPDDA1','MI3PS','MI3PP']\n",
    "for rxn_id in lipid_rxns:\n",
    "    add_rxn(ipsc_core, ipsc, rxn_id);\n",
    "ipsc_core.reactions.GPDDA1.lower_bound=-1000.0\n",
    "\n",
    "PC_syn = Reaction(id='PC_syn',name='Phosphatidylcholine synthesis',subsystem= 'Glycerophospholipid Metabolism',\n",
    "                lower_bound=-1000.0,upper_bound=1000.0)\n",
    "PAIL_syn = Reaction(id='PAIL_syn',name='Phosphatidylinositol synthesis',subsystem= 'Glycerophospholipid Metabolism',\n",
    "                lower_bound=-1000.0,upper_bound=1000.0)\n",
    "PG_syn = Reaction(id='PG_syn',name='Phosphatidylglycerol synthesis',subsystem= 'Glycerophospholipid Metabolism',\n",
    "                lower_bound=-1000.0,upper_bound=1000.0)\n",
    "SM_syn = Reaction(id='SM_syn',name='Sphingomyelin synthesis',subsystem= 'Glycerophospholipid Metabolism',\n",
    "                lower_bound=-1000.0,upper_bound=1000.0)\n",
    "Cholesterol_syn = Reaction(id='Cholesterol_syn',name='Cholesterol synthesis',subsystem= 'Cholesterol Metabolism',\n",
    "                lower_bound=-1000.0,upper_bound=1000.0)\n",
    "ipsc_core.add_reactions([PC_syn,PAIL_syn,PG_syn,SM_syn,Cholesterol_syn])\n",
    "add_metabolite(ipsc_core, ipsc, 'pail_psc_c' ); add_metabolite(ipsc_core, ipsc, 'pglyc_psc_c' );\n",
    "add_metabolite(ipsc_core, ipsc, 'sphmyln_psc_c'); add_metabolite(ipsc_core, ipsc, 'chsterol_c');\n",
    "ipsc_core.reactions.PC_syn.build_reaction_from_string('cholp_c + 18 accoa_c + glyc3p_c + 22 atp_c + 33 nadh_c \\\n",
    "                --> pchol_psc_c + 18 coa_c + 16 adp_c + 6 amp_c + 33 nad_c')\n",
    "ipsc_core.reactions.PAIL_syn.build_reaction_from_string('inost_c + 18 accoa_c + glyc3p_c + 22 atp_c + 33 nadh_c \\\n",
    "            --> pail_psc_c + 18 coa_c + 16 adp_c + 6 amp_c + 33 nad_c')\n",
    "ipsc_core.reactions.PG_syn.build_reaction_from_string('18 accoa_c + 2 glyc3p_c + 22 atp_c + 33 nadh_c \\\n",
    "                                --> pglyc_psc_c + 18 coa_c + 16 adp_c + 6 amp_c + 33 nad_c')\n",
    "ipsc_core.reactions.SM_syn.build_reaction_from_string('16 accoa_c + ser__L_c + chol_c + 16 atp_c + 29 nadh_c \\\n",
    "                --> sphmyln_psc_c + 16 coa_c + 2 co2_c + 14 adp_c + 2 amp_c + 29 nad_c')\n",
    "ipsc_core.reactions.Cholesterol_syn.build_reaction_from_string('18 accoa_c + 18 atp_c + 14 nadph_c \\\n",
    "            --> chsterol_c + 18 coa_c + 9 co2_c + 18 adp_c + 14 nadp_c')"
   ]
  },
  {
   "cell_type": "code",
   "execution_count": 11,
   "id": "83bc9d9d",
   "metadata": {},
   "outputs": [],
   "source": [
    "# Nucleotide sugar biosynthesis\n",
    "nu_sugar_rxns = ['ACOAH','G3PD1ir','BETALDHxm','BETALDHx','SARDHm','MAN6PI','PMANM','MAN1PT2','MAN1PT','GF6PTA',\n",
    "                'ACGAM6PS','ACGAMPM','UAGDP','UAG2EMA','AMANK','ACNAM9PL','ACNAMPH','ACNMCT','GMAND','UAG4Ei',\n",
    "                'CACNAO2','CACNAO']\n",
    "for rxn_id in nu_sugar_rxns:\n",
    "    add_rxn(ipsc_core, ipsc, rxn_id);"
   ]
  },
  {
   "cell_type": "code",
   "execution_count": 12,
   "id": "08b1a2d1",
   "metadata": {},
   "outputs": [],
   "source": [
    "# Transporters and exchange rxns\n",
    "add_rxn(ipsc_core, icho, 'r1437'); add_rxn(ipsc_core, icho, 'r1078'); add_rxn(ipsc_core, icho, 'LEUt5m');\n",
    "add_rxn(ipsc_core, icho, 'r1435'); add_rxn(ipsc_core, icho, 'thr_mt'); add_rxn(ipsc_core, icho, 'thr_mt');\n",
    "add_rxn(ipsc_core, icho, 'PHEt2m'); add_rxn(ipsc_core, icho, 'VALt5m');\n",
    "tp_rxns = ['CHOLtu','CHLtm','HCO3Em','HCO3_NAt','H2Otm','CO2tm','CO2t','NAt','ACt2m','ACt2r','HYXNt','SO4t4_2',\n",
    "           'ASNtm','ASNt4','CYStec','GLNtm','GLNt4','LYStm','LYSt4','PROtm','PROt2r','TYRt',\n",
    "          'METt4','LEUt4','SERt4','HISt4','THRt4','PHEt4','ARGt4','ARGtm','ILEtmi','ILEt4',\n",
    "           'VALt4','TRPt','ASPt6','ALAtmi','ALAt2r','GLUt6','GLYtm','GLYt4',\n",
    "          'FUMtm','SUCCtm','MALtm','UREAtm','UREAt','COAtim',\n",
    "           'PIt9','PPItm']\n",
    "for rxn_id in tp_rxns:\n",
    "    add_rxn(ipsc_core, ipsc, rxn_id);\n",
    "ACCOAt2m = Reaction(id='ACCOAt2m',name='ACCOAt2m',subsystem= 'TRANSPORT, MITOCHONDRIAL',\n",
    "                lower_bound=-1000.0,upper_bound=1000.0)\n",
    "ipsc_core.add_reactions([ACCOAt2m])\n",
    "ipsc_core.reactions.ACCOAt2m.build_reaction_from_string('accoa_m <=> accoa_c')\n",
    "# Add boundary reactions\n",
    "for  met in ipsc_core.metabolites.query('_e'):\n",
    "    if met.compartment == 'e':\n",
    "        add_rxn(ipsc_core, ipsc, 'EX_'+met.id);"
   ]
  },
  {
   "cell_type": "code",
   "execution_count": 13,
   "id": "5725edbb",
   "metadata": {},
   "outputs": [],
   "source": [
    "# Define growth function\n",
    "BIOMASS = Reaction(id='BIOMASS',name='BIOMASS_psc_core',subsystem='Biomass and maintenance functions',\n",
    "               lower_bound=0.0,upper_bound=1000.0)\n",
    "rxn_string ='0.449091248 ala__L_c + 0.24692711 arg__L_c + 0.208891647 asn__L_c + 0.257573151 asp__L_c + 29.93484474 atp_c \\\n",
    "            + 0.086970857 chsterol_c + 0.097355132 ctp_c + 0.083083581 cys__L_c + 0.035778189 datp_c + 0.025172729 dctp_c \\\n",
    "            + 0.025172729 dgtp_c + 0.035778189 dttp_c + 0.353206758 gln__L_c + 0.303246063 glu__L_c + 0.476689682 gly_c + \\\n",
    "            0.102935005 gtp_c + 24.74849172 h2o_c + 0.096216462 his__L_c + 0.220171565 ile__L_c + 0.427292446 leu__L_c \\\n",
    "            + 0.387642487 lys__L_c + 0.105583014 met__L_c + 0.018176901 pail_psc_c + 0.130185913 pchol_psc_c +\\\n",
    "            0.049863661 pe_psc_c + 0.001473803 pglyc_psc_c + 0.186720668 phe__L_c + 0.222059892 pro__L_c + 0.016457464 ps_psc_c \\\n",
    "            + 0.32299952 ser__L_c + 0.02137014 sphmyln_psc_c + 0.255370881 thr__L_c + 0.025172972 trp__L_c \\\n",
    "            + 0.131253338 tyr__L_c + 0.085375963 utp_c + 0.32262571 val__L_c \\\n",
    "            --> 29.83030991 adp_c + 29.83030991 h_c + 29.83030991 pi_c + 0.512102766 ppi_c'\n",
    "ipsc_core.add_reactions([BIOMASS])\n",
    "ipsc_core.reactions.BIOMASS.build_reaction_from_string(rxn_string)\n",
    "ipsc_core.objective = {ipsc_core.reactions.BIOMASS: 1}"
   ]
  },
  {
   "cell_type": "code",
   "execution_count": 14,
   "id": "84ad36ff",
   "metadata": {},
   "outputs": [],
   "source": [
    "ipsc_core.remove_metabolites(ipsc_core.metabolites.query('CE')+ipsc_core.metabolites.query('r1p'), destructive=True)\n",
    "ipsc_core.remove_metabolites(ipsc_core.metabolites.query('_x')+ipsc_core.metabolites.query('_n')+\\\n",
    "                            ipsc_core.metabolites.query('_r') , destructive=True)\n",
    "mets_remove = ['56dihindlcrbxlt_c','melanin_c','n4abutn_c','aprut_c','2c23dh56dhoxin_c','pcollglys_c','pcollg5hlys_c',\n",
    "              'homoval_c','42A3HP24DB_c','Nacasp_c','HC00591_c','HC00250_c','C08276_c','pcollg5glys_c',\n",
    "              'Nacasp_m','HC00900_m','srtn_c','ptrc_c','ptrc_m','sl__L_c','sl__L_m']\n",
    "for met_id in mets_remove:\n",
    "    ipsc_core.remove_metabolites( ipsc_core.metabolites.get_by_id(met_id), destructive=True)"
   ]
  },
  {
   "cell_type": "code",
   "execution_count": 15,
   "id": "4238b63c",
   "metadata": {},
   "outputs": [],
   "source": [
    "for rxn in ipsc_core.reactions:\n",
    "    rxn.subsystem = str.title(rxn.subsystem)"
   ]
  },
  {
   "cell_type": "markdown",
   "id": "9a0e42f8",
   "metadata": {},
   "source": [
    "# Rxn directions"
   ]
  },
  {
   "cell_type": "code",
   "execution_count": 17,
   "id": "0d32495a",
   "metadata": {},
   "outputs": [],
   "source": [
    "ipsc_core.reactions.GDHm.build_reaction_from_string('akg_m + h_m + nadh_m + nh4_m --> glu__L_m + h2o_m + nad_m')\n",
    "ipsc_core.reactions.ACOAH.build_reaction_from_string('accoa_c + h2o_c --> ac_c + coa_c + h_c')\n",
    "ipsc_core.reactions.AATA.build_reaction_from_string('L2aadp_c + akg_c --> 2oxoadp_c + glu__L_c')\n",
    "ipsc_core.reactions.ECOAH1m.build_reaction_from_string('b2coa_m + h2o_m --> 3hbcoa_m')\n",
    "ipsc_core.reactions.HACD1m.build_reaction_from_string('3hbcoa_m + nad_m --> aacoa_m + h_m + nadh_m')\n",
    "ipsc_core.reactions.ACACT1m.build_reaction_from_string('aacoa_m + coa_m --> 2.0 accoa_m')\n",
    "ipsc_core.reactions.VALTAim.build_reaction_from_string('akg_m + val__L_m --> 3mob_m + glu__L_m')\n",
    "ipsc_core.reactions.MMEm.build_reaction_from_string('mmcoa__S_m --> mmcoa__R_m')\n",
    "ipsc_core.reactions.MMMm.build_reaction_from_string('mmcoa__R_m --> succoa_m')\n",
    "ipsc_core.reactions.SUCOASm.build_reaction_from_string('adp_m + pi_m + succoa_m --> atp_m + coa_m + succ_m')\n",
    "ipsc_core.reactions.GLYCLm.build_reaction_from_string('gly_m + nad_m + thf_m --> co2_m + mlthf_m + nadh_m + nh4_m')\n",
    "ipsc_core.reactions.ASPCT.build_reaction_from_string('asp__L_c + cbp_c --> cbasp_c + h_c + pi_c')\n",
    "ipsc_core.reactions.DHORTS.build_reaction_from_string('cbasp_c + h_c --> dhor__S_c + h2o_c')\n",
    "ipsc_core.reactions.DHORD_NAD.build_reaction_from_string('dhor__S_c + nad_c --> nadh_c + orot_c')\n",
    "ipsc_core.reactions.ORPT.build_reaction_from_string('orot_c + prpp_c --> orot5p_c + ppi_c')\n",
    "ipsc_core.reactions.MDH.build_reaction_from_string('h_c + nadh_c + oaa_c --> mal__L_c + nad_c')\n",
    "ipsc_core.reactions.FUMm.build_reaction_from_string('fum_m + h2o_m --> mal__L_m')\n",
    "ipsc_core.reactions.FUM.build_reaction_from_string('fum_c + h2o_c --> mal__L_c')"
   ]
  },
  {
   "cell_type": "markdown",
   "id": "f5663287",
   "metadata": {},
   "source": [
    "# Correct GPRs"
   ]
  },
  {
   "cell_type": "code",
   "execution_count": 18,
   "id": "cbabf1ec",
   "metadata": {},
   "outputs": [],
   "source": [
    "correct_gprs = pd.read_csv('../data/gems/correct_gprs.csv')"
   ]
  },
  {
   "cell_type": "code",
   "execution_count": 19,
   "id": "77c400c6",
   "metadata": {},
   "outputs": [],
   "source": [
    "for i in range(len(correct_gprs.index)):\n",
    "    rxn_id = list(correct_gprs.rxn_id)[i]\n",
    "    temp_gpr = list(correct_gprs.gpr)[i]\n",
    "    if temp_gpr == '_':\n",
    "        temp_gpr=''\n",
    "    ipsc_core.reactions.get_by_id(rxn_id).gene_reaction_rule = temp_gpr"
   ]
  },
  {
   "cell_type": "code",
   "execution_count": 20,
   "id": "775a0049",
   "metadata": {},
   "outputs": [],
   "source": [
    "remove_list = [];\n",
    "for gene in ipsc_core.genes:\n",
    "    if len(gene.reactions) == 0:\n",
    "        remove_list.append(gene.id)\n",
    "remove_genes(ipsc_core, remove_list)  "
   ]
  },
  {
   "cell_type": "code",
   "execution_count": 21,
   "id": "470484a6",
   "metadata": {},
   "outputs": [],
   "source": [
    "medium = ipsc_core.medium\n",
    "medium['EX_ala__L_e']=1000.0\n",
    "medium['EX_gly_e']=1000.0\n",
    "medium['EX_glu__L_e']=1000.0\n",
    "medium['EX_na1_e']=1000.0\n",
    "medium['EX_k_e']=1000.0\n",
    "ipsc_core.medium = medium "
   ]
  },
  {
   "cell_type": "code",
   "execution_count": 22,
   "id": "2c4871b2",
   "metadata": {},
   "outputs": [],
   "source": [
    "# save_json_model(ipsc_core,'../data/gems/iPSC_core.json')"
   ]
  },
  {
   "cell_type": "code",
   "execution_count": null,
   "id": "76ddea43",
   "metadata": {},
   "outputs": [],
   "source": [
    "# gap_biomass = []\n",
    "# for met in ipsc_core.reactions.BIOMASS_psc_core.reactants:\n",
    "#     with ipsc_core:\n",
    "#         ipsc_core.objective = ipsc_core.add_boundary(met, type='demand')\n",
    "#         if ipsc_core.slim_optimize() <= 0:\n",
    "#             gap_biomass.append(met.id)"
   ]
  },
  {
   "cell_type": "code",
   "execution_count": null,
   "id": "7251a7d8",
   "metadata": {},
   "outputs": [],
   "source": [
    "ipsc_core = load_json_model('../data/gems/iPSC_core.json')"
   ]
  },
  {
   "cell_type": "code",
   "execution_count": null,
   "id": "5f35cb2d",
   "metadata": {},
   "outputs": [],
   "source": [
    "# fluxes = ipsc_core.optimize().fluxes"
   ]
  },
  {
   "cell_type": "code",
   "execution_count": null,
   "id": "e114add7",
   "metadata": {},
   "outputs": [],
   "source": [
    "# fluxes.to_csv('../data/gems/fluxes_nocon.csv')"
   ]
  },
  {
   "cell_type": "code",
   "execution_count": null,
   "id": "081408fc",
   "metadata": {},
   "outputs": [],
   "source": [
    "ipsc_core.summary()"
   ]
  },
  {
   "cell_type": "code",
   "execution_count": null,
   "id": "073ee13e",
   "metadata": {},
   "outputs": [],
   "source": [
    "gpr_status={'With GPR':0,'No GPR':0,'Boundary':len(ipsc_core.boundary)}\n",
    "for rxn in ipsc_core.reactions-ipsc_core.boundary:\n",
    "    if rxn.gene_reaction_rule == '':\n",
    "        gpr_status['No GPR'] +=1\n",
    "    else:\n",
    "        gpr_status['With GPR'] +=1\n",
    "        \n",
    "fig, ax = plt.subplots(1,1,figsize=(5,5))\n",
    "ax.pie(gpr_status.values(), labels=gpr_status.keys(),autopct='%1.1f%%',\n",
    "           wedgeprops = {\"edgecolor\" : \"black\",'linewidth': 2,'antialiased': True},textprops={'fontsize': 16},\n",
    "      colors=['tab:green','tab:Orange','tab:grey']);"
   ]
  },
  {
   "cell_type": "code",
   "execution_count": null,
   "id": "373fcc3d",
   "metadata": {},
   "outputs": [],
   "source": [
    "subsystems={}\n",
    "for rxn in ipsc_core.reactions:\n",
    "    if rxn.subsystem not in subsystems:\n",
    "        subsystems[rxn.subsystem] = 1\n",
    "    else:\n",
    "        subsystems[rxn.subsystem] += 1\n",
    "subsystem_pd = pd.DataFrame(subsystems.items(),columns=['Subsystem','Count'])\n",
    "subsystem_pd = subsystem_pd.sort_values(by=['Count'],ascending=False).reset_index().drop(['index'],axis=1)\n",
    "fig, ax = plt.subplots(1,1,figsize=(10,6))\n",
    "temp_pd = subsystem_pd[subsystem_pd['Count']>=5]\n",
    "ax.barh(list(temp_pd['Subsystem']),list(temp_pd['Count']) )\n",
    "ax.set_xlabel('Number')\n",
    "ax.set_title('Subsystems of curated reactions')"
   ]
  },
  {
   "cell_type": "code",
   "execution_count": null,
   "id": "9c59a04e",
   "metadata": {},
   "outputs": [],
   "source": [
    "# recon1_genes = [gene.id for gene in recon1.genes]\n",
    "# icho_genes = [gene.id for gene in icho.genes]"
   ]
  },
  {
   "cell_type": "code",
   "execution_count": null,
   "id": "8b0d9b86",
   "metadata": {},
   "outputs": [],
   "source": [
    "# wrong_rxn=[];\n",
    "# for rxn in ipsc_core.reactions-ipsc_core.boundary:\n",
    "#     if len(rxn.genes)<1:\n",
    "#         continue\n",
    "#     for gene in rxn.genes:\n",
    "#         if (gene.id in recon1_genes) or (gene.id in icho_genes):\n",
    "#             wrong_rxn.append(rxn.id)\n",
    "#             continue\n",
    "# wrong_rxn = list(np.unique(wrong_rxn)); wrong_gprs=[]\n",
    "# for rxn_id in wrong_rxn:\n",
    "#     wrong_gprs.append(ipsc_core.reactions.get_by_id(rxn_id).gene_reaction_rule)\n",
    "\n",
    "# correct_gpr_pd = pd.DataFrame(zip(wrong_rxn,wrong_gprs),columns=['rxn_id','wrong gpr'])\n",
    "# correct_gpr_pd.to_csv('../data/gems/correct_gprs.csv',index=None)"
   ]
  },
  {
   "cell_type": "code",
   "execution_count": null,
   "id": "1ff2268f",
   "metadata": {},
   "outputs": [],
   "source": [
    "Adata = pd.read_csv('../data/gems/EnzymeActivity.csv')\n",
    "org_stats={}\n",
    "for org in list(Adata['Organism']):\n",
    "    org = org.strip()\n",
    "    if org not in org_stats:\n",
    "        org_stats[org]=1\n",
    "    else:\n",
    "        org_stats[org] +=1\n",
    "org_pd = pd.DataFrame(org_stats.items(),columns=['Organism','Count']).sort_values(by=['Count'],ascending=False).\\\n",
    "                        reset_index().drop(['index'],axis=1)\n",
    "fig, ax = plt.subplots(1,1,figsize=(6,3))\n",
    "temp_pd = org_pd[org_pd['Count']>7]\n",
    "ax.barh(list(temp_pd['Organism'])+['Other'],list(temp_pd['Count'])+[sum(org_pd['Count'])-sum(temp_pd['Count'])] )\n",
    "ax.set_xlabel('Number')\n",
    "ax.set_title('Organisms of curated enzyme activities(n=265)')"
   ]
  },
  {
   "cell_type": "code",
   "execution_count": null,
   "id": "517c32a6",
   "metadata": {},
   "outputs": [],
   "source": [
    "# ir_rxns=[]; compartments=[]\n",
    "# for rxn in ipsc_core.reactions:\n",
    "#     if (rxn.id not in list(Adata['Rxn'])) and (rxn.reversibility==0) \\\n",
    "#         and ('EX_' not in rxn.id) and ('_syn' not in rxn.id) \\\n",
    "#     and (rxn.subsystem not in ['TRANSPORT, MITOCHONDRIAL','Transport, Extracellular']):\n",
    "#         ir_rxns.append(rxn.id)\n",
    "# for rxn_id in ir_rxns:\n",
    "#     if rxn_id[-1]=='m':\n",
    "#         compartments.append('m')\n",
    "#     else:\n",
    "#         compartments.append('c')"
   ]
  },
  {
   "cell_type": "code",
   "execution_count": null,
   "id": "5ecdcaf1",
   "metadata": {},
   "outputs": [],
   "source": [
    "# irrxn_pd = pd.DataFrame(zip(ir_rxns,compartments),columns=['Rxn','Compartment'])\n",
    "# irrxn_pd = irrxn_pd.sort_values(by=['Compartment']).reset_index().drop(['index'],axis=1)\n",
    "# irrxn_pd.to_csv('../data/gems/irrxn_Activity.csv',index=None)"
   ]
  },
  {
   "cell_type": "code",
   "execution_count": null,
   "id": "21d59f5b",
   "metadata": {},
   "outputs": [],
   "source": [
    "# with ipsc_core:\n",
    "#     ipsc_core.medium={'EX_glc__D_e': 1.0,'EX_h_e': 1000.0,'EX_pi_e': 1000.0,'EX_o2_e': 1000.0,\n",
    "#  'EX_h2o_e': 1000.0,'EX_chol_e': 0.0,'EX_hco3_e': 1000.0,'EX_na1_e': 1000.0,'EX_hxan_e': 0.0,\n",
    "#  'EX_so4_e': 1000.0,'EX_asn__L_e': 0.0,'EX_cys__L_e': 0.0,'EX_gln__L_e': 0.0,'EX_lys__L_e': 0.0,\n",
    "# 'EX_pro__L_e': 0.0,'EX_tyr__L_e': 0.0,'EX_met__L_e': 0.0,'EX_leu__L_e': 0.0,'EX_ser__L_e': 0.0,\n",
    "#  'EX_his__L_e': 0.0,'EX_thr__L_e': 0.0,'EX_phe__L_e': 0.0,'EX_arg__L_e': 0.0,'EX_ile__L_e': 0.0,\n",
    "#  'EX_val__L_e': 0.0,'EX_trp__L_e': 0.0,'EX_asp__L_e': 0.0,'EX_k_e': 1000.0,'EX_ala__L_e': 0.0,\n",
    "#  'EX_glu__L_e': 0.0,'EX_gly_e': 0.0}\n",
    "#     ipsc_core.objective = ipsc_core.reactions.ATPM\n",
    "#     print( ipsc_core.slim_optimize())"
   ]
  },
  {
   "cell_type": "code",
   "execution_count": null,
   "id": "00082256",
   "metadata": {},
   "outputs": [],
   "source": []
  }
 ],
 "metadata": {
  "kernelspec": {
   "display_name": "Python 3 (ipykernel)",
   "language": "python",
   "name": "python3"
  },
  "language_info": {
   "codemirror_mode": {
    "name": "ipython",
    "version": 3
   },
   "file_extension": ".py",
   "mimetype": "text/x-python",
   "name": "python",
   "nbconvert_exporter": "python",
   "pygments_lexer": "ipython3",
   "version": "3.8.10"
  }
 },
 "nbformat": 4,
 "nbformat_minor": 5
}
