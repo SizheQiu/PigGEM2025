{
 "cells": [
  {
   "cell_type": "code",
   "execution_count": 1,
   "id": "6642fefe",
   "metadata": {},
   "outputs": [],
   "source": [
    "import cobra\n",
    "from cobra.io import load_json_model, save_json_model\n",
    "from cobra import Model, Reaction, Metabolite\n",
    "import numpy as np\n",
    "from math import exp\n",
    "import pandas as pd\n",
    "from matplotlib import pyplot as plt"
   ]
  },
  {
   "cell_type": "code",
   "execution_count": 2,
   "id": "d46ae636",
   "metadata": {},
   "outputs": [],
   "source": [
    "ipsc_core = load_json_model('../data/gems/iPSC_core.json')"
   ]
  },
  {
   "cell_type": "code",
   "execution_count": 3,
   "id": "18905a96",
   "metadata": {},
   "outputs": [],
   "source": [
    "Adata = pd.read_csv('../data/gems/EnzymeActivity.csv')\n",
    "A_dict = {Adata['Rxn'][i]:Adata['Activity(mmol/hr/g)'][i] for i in range(len(Adata.index))}"
   ]
  },
  {
   "cell_type": "code",
   "execution_count": 4,
   "id": "98b1ec1a",
   "metadata": {},
   "outputs": [
    {
     "name": "stdout",
     "output_type": "stream",
     "text": [
      "dict_keys(['EX_glc__D_e', 'EX_h_e', 'EX_pi_e', 'EX_o2_e', 'EX_h2o_e', 'EX_chol_e', 'EX_hco3_e', 'EX_na1_e', 'EX_hxan_e', 'EX_so4_e', 'EX_asn__L_e', 'EX_cys__L_e', 'EX_gln__L_e', 'EX_lys__L_e', 'EX_pro__L_e', 'EX_tyr__L_e', 'EX_met__L_e', 'EX_leu__L_e', 'EX_ser__L_e', 'EX_his__L_e', 'EX_thr__L_e', 'EX_phe__L_e', 'EX_arg__L_e', 'EX_ile__L_e', 'EX_val__L_e', 'EX_trp__L_e', 'EX_asp__L_e', 'EX_k_e', 'EX_ala__L_e', 'EX_glu__L_e', 'EX_gly_e'])\n"
     ]
    }
   ],
   "source": [
    "print(ipsc_core.medium.keys())"
   ]
  },
  {
   "cell_type": "code",
   "execution_count": 5,
   "id": "87cc3357",
   "metadata": {},
   "outputs": [],
   "source": [
    "ex_aa_list = ['EX_asn__L_e', 'EX_cys__L_e', 'EX_gln__L_e', 'EX_lys__L_e', 'EX_pro__L_e', \n",
    "              'EX_tyr__L_e', 'EX_met__L_e', 'EX_leu__L_e', 'EX_ser__L_e', 'EX_his__L_e', \n",
    "              'EX_thr__L_e', 'EX_phe__L_e', 'EX_arg__L_e', 'EX_ile__L_e', 'EX_val__L_e', \n",
    "              'EX_trp__L_e', 'EX_asp__L_e', 'EX_ala__L_e', 'EX_glu__L_e', 'EX_gly_e']\n",
    "def set_PA(model, ptot, A_dict):\n",
    "    sigma=1.0\n",
    "    t_sector = model.reactions.EX_lac__L_e.flux_expression/(sigma*A_dict['EX_lac__L_e']) +\\\n",
    "           (-1)*model.reactions.EX_glc__D_e.flux_expression/A_dict['EX_glc__D_e'] +\\\n",
    "             model.reactions.EX_ac_e.flux_expression/(sigma*A_dict['EX_ac_e'])\n",
    "    for ex_aa in ex_aa_list:\n",
    "        t_sector = t_sector + (-1)*model.reactions.get_by_id(ex_aa).flux_expression/A_dict['EX_aa_e']\n",
    "    a_sector = model.reactions.BIOMASS.flux_expression/A_dict['BIOMASS']\n",
    "    ngam_sector = model.reactions.ATPM.flux_expression/A_dict['ATPM']\n",
    "    c_sector = model.reactions.ENO.flux_expression/(sigma*A_dict['ENO'])\n",
    "    for k in A_dict.keys():\n",
    "        if k not in ['ENO','EX_lac__L_e', 'EX_ac_e','EX_glc__D_e','EX_aa_e','ATPM','BIOMASS']:\n",
    "            c_sector  = c_sector  + model.reactions.get_by_id(k).flux_expression/(sigma*A_dict[k])\n",
    "    PA = model.problem.Constraint( expression = a_sector + c_sector + ngam_sector,\n",
    "                        name = 'PA', lb= 0, ub = ptot)\n",
    "    model.add_cons_vars([ PA ])\n",
    "    return None"
   ]
  },
  {
   "cell_type": "code",
   "execution_count": 13,
   "id": "18e367ed",
   "metadata": {},
   "outputs": [
    {
     "name": "stdout",
     "output_type": "stream",
     "text": [
      "Objective\n",
      "=========\n",
      "1.0 BIOMASS = 0.06554783557447315\n",
      "\n",
      "Uptake\n",
      "------\n",
      "Metabolite    Reaction     Flux  C-Number C-Flux\n",
      "  arg__L_e EX_arg__L_e   0.0183         6  0.92%\n",
      "  asn__L_e EX_asn__L_e  0.01286         4  0.43%\n",
      "    chol_e   EX_chol_e 0.009934         5  0.41%\n",
      "  cys__L_e EX_cys__L_e 0.005104         3  0.13%\n",
      "  glc__D_e EX_glc__D_e     1.45         6 72.54%\n",
      "  gln__L_e EX_gln__L_e   0.3746         5 15.62%\n",
      "     gly_e    EX_gly_e   0.0249         2  0.42%\n",
      "    hco3_e   EX_hco3_e 0.003642         1  0.03%\n",
      "  his__L_e EX_his__L_e 0.006934         6  0.35%\n",
      "    hxan_e   EX_hxan_e 0.003729         5  0.16%\n",
      "  ile__L_e EX_ile__L_e  0.01706         6  0.85%\n",
      "  leu__L_e EX_leu__L_e  0.02956         6  1.48%\n",
      "  lys__L_e EX_lys__L_e  0.02684         6  1.34%\n",
      "  met__L_e EX_met__L_e 0.008903         5  0.37%\n",
      "      o2_e     EX_o2_e    1.215         0  0.00%\n",
      "  phe__L_e EX_phe__L_e  0.01299         9  0.98%\n",
      "      pi_e     EX_pi_e   0.4586         0  0.00%\n",
      "  pro__L_e EX_pro__L_e  0.01608         5  0.67%\n",
      "  ser__L_e EX_ser__L_e  0.02789         3  0.70%\n",
      "  thr__L_e EX_thr__L_e  0.01747         4  0.58%\n",
      "  trp__L_e EX_trp__L_e 0.003424        11  0.31%\n",
      "  tyr__L_e EX_tyr__L_e  0.01007         9  0.76%\n",
      "  val__L_e EX_val__L_e  0.02311         5  0.96%\n",
      "\n",
      "Secretion\n",
      "---------\n",
      "Metabolite    Reaction    Flux  C-Number C-Flux\n",
      "  ala__L_e EX_ala__L_e -0.2839         3  8.91%\n",
      "     co2_e    EX_co2_e  -1.628         1 17.03%\n",
      "     h2o_e    EX_h2o_e  -1.532         0  0.00%\n",
      "       h_e      EX_h_e   -2.12         0  0.00%\n",
      "  lac__L_e EX_lac__L_e   -2.36         3 74.06%\n",
      "     nh4_e    EX_nh4_e -0.3542         0  0.00%\n",
      "\n"
     ]
    }
   ],
   "source": [
    "ptot = 0.67366; NGAM_0 = 2.2771; OUR=0.8944\n",
    "A_dict['ATPM']=3.66\n",
    "with ipsc_core:\n",
    "    for ex_aa in ex_aa_list:\n",
    "        ipsc_core.reactions.get_by_id(ex_aa).lower_bound=-0.526\n",
    "    ipsc_core.reactions.EX_glc__D_e.lower_bound=-1.45\n",
    "    ipsc_core.reactions.ATPM.lower_bound = NGAM_0\n",
    "    # Proteome constraints\n",
    "    set_PA(ipsc_core, ptot, A_dict)\n",
    "    fluxes = cobra.flux_analysis.pfba(ipsc_core).fluxes\n",
    "    uptake_flux = ipsc_core.summary().uptake_flux\n",
    "    secretion_flux = ipsc_core.summary().secretion_flux\n",
    "    print(ipsc_core.summary())"
   ]
  },
  {
   "cell_type": "code",
   "execution_count": 14,
   "id": "49f9bd55",
   "metadata": {},
   "outputs": [],
   "source": [
    "fluxes.to_csv('../data/gems/fluxes_ipsc.csv')"
   ]
  },
  {
   "cell_type": "code",
   "execution_count": 15,
   "id": "18b08c05",
   "metadata": {},
   "outputs": [
    {
     "data": {
      "image/png": "[encoded data removed]",
      "text/plain": [
       "<Figure size 864x360 with 2 Axes>"
      ]
     },
     "metadata": {
      "needs_background": "light"
     },
     "output_type": "display_data"
    }
   ],
   "source": [
    "fig, axs = plt.subplots(1,2,figsize=(12,5))\n",
    "secretion_flux = secretion_flux[(secretion_flux.flux!=0) & ~(secretion_flux.reaction.isin(['EX_h2o_e','EX_h_e']) )]\n",
    "uptake_flux = uptake_flux[uptake_flux.flux!=0]\n",
    "axs[0].barh(uptake_flux.metabolite,uptake_flux.flux)\n",
    "axs[1].barh(secretion_flux.metabolite,-1*secretion_flux.flux, height=0.2)\n",
    "axs[0].set_title('Uptake flux')\n",
    "axs[1].set_title('Secretion flux')\n",
    "for ax in axs:\n",
    "    ax.set_xlabel('Flux (mmol/gDW*hr)')"
   ]
  },
  {
   "cell_type": "code",
   "execution_count": null,
   "id": "c1e252d8",
   "metadata": {},
   "outputs": [],
   "source": [
    "def get_fluxes_NGAM(model,  ptot, A_dict, NGAM):\n",
    "    with model:\n",
    "        for rxn_id in ex_aa_list:\n",
    "            ipsc_core.reactions.get_by_id(rxn_id).upper_bound=0.0\n",
    "        model.reactions.ATPM.lower_bound = NGAM\n",
    "        # Proteome constraints\n",
    "        set_PA(model, ptot, A_dict)\n",
    "        fluxes = cobra.flux_analysis.pfba(model).fluxes\n",
    "    return fluxes"
   ]
  },
  {
   "cell_type": "code",
   "execution_count": null,
   "id": "c322ee7c",
   "metadata": {},
   "outputs": [],
   "source": [
    "NGAMs = np.linspace(5.9,10); ptot=0.56;\n",
    "grs=[]; glc_fluxes=[]; lac_fluxes=[]; nh4_fluxes=[];\n",
    "for ngam in NGAMs:\n",
    "    fluxes = get_fluxes_NGAM( ipsc_core,  ptot, A_dict, ngam)\n",
    "    grs.append(fluxes['BIOMASS'])\n",
    "    glc_fluxes.append(fluxes['EX_glc__D_e'])\n",
    "    lac_fluxes.append(fluxes['EX_lac__L_e'])\n",
    "    nh4_fluxes.append(fluxes['EX_nh4_e'])"
   ]
  },
  {
   "cell_type": "code",
   "execution_count": null,
   "id": "d9053994",
   "metadata": {},
   "outputs": [],
   "source": [
    "fig,axs=plt.subplots(1,3,figsize=(16,4))\n",
    "axs[0].plot(NGAMs,grs,'o',markersize=1,ls='--')\n",
    "# axs[0].set_ylim([0,0.05])\n",
    "axs[1].plot(NGAMs,lac_fluxes,'o',markersize=1,ls='--')\n",
    "# axs[1].set_ylim([0,4])\n",
    "axs[2].plot(NGAMs,nh4_fluxes,'o',markersize=1,ls='--')\n",
    "# axs[2].set_ylim([0,3])\n",
    "for ax in axs:\n",
    "    ax.set_xlabel('NGAM(mmol/gDW*hr)')\n",
    "axs[0].set_ylabel('Growth rate(1/hr)')\n",
    "axs[1].set_ylabel('Lactate secretion(mmol/gDW*hr)')\n",
    "axs[2].set_ylabel('NH4 secretion(mmol/gDW*hr)')"
   ]
  },
  {
   "cell_type": "code",
   "execution_count": null,
   "id": "372f1a23",
   "metadata": {},
   "outputs": [],
   "source": [
    "# fluxes_ngam10 = get_fluxes_NGAM(ipsc_core,  0.56, A_dict, 10.0)\n",
    "# fluxes.to_csv('../data/gems/fluxes_ngam10.csv')"
   ]
  },
  {
   "cell_type": "code",
   "execution_count": null,
   "id": "790077ba",
   "metadata": {},
   "outputs": [],
   "source": []
  }
 ],
 "metadata": {
  "kernelspec": {
   "display_name": "Python 3 (ipykernel)",
   "language": "python",
   "name": "python3"
  },
  "language_info": {
   "codemirror_mode": {
    "name": "ipython",
    "version": 3
   },
   "file_extension": ".py",
   "mimetype": "text/x-python",
   "name": "python",
   "nbconvert_exporter": "python",
   "pygments_lexer": "ipython3",
   "version": "3.8.10"
  }
 },
 "nbformat": 4,
 "nbformat_minor": 5
}
