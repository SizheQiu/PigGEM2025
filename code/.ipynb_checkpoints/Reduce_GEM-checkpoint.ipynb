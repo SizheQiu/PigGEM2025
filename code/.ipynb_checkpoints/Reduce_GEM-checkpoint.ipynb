{
 "cells": [
  {
   "cell_type": "code",
   "execution_count": 1,
   "id": "168cdf5c",
   "metadata": {},
   "outputs": [],
   "source": [
    "import cobra\n",
    "from cobra.io import load_json_model, save_json_model\n",
    "from cobra import Model, Reaction, Metabolite\n",
    "import numpy as np\n",
    "import pandas as pd\n",
    "from matplotlib import pyplot as plt\n",
    "from matplotlib_venn import venn2, venn3"
   ]
  },
  {
   "cell_type": "code",
   "execution_count": 2,
   "id": "76be160d",
   "metadata": {},
   "outputs": [],
   "source": [
    "ipsc = load_json_model('../data/gems/iPSC_gf.json')\n",
    "icho = load_json_model('../data/gems/iCHOv1.json')"
   ]
  },
  {
   "cell_type": "code",
   "execution_count": 3,
   "id": "a7ab271b",
   "metadata": {},
   "outputs": [],
   "source": [
    "def add_metabolite(model, template, met_id):\n",
    "    all_mets = [met.id for met in model.metabolites]\n",
    "    if met_id not in all_mets:\n",
    "        temp_met = template.metabolites.get_by_id( met_id )\n",
    "        model.add_metabolites([Metabolite(id=met_id, formula=temp_met.formula,\n",
    "                charge=float(temp_met.charge),name=temp_met.name, compartment=temp_met.compartment)])\n",
    "    return None\n",
    "\n",
    "def add_rxn(model, template, rxn_id):\n",
    "    all_rxns = [rxn.id for rxn in model.reactions]\n",
    "    if  rxn_id not in all_rxns:\n",
    "        temp_rxn = template.reactions.get_by_id( rxn_id )\n",
    "        model.add_reactions([Reaction(id=rxn_id,name=temp_rxn.name,subsystem= temp_rxn.subsystem,\n",
    "                lower_bound=temp_rxn.lower_bound,upper_bound=temp_rxn.upper_bound)])\n",
    "        for met in (temp_rxn.reactants+temp_rxn.products):\n",
    "            add_metabolite(model, template, met.id)\n",
    "        rxn_string = str(temp_rxn.reaction)\n",
    "        model.reactions.get_by_id(rxn_id).build_reaction_from_string(rxn_string)\n",
    "        model.reactions.get_by_id(rxn_id).gene_reaction_rule = temp_rxn.gene_reaction_rule\n",
    "    return None"
   ]
  },
  {
   "cell_type": "code",
   "execution_count": 4,
   "id": "b9387299",
   "metadata": {},
   "outputs": [],
   "source": [
    "TCA_rxns =[]; Gly_rxns=[]; PPP_rxns=[]; OXP_rxns=[]; AA_rxns=[];\n",
    "for rxn in ipsc.reactions:\n",
    "    if rxn.subsystem == 'Glycolysis/Gluconeogenesis':\n",
    "        Gly_rxns.append(rxn.id)\n",
    "    elif rxn.subsystem == 'Citric Acid Cycle':\n",
    "        TCA_rxns.append(rxn.id)\n",
    "    elif rxn.subsystem == 'Pentose Phosphate Pathway':\n",
    "        PPP_rxns.append(rxn.id)\n",
    "    elif rxn.subsystem == 'Oxidative Phosphorylation':\n",
    "        OXP_rxns.append(rxn.id)\n",
    "    elif rxn.subsystem in ['Alanine and Aspartate Metabolism','ALANINE AND ASPARTATE METABOLISM',\n",
    "                           'Glycine, Serine, and Threonine Metabolism','GLYCINE, SERINE, AND THREONINE METABOLISM',\n",
    "                           'METHIONINE AND CYSTEINE METABOLISM',\n",
    "                        'Methionine Metabolism','METHIONINE METABOLISM','Cysteine Metabolism','Glutamate metabolism',\n",
    "                    'Valine, Leucine, and Isoleucine Metabolism', 'VALINE, LEUCINE, AND ISOLEUCINE METABOLISM',\n",
    "                'LYSINE METABOLISM', 'Lysine Metabolism', 'PHENYLALANINE METABOLISM','Phenylalanine metabolism',\n",
    "                'Tyr, Phe, Trp Biosynthesis','Tryptophan metabolism','TRYPTOPHAN METABOLISM','Tyrosine metabolism',\n",
    "                           'Arginine and Proline Metabolism','Histidine Metabolism']:\n",
    "        AA_rxns.append(rxn.id)"
   ]
  },
  {
   "cell_type": "code",
   "execution_count": 5,
   "id": "e6e656d0",
   "metadata": {},
   "outputs": [],
   "source": [
    "ipsc_core = Model('iPSC_core')\n",
    "for rxn_id in (TCA_rxns+Gly_rxns+PPP_rxns):\n",
    "    add_rxn(ipsc_core, ipsc, rxn_id)\n",
    "add_rxn(ipsc_core, ipsc, 'ATPM');\n",
    "# shuttle\n",
    "add_rxn(ipsc_core, ipsc, 'ASPGLUm'); add_rxn(ipsc_core, ipsc, 'AKGMALtm');\n",
    "add_rxn(ipsc_core, ipsc, 'AKGCITtm'); add_rxn(ipsc_core, ipsc, 'AKGICITtm'); add_rxn(ipsc_core, ipsc, 'ASPTAm');\n",
    "add_rxn(ipsc_core, ipsc, 'GLUDym'); add_rxn(ipsc_core, ipsc, 'MDH');\n",
    "add_rxn(ipsc_core, ipsc, 'ALATA_L');\n",
    "# glycogen\n",
    "add_rxn(ipsc_core, ipsc, 'GALUi'); add_rxn(ipsc_core, ipsc, 'UGLT'); add_rxn(ipsc_core, ipsc, 'UDPG4E'); "
   ]
  },
  {
   "cell_type": "code",
   "execution_count": 6,
   "id": "ade1fd57",
   "metadata": {},
   "outputs": [],
   "source": [
    "# Transporters and exchange reactions\n",
    "add_rxn(ipsc_core, ipsc, 'O2tm'); add_rxn(ipsc_core, ipsc, 'PIt2m'); add_rxn(ipsc_core, ipsc, 'Htm'); \n",
    "add_rxn(ipsc_core, ipsc, 'ATPtm'); add_rxn(ipsc_core, ipsc, 'PYRt2m'); add_rxn(ipsc_core, ipsc, 'GLCt2'); \n",
    "add_rxn(ipsc_core, ipsc, 'GLCt1'); add_rxn(ipsc_core, ipsc, 'L_LACt2r'); add_rxn(ipsc_core, icho, 'PIt'); \n",
    "add_rxn(ipsc_core, ipsc, 'O2t'); add_rxn(ipsc_core, ipsc, 'NH4t3r'); add_rxn(ipsc_core, ipsc, 'NH4tm');\n",
    "add_rxn(ipsc_core, icho, '2AOBUTtm'); add_rxn(ipsc_core, ipsc, 'H2Ot'); add_rxn(ipsc_core, ipsc, 'PYRt2');"
   ]
  },
  {
   "cell_type": "code",
   "execution_count": 7,
   "id": "ea6b077e",
   "metadata": {},
   "outputs": [],
   "source": [
    "# oxidative phosphorylation\n",
    "OXP_nadh= Reaction(id='OXP_nadh',name='Oxidative Phosphorylation (NADH)',subsystem= 'Oxidative Phosphorylation',\n",
    "                lower_bound=0.0,upper_bound=1000.0)\n",
    "OXP_fadh2= Reaction(id='OXP_fadh2',name='Oxidative Phosphorylation (FADH2)',subsystem= 'Oxidative Phosphorylation',\n",
    "                lower_bound=0.0,upper_bound=1000.0)\n",
    "ipsc_core.add_reactions([OXP_nadh,OXP_fadh2])\n",
    "ipsc_core.reactions.OXP_nadh.build_reaction_from_string('nadh_m + 2.5 adp_m + 2.5 pi_m + 3.5 h_m + 0.5 o2_m \\\n",
    "                    --> nad_m + 2.5 atp_m + 3.5 h2o_m')\n",
    "ipsc_core.reactions.OXP_fadh2.build_reaction_from_string('fadh2_m + 1.5 adp_m + 1.5 pi_m + 1.5 h_m + 0.5 o2_m \\\n",
    "                --> fad_m + 1.5 atp_m + 2.5 h2o_m')"
   ]
  },
  {
   "cell_type": "code",
   "execution_count": 8,
   "id": "403db48c",
   "metadata": {},
   "outputs": [],
   "source": [
    "# urea cycle\n",
    "add_rxn(ipsc_core, ipsc, 'ARGNm'); add_rxn(ipsc_core, ipsc, 'UREAtm'); add_rxn(ipsc_core, ipsc, 'OCBTm');\n",
    "add_rxn(ipsc_core, ipsc, 'CBPSam'); add_rxn(ipsc_core, ipsc, 'CITRtm');add_rxn(ipsc_core, ipsc, 'ORNt4m');\n",
    "add_rxn(ipsc_core, ipsc, 'ARGSS'); add_rxn(ipsc_core, ipsc, 'ARGSL'); add_rxn(ipsc_core, ipsc, 'ORNTArm');\n",
    "add_rxn(ipsc_core, ipsc, 'GLU5SAtmc'); add_rxn(ipsc_core, icho, 'G5SADs'); add_rxn(ipsc_core, ipsc, 'P5CRx');\n",
    "add_rxn(ipsc_core, ipsc, 'P5CR');"
   ]
  },
  {
   "cell_type": "code",
   "execution_count": 9,
   "id": "2e12e640",
   "metadata": {},
   "outputs": [],
   "source": [
    "# Nucleotide, NAD+ & NADPH synthesis\n",
    "NU_rxns = ['GHMT2r','GLUPRT','PRAGSr','GARFT','PRFGS','PRAIS','AIRCr','PRASCSi','ADSL2r','AICART','IMPC',\n",
    "          'ADSS','ADSL1r','ADK1','IMPD','GMPS2','GK1','CBPS','ASPCT','DHORTS','DHORD9','ORPT','OMPDC','UMPK',\n",
    "           'NDPK2','NDPK1','NDPK3','CTPS1','CTPS2','RNDR1','RNDR2','RNDR3','RNDR4','DCMPDA','TMDS','NADK',\n",
    "          'NNDPR','DNADDP','NADS2']\n",
    "for rxn_id in NU_rxns:\n",
    "    add_rxn(ipsc_core, ipsc, rxn_id);\n",
    "ipsc_core.reactions.DNADDP.lower_bound=-1000.0"
   ]
  },
  {
   "cell_type": "code",
   "execution_count": 10,
   "id": "e40c361b",
   "metadata": {},
   "outputs": [],
   "source": [
    "# Amino acid metabolism\n",
    "AA_rxns = AA_rxns + ['GLUt2m','FTHFDH','FTHFLi','2AMACHYD','HMGLm','DHPR','IZPN','FTCD','MTHFC']\n",
    "add_rxn(ipsc_core, icho, 'THRD'); add_rxn(ipsc_core, icho, 'OBDHm'); add_rxn(ipsc_core, icho, 'MMMm');\n",
    "add_rxn(ipsc_core, icho, 'AM6SAD'); add_rxn(ipsc_core, icho, 'AMCOXO');\n",
    "\n",
    "for rxn_id in AA_rxns:\n",
    "    add_rxn(ipsc_core, ipsc, rxn_id);"
   ]
  },
  {
   "cell_type": "code",
   "execution_count": 11,
   "id": "17ec917a",
   "metadata": {},
   "outputs": [],
   "source": [
    "# Lipid synthesis\n",
    "lipid_rxns = ['CHOLK','PSSA1','PSFLIPm','PSDm','PE_CHOtm','GPDDA1','MI3PS','MI3PP']\n",
    "for rxn_id in lipid_rxns:\n",
    "    add_rxn(ipsc_core, ipsc, rxn_id);\n",
    "ipsc_core.reactions.GPDDA1.lower_bound=-1000.0\n",
    "\n",
    "PC_syn = Reaction(id='PC_syn',name='Phosphatidylcholine synthesis',subsystem= 'Glycerophospholipid Metabolism',\n",
    "                lower_bound=-1000.0,upper_bound=1000.0)\n",
    "PAIL_syn = Reaction(id='PAIL_syn',name='Phosphatidylinositol synthesis',subsystem= 'Glycerophospholipid Metabolism',\n",
    "                lower_bound=-1000.0,upper_bound=1000.0)\n",
    "PG_syn = Reaction(id='PG_syn',name='Phosphatidylglycerol synthesis',subsystem= 'Glycerophospholipid Metabolism',\n",
    "                lower_bound=-1000.0,upper_bound=1000.0)\n",
    "SM_syn = Reaction(id='SM_syn',name='Sphingomyelin synthesis',subsystem= 'Glycerophospholipid Metabolism',\n",
    "                lower_bound=-1000.0,upper_bound=1000.0)\n",
    "Cholesterol_syn = Reaction(id='Cholesterol_syn',name='Cholesterol synthesis',subsystem= 'Cholesterol Metabolism',\n",
    "                lower_bound=-1000.0,upper_bound=1000.0)\n",
    "ipsc_core.add_reactions([PC_syn,PAIL_syn,PG_syn,SM_syn,Cholesterol_syn])\n",
    "add_metabolite(ipsc_core, ipsc, 'pail_psc_c' ); add_metabolite(ipsc_core, ipsc, 'pglyc_psc_c' );\n",
    "add_metabolite(ipsc_core, ipsc, 'sphmyln_psc_c'); add_metabolite(ipsc_core, ipsc, 'xolest_psc_c');\n",
    "ipsc_core.reactions.PC_syn.build_reaction_from_string('cholp_c + 18 accoa_c + glyc3p_c + 22 atp_c + 33 nadh_c \\\n",
    "                --> pchol_psc_c + 16 adp_c + 6 amp_c + 33 nad_c')\n",
    "ipsc_core.reactions.PAIL_syn.build_reaction_from_string('inost_c + 18 accoa_c + glyc3p_c + 22 atp_c + 33 nadh_c \\\n",
    "            --> pail_psc_c + 16 adp_c + 6 amp_c + 33 nad_c')\n",
    "ipsc_core.reactions.PG_syn.build_reaction_from_string('18 accoa_c + 2 glyc3p_c + 22 atp_c + 33 nadh_c \\\n",
    "                                            --> pglyc_psc_c + 16 adp_c + 6 amp_c + 33 nad_c')\n",
    "ipsc_core.reactions.SM_syn.build_reaction_from_string('16 accoa_c + ser__L_c + chol_c + 16 atp_c + 29 nadh_c \\\n",
    "                --> sphmyln_psc_c + 2 co2_c + 14 adp_c + 2 amp_c + 29 nad_c')\n",
    "ipsc_core.reactions.Cholesterol_syn.build_reaction_from_string('18 accoa_c + 18 atp_c + 14 nadph_c \\\n",
    "            --> xolest_psc_c + 9 co2_c + 18 adp_c + 14 nadp_c')"
   ]
  },
  {
   "cell_type": "code",
   "execution_count": 12,
   "id": "83bc9d9d",
   "metadata": {},
   "outputs": [],
   "source": [
    "# Nucleotide sugar biosynthesis\n",
    "nu_sugar_rxns = ['ACOAH','G3PD1ir','BETALDHxm','BETALDHx','SARDHm','MAN6PI','PMANM','MAN1PT2','MAN1PT','GF6PTA',\n",
    "                'ACGAM6PS','ACGAMPM','UAGDP','UAG2EMA','AMANK','ACNAM9PL','ACNAMPH','ACNMCT','GMAND','UAG4Ei',\n",
    "                'CACNAO2','CACNAO']\n",
    "for rxn_id in nu_sugar_rxns:\n",
    "    add_rxn(ipsc_core, ipsc, rxn_id);"
   ]
  },
  {
   "cell_type": "code",
   "execution_count": 13,
   "id": "2c4871b2",
   "metadata": {},
   "outputs": [],
   "source": [
    "# save_json_model(ipsc_core,'../data/gems/iPSC_core.json')"
   ]
  },
  {
   "cell_type": "code",
   "execution_count": 14,
   "id": "beb58366",
   "metadata": {},
   "outputs": [
    {
     "data": {
      "text/plain": [
       "[<Metabolite glc__D_e at 0x7fca0eebe910>,\n",
       " <Metabolite h_e at 0x7fca0eebe280>,\n",
       " <Metabolite lac__L_e at 0x7fca0e79c670>,\n",
       " <Metabolite pi_e at 0x7fca0e79cc10>,\n",
       " <Metabolite o2_e at 0x7fca0e79ccd0>,\n",
       " <Metabolite nh4_e at 0x7fca0e79c5b0>,\n",
       " <Metabolite h2o_e at 0x7fca289dbc40>,\n",
       " <Metabolite pyr_e at 0x7fca289dbf40>]"
      ]
     },
     "execution_count": 14,
     "metadata": {},
     "output_type": "execute_result"
    }
   ],
   "source": [
    "ipsc_core.metabolites.query('_e')"
   ]
  },
  {
   "cell_type": "code",
   "execution_count": null,
   "id": "84ad36ff",
   "metadata": {},
   "outputs": [],
   "source": []
  }
 ],
 "metadata": {
  "kernelspec": {
   "display_name": "Python 3 (ipykernel)",
   "language": "python",
   "name": "python3"
  },
  "language_info": {
   "codemirror_mode": {
    "name": "ipython",
    "version": 3
   },
   "file_extension": ".py",
   "mimetype": "text/x-python",
   "name": "python",
   "nbconvert_exporter": "python",
   "pygments_lexer": "ipython3",
   "version": "3.8.10"
  }
 },
 "nbformat": 4,
 "nbformat_minor": 5
}
